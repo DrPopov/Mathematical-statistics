{
 "cells": [
  {
   "cell_type": "code",
   "execution_count": 1,
   "metadata": {},
   "outputs": [],
   "source": [
    "import pandas as pd\n",
    "import numpy as np\n",
    "import scipy as sc\n",
    "import matplotlib.pyplot as plt\n",
    "import pylab\n",
    "from scipy.stats import geom"
   ]
  },
  {
   "cell_type": "code",
   "execution_count": 2,
   "metadata": {},
   "outputs": [],
   "source": [
    "fin = open(\"sequence.txt\")\n",
    "fd = fin.read()"
   ]
  },
  {
   "cell_type": "code",
   "execution_count": 3,
   "metadata": {},
   "outputs": [],
   "source": [
    "seq = fd.replace('\\n', '')\n"
   ]
  },
  {
   "cell_type": "code",
   "execution_count": 4,
   "metadata": {},
   "outputs": [],
   "source": [
    "# вдвигаемся по списку, пока не найдем нужным нам нуклеотид(Т)\n",
    "seq_list = [] # список, который будет содеражть кол-во шагов до встречи нужного нуклеотида\n",
    "i = 1 # счетчик\n",
    "\n",
    "for elem in seq:\n",
    "\n",
    "    if elem != 'T':\n",
    "        i += 1\n",
    "    else:\n",
    "        seq_list.append(i)\n",
    "        i = 1\n",
    "        "
   ]
  },
  {
   "cell_type": "code",
   "execution_count": 5,
   "metadata": {},
   "outputs": [],
   "source": [
    "def make_gist_database(seq, p ):\n",
    "    fig, ax = plt.subplots(1,1)\n",
    "    rgb = 'cmrgb'\n",
    "    t = []\n",
    "    #for k in range(len(seq)):\n",
    "        #t.append(len(seq))\n",
    "    plt.grid(True) #Сетка\n",
    "    plt.hist(seq, alpha = 0.5, color=rgb[1], histtype='stepfilled', density=True, label = 'Гистограмма частот при p = %s'%p, bins = 65)\n",
    "    x = np.arange(1, 30)\n",
    "    ax.plot(x, geom.pmf(x, p), 'navy', ms = 5, label = 'geom pmf')\n",
    "    ax.legend(loc = 'upper right', frameon = True)\n",
    "    \n",
    "    #plt.show()"
   ]
  },
  {
   "cell_type": "code",
   "execution_count": 6,
   "metadata": {},
   "outputs": [
    {
     "data": {
      "image/png": "[encoded data removed]",
      "text/plain": [
       "<Figure size 432x288 with 1 Axes>"
      ]
     },
     "metadata": {
      "needs_background": "light"
     },
     "output_type": "display_data"
    }
   ],
   "source": [
    "make_gist_database(seq_list, 0.27)\n"
   ]
  },
  {
   "cell_type": "code",
   "execution_count": 10,
   "metadata": {},
   "outputs": [
    {
     "name": "stdout",
     "output_type": "stream",
     "text": [
      "Выборчоное среднее равно:  3.796\n",
      "Выборочная дисперсия равна:  14.77\n"
     ]
    }
   ],
   "source": [
    "print('Выборчоное среднее равно: ', np.around(np.mean(seq_list), 3))\n",
    "print('Выборочная дисперсия равна: ', np.around(np.var(seq_list),3))\n",
    "m = np.mean(seq_list)"
   ]
  },
  {
   "cell_type": "code",
   "execution_count": 8,
   "metadata": {},
   "outputs": [],
   "source": [
    "#Найдем значение  параметра через теоретическую оценку:\n",
    "m = np.mean(seq_list)\n",
    "p = 1 / m\n",
    "    "
   ]
  },
  {
   "cell_type": "code",
   "execution_count": 9,
   "metadata": {},
   "outputs": [
    {
     "name": "stdout",
     "output_type": "stream",
     "text": [
      "Оценка параметра равна: 0.263\n"
     ]
    }
   ],
   "source": [
    "print('Оценка параметра равна:', np.around(p,3))"
   ]
  }
 ],
 "metadata": {
  "kernelspec": {
   "display_name": "Python 3",
   "language": "python",
   "name": "python3"
  },
  "language_info": {
   "codemirror_mode": {
    "name": "ipython",
    "version": 3
   },
   "file_extension": ".py",
   "mimetype": "text/x-python",
   "name": "python",
   "nbconvert_exporter": "python",
   "pygments_lexer": "ipython3",
   "version": "3.7.3"
  }
 },
 "nbformat": 4,
 "nbformat_minor": 2
}
