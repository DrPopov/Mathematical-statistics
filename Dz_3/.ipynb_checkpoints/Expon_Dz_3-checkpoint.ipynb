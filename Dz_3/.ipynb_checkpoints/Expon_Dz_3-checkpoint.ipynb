{
 "cells": [
  {
   "cell_type": "markdown",
   "metadata": {},
   "source": [
    "# Задание 3.1 Выборочное среднее и выборочная дисперсия"
   ]
  },
  {
   "cell_type": "code",
   "execution_count": 1,
   "metadata": {},
   "outputs": [],
   "source": [
    "# my own func\n",
    "import random \n",
    "import timeit\n",
    "import matplotlib.pyplot as plt\n",
    "import random\n",
    "import numpy as np\n",
    "import pandas as pd\n",
    "import pylab\n",
    "import math \n",
    "\n",
    "def my_expon(lam, n):\n",
    "    lst = []\n",
    "    for i in range(n):\n",
    "        r = random.random()\n",
    "        x = -math.log(r,math.e) / lam\n",
    "        lst.append(float('{:.3f}'.format(x)))\n",
    "    \n",
    "    return lst\n",
    "    \n",
    "# Создание m массивов выборки\n",
    "def make_expon_vibor(lam, m):\n",
    "    A = []\n",
    "    for i in range(5):\n",
    "        row = []\n",
    "        A.append(row)\n",
    "    \n",
    "        row.append(my_expon(lam, m))\n",
    "        \n",
    "    l = 1\n",
    "    #print('Реализация выборки экспоненциального распределени объема %d: '%m)\n",
    "    #print('')\n",
    "    for k in A:\n",
    "        #print('%d): '%l, end='')\n",
    "        #print(*k)\n",
    "        l += 1\n",
    "    return A"
   ]
  },
  {
   "cell_type": "code",
   "execution_count": 2,
   "metadata": {},
   "outputs": [],
   "source": [
    "#функция для построения вар.рядов для 5 реализаций  выборки M для n\n",
    "def expon_count_var_row(M, n):\n",
    "    dict_set = {}\n",
    "    \n",
    "    for sp in range(5):\n",
    "        dict_set = {}\n",
    "        for i in M[sp]:\n",
    "            s1 = sorted(set(i))\n",
    "            \n",
    "            #заносим все различные знаения выборки в словарь\n",
    "            for k in s1:\n",
    "                dict_set[str(k)] = 0\n",
    "            \n",
    "            #считаем сколько раз каждое из них встречается\n",
    "            for t in i:\n",
    "                dict_set[str(t)] += 1\n",
    "            \n",
    "            # Переделываем знчения в список\n",
    "            dict_viborka = {k: [v] for k, v in dict_set.items()}\n",
    "            \n",
    "            # создаем DataFrame\n",
    "            df = pd.DataFrame(dict_viborka,index = list('f'))   "
   ]
  },
  {
   "cell_type": "code",
   "execution_count": 3,
   "metadata": {},
   "outputs": [],
   "source": [
    "#функция для построения вар.рядов для 5 реализаций  выборки M для n\n",
    "def print_expon_var_row(M, n):\n",
    "    dict_set = {}\n",
    "    \n",
    "    print('Вариационные ряды для 5 реализаций выборки, объема  %d:  '%n)\n",
    "    print('')\n",
    "    \n",
    "    for sp in range(5):\n",
    "        dict_set = {}\n",
    "        for i in M[sp]:\n",
    "            s1 = sorted(set(i))\n",
    "            \n",
    "            #заносим все различные знаения выборки в словарь\n",
    "            for k in s1:\n",
    "                dict_set[str(k)] = 0\n",
    "            \n",
    "            #считаем сколько раз каждое из них встречается\n",
    "            for t in i:\n",
    "                dict_set[str(t)] += 1\n",
    "            \n",
    "            # Переделываем знчения в список\n",
    "            dict_viborka = {k: [v] for k, v in dict_set.items()}\n",
    "            \n",
    "            #делаем красиво\n",
    "            print('')\n",
    "            print('Вариационный ряд выборки %s объема %d: '%(sp + 1, n) )\n",
    "            \n",
    "            # создаем DataFrame и выводим его на экран\n",
    "            df = pd.DataFrame(dict_viborka,index = list('f'))    \n",
    "            display(df)"
   ]
  },
  {
   "cell_type": "code",
   "execution_count": 4,
   "metadata": {},
   "outputs": [],
   "source": [
    "# функция для вывода на экран выборочного среднего\n",
    "# M - 5 выборка одиннакового объема\n",
    "\n",
    "def print_expon_sample_mean(M, n):\n",
    "    for i in range(5):\n",
    "        print(np.mean(M[i]))"
   ]
  },
  {
   "cell_type": "code",
   "execution_count": 5,
   "metadata": {},
   "outputs": [],
   "source": [
    "# функция для подсчета выборочного среднего\n",
    "def expon_count_sample_mean(M, n):\n",
    "    for i in range(5):\n",
    "        return(np.mean(M[i]))"
   ]
  },
  {
   "cell_type": "code",
   "execution_count": 6,
   "metadata": {},
   "outputs": [],
   "source": [
    "# вычисляем выборочную дисперсию\n",
    "def expon_count_sample_covariance(M, n):\n",
    "    for i in range(5):\n",
    "        return(np.var(M[i]))"
   ]
  },
  {
   "cell_type": "code",
   "execution_count": 7,
   "metadata": {},
   "outputs": [],
   "source": [
    "# выводим на экран выборочную дисперсию\n",
    "def print_expon_sample_covariance(M, n):\n",
    "    for i in range(5):\n",
    "        print(np.var(M[i]))"
   ]
  },
  {
   "cell_type": "code",
   "execution_count": 8,
   "metadata": {},
   "outputs": [],
   "source": [
    "# итоговая функция, которая печатает вариациоонный ряд, выборочное среднее и выборочную дисперсию каждой выборки\n",
    "\n",
    "def final_expon_func(M, n):\n",
    "    # \n",
    "    for sp in range(5):\n",
    "        \n",
    "        N = 0\n",
    "        sample_mean_sum = 0\n",
    "        sam = 0\n",
    "  \n",
    "        dict_set = {}\n",
    "        \n",
    "        for i in M[sp]:\n",
    "            s1 = sorted(set(i))\n",
    "            \n",
    "            #заносим все различные знаения выборки в словарь\n",
    "            for k in s1:\n",
    "                dict_set[str(k)] = 0\n",
    "            \n",
    "            #считаем сколько раз каждое из них встречается\n",
    "            for t in i:\n",
    "                dict_set[str(t)] += 1\n",
    "            \n",
    "            # Переделываем знчения в список\n",
    "            dict_viborka = {k: [v] for k, v in dict_set.items()}\n",
    "            \n",
    "            #делаем красиво\n",
    "            print('')\n",
    "            print('Вариационный ряд выборки %s объема %d: '%(sp + 1, n) )\n",
    "            \n",
    "            # создаем DataFrame и выводим его на экран\n",
    "            df = pd.DataFrame(dict_viborka, index = list('f'))\n",
    "            display(df)\n",
    "            \n",
    "            \n",
    "\n",
    "        \n",
    "        # считаем выборочное среднее\n",
    "        print('Выборочное среднее этой выборки равно: ', np.around(np.mean(M[sp]), 3))\n",
    "\n",
    "        print('Выборочная дисперсия этой выборки  равна: ', np.around(np.var(M[sp]), 3))"
   ]
  },
  {
   "cell_type": "code",
   "execution_count": 9,
   "metadata": {},
   "outputs": [],
   "source": [
    "# итоговая функция, которая печатает  выборочное среднее и выборочную дисперсию каждой выборки\n",
    "\n",
    "def final_expon_func_2(M, n):\n",
    "    for sp in range(5):\n",
    "        # считаем выборочное среднее\n",
    "        print('Выборочное среднее этой выборки равно: ', np.around(np.mean(M[sp]), 3))\n",
    "   \n",
    "\n",
    "        print('Выборочная дисперсия этой выборки  равна: ', np.around(np.var(M[sp]), 3))\n",
    "        print('')"
   ]
  },
  {
   "cell_type": "code",
   "execution_count": 10,
   "metadata": {},
   "outputs": [
    {
     "name": "stdout",
     "output_type": "stream",
     "text": [
      "\n",
      "Вариационный ряд выборки 1 объема 5: \n"
     ]
    },
    {
     "data": {
      "text/html": [
       "<div>\n",
       "<style scoped>\n",
       "    .dataframe tbody tr th:only-of-type {\n",
       "        vertical-align: middle;\n",
       "    }\n",
       "\n",
       "    .dataframe tbody tr th {\n",
       "        vertical-align: top;\n",
       "    }\n",
       "\n",
       "    .dataframe thead th {\n",
       "        text-align: right;\n",
       "    }\n",
       "</style>\n",
       "<table border=\"1\" class=\"dataframe\">\n",
       "  <thead>\n",
       "    <tr style=\"text-align: right;\">\n",
       "      <th></th>\n",
       "      <th>0.11</th>\n",
       "      <th>0.684</th>\n",
       "      <th>1.218</th>\n",
       "      <th>1.282</th>\n",
       "      <th>2.723</th>\n",
       "    </tr>\n",
       "  </thead>\n",
       "  <tbody>\n",
       "    <tr>\n",
       "      <th>f</th>\n",
       "      <td>1</td>\n",
       "      <td>1</td>\n",
       "      <td>1</td>\n",
       "      <td>1</td>\n",
       "      <td>1</td>\n",
       "    </tr>\n",
       "  </tbody>\n",
       "</table>\n",
       "</div>"
      ],
      "text/plain": [
       "   0.11  0.684  1.218  1.282  2.723\n",
       "f     1      1      1      1      1"
      ]
     },
     "metadata": {},
     "output_type": "display_data"
    },
    {
     "name": "stdout",
     "output_type": "stream",
     "text": [
      "Выборочное среднее этой выборки равно:  1.203\n",
      "Выборочная дисперсия этой выборки  равна:  0.756\n",
      "\n",
      "Вариационный ряд выборки 2 объема 5: \n"
     ]
    },
    {
     "data": {
      "text/html": [
       "<div>\n",
       "<style scoped>\n",
       "    .dataframe tbody tr th:only-of-type {\n",
       "        vertical-align: middle;\n",
       "    }\n",
       "\n",
       "    .dataframe tbody tr th {\n",
       "        vertical-align: top;\n",
       "    }\n",
       "\n",
       "    .dataframe thead th {\n",
       "        text-align: right;\n",
       "    }\n",
       "</style>\n",
       "<table border=\"1\" class=\"dataframe\">\n",
       "  <thead>\n",
       "    <tr style=\"text-align: right;\">\n",
       "      <th></th>\n",
       "      <th>0.356</th>\n",
       "      <th>0.399</th>\n",
       "      <th>0.477</th>\n",
       "      <th>0.489</th>\n",
       "      <th>0.751</th>\n",
       "    </tr>\n",
       "  </thead>\n",
       "  <tbody>\n",
       "    <tr>\n",
       "      <th>f</th>\n",
       "      <td>1</td>\n",
       "      <td>1</td>\n",
       "      <td>1</td>\n",
       "      <td>1</td>\n",
       "      <td>1</td>\n",
       "    </tr>\n",
       "  </tbody>\n",
       "</table>\n",
       "</div>"
      ],
      "text/plain": [
       "   0.356  0.399  0.477  0.489  0.751\n",
       "f      1      1      1      1      1"
      ]
     },
     "metadata": {},
     "output_type": "display_data"
    },
    {
     "name": "stdout",
     "output_type": "stream",
     "text": [
      "Выборочное среднее этой выборки равно:  0.494\n",
      "Выборочная дисперсия этой выборки  равна:  0.019\n",
      "\n",
      "Вариационный ряд выборки 3 объема 5: \n"
     ]
    },
    {
     "data": {
      "text/html": [
       "<div>\n",
       "<style scoped>\n",
       "    .dataframe tbody tr th:only-of-type {\n",
       "        vertical-align: middle;\n",
       "    }\n",
       "\n",
       "    .dataframe tbody tr th {\n",
       "        vertical-align: top;\n",
       "    }\n",
       "\n",
       "    .dataframe thead th {\n",
       "        text-align: right;\n",
       "    }\n",
       "</style>\n",
       "<table border=\"1\" class=\"dataframe\">\n",
       "  <thead>\n",
       "    <tr style=\"text-align: right;\">\n",
       "      <th></th>\n",
       "      <th>0.457</th>\n",
       "      <th>0.921</th>\n",
       "      <th>1.588</th>\n",
       "      <th>2.345</th>\n",
       "      <th>4.555</th>\n",
       "    </tr>\n",
       "  </thead>\n",
       "  <tbody>\n",
       "    <tr>\n",
       "      <th>f</th>\n",
       "      <td>1</td>\n",
       "      <td>1</td>\n",
       "      <td>1</td>\n",
       "      <td>1</td>\n",
       "      <td>1</td>\n",
       "    </tr>\n",
       "  </tbody>\n",
       "</table>\n",
       "</div>"
      ],
      "text/plain": [
       "   0.457  0.921  1.588  2.345  4.555\n",
       "f      1      1      1      1      1"
      ]
     },
     "metadata": {},
     "output_type": "display_data"
    },
    {
     "name": "stdout",
     "output_type": "stream",
     "text": [
      "Выборочное среднее этой выборки равно:  1.973\n",
      "Выборочная дисперсия этой выборки  равна:  2.072\n",
      "\n",
      "Вариационный ряд выборки 4 объема 5: \n"
     ]
    },
    {
     "data": {
      "text/html": [
       "<div>\n",
       "<style scoped>\n",
       "    .dataframe tbody tr th:only-of-type {\n",
       "        vertical-align: middle;\n",
       "    }\n",
       "\n",
       "    .dataframe tbody tr th {\n",
       "        vertical-align: top;\n",
       "    }\n",
       "\n",
       "    .dataframe thead th {\n",
       "        text-align: right;\n",
       "    }\n",
       "</style>\n",
       "<table border=\"1\" class=\"dataframe\">\n",
       "  <thead>\n",
       "    <tr style=\"text-align: right;\">\n",
       "      <th></th>\n",
       "      <th>0.058</th>\n",
       "      <th>0.227</th>\n",
       "      <th>0.29</th>\n",
       "      <th>0.334</th>\n",
       "      <th>0.359</th>\n",
       "    </tr>\n",
       "  </thead>\n",
       "  <tbody>\n",
       "    <tr>\n",
       "      <th>f</th>\n",
       "      <td>1</td>\n",
       "      <td>1</td>\n",
       "      <td>1</td>\n",
       "      <td>1</td>\n",
       "      <td>1</td>\n",
       "    </tr>\n",
       "  </tbody>\n",
       "</table>\n",
       "</div>"
      ],
      "text/plain": [
       "   0.058  0.227  0.29  0.334  0.359\n",
       "f      1      1     1      1      1"
      ]
     },
     "metadata": {},
     "output_type": "display_data"
    },
    {
     "name": "stdout",
     "output_type": "stream",
     "text": [
      "Выборочное среднее этой выборки равно:  0.254\n",
      "Выборочная дисперсия этой выборки  равна:  0.012\n",
      "\n",
      "Вариационный ряд выборки 5 объема 5: \n"
     ]
    },
    {
     "data": {
      "text/html": [
       "<div>\n",
       "<style scoped>\n",
       "    .dataframe tbody tr th:only-of-type {\n",
       "        vertical-align: middle;\n",
       "    }\n",
       "\n",
       "    .dataframe tbody tr th {\n",
       "        vertical-align: top;\n",
       "    }\n",
       "\n",
       "    .dataframe thead th {\n",
       "        text-align: right;\n",
       "    }\n",
       "</style>\n",
       "<table border=\"1\" class=\"dataframe\">\n",
       "  <thead>\n",
       "    <tr style=\"text-align: right;\">\n",
       "      <th></th>\n",
       "      <th>0.015</th>\n",
       "      <th>0.625</th>\n",
       "      <th>0.777</th>\n",
       "      <th>0.987</th>\n",
       "      <th>1.668</th>\n",
       "    </tr>\n",
       "  </thead>\n",
       "  <tbody>\n",
       "    <tr>\n",
       "      <th>f</th>\n",
       "      <td>1</td>\n",
       "      <td>1</td>\n",
       "      <td>1</td>\n",
       "      <td>1</td>\n",
       "      <td>1</td>\n",
       "    </tr>\n",
       "  </tbody>\n",
       "</table>\n",
       "</div>"
      ],
      "text/plain": [
       "   0.015  0.625  0.777  0.987  1.668\n",
       "f      1      1      1      1      1"
      ]
     },
     "metadata": {},
     "output_type": "display_data"
    },
    {
     "name": "stdout",
     "output_type": "stream",
     "text": [
      "Выборочное среднее этой выборки равно:  0.814\n",
      "Выборочная дисперсия этой выборки  равна:  0.287\n"
     ]
    }
   ],
   "source": [
    "# Для n =  5\n",
    "n = 5\n",
    "M = make_expon_vibor(0.8, n)\n",
    "final_expon_func(M, n)"
   ]
  },
  {
   "cell_type": "code",
   "execution_count": 11,
   "metadata": {
    "scrolled": true
   },
   "outputs": [
    {
     "name": "stdout",
     "output_type": "stream",
     "text": [
      "\n",
      "Вариационный ряд выборки 1 объема 10: \n"
     ]
    },
    {
     "data": {
      "text/html": [
       "<div>\n",
       "<style scoped>\n",
       "    .dataframe tbody tr th:only-of-type {\n",
       "        vertical-align: middle;\n",
       "    }\n",
       "\n",
       "    .dataframe tbody tr th {\n",
       "        vertical-align: top;\n",
       "    }\n",
       "\n",
       "    .dataframe thead th {\n",
       "        text-align: right;\n",
       "    }\n",
       "</style>\n",
       "<table border=\"1\" class=\"dataframe\">\n",
       "  <thead>\n",
       "    <tr style=\"text-align: right;\">\n",
       "      <th></th>\n",
       "      <th>0.042</th>\n",
       "      <th>0.094</th>\n",
       "      <th>0.19</th>\n",
       "      <th>0.401</th>\n",
       "      <th>0.409</th>\n",
       "      <th>0.97</th>\n",
       "      <th>1.024</th>\n",
       "      <th>1.059</th>\n",
       "      <th>1.067</th>\n",
       "      <th>1.497</th>\n",
       "    </tr>\n",
       "  </thead>\n",
       "  <tbody>\n",
       "    <tr>\n",
       "      <th>f</th>\n",
       "      <td>1</td>\n",
       "      <td>1</td>\n",
       "      <td>1</td>\n",
       "      <td>1</td>\n",
       "      <td>1</td>\n",
       "      <td>1</td>\n",
       "      <td>1</td>\n",
       "      <td>1</td>\n",
       "      <td>1</td>\n",
       "      <td>1</td>\n",
       "    </tr>\n",
       "  </tbody>\n",
       "</table>\n",
       "</div>"
      ],
      "text/plain": [
       "   0.042  0.094  0.19  0.401  0.409  0.97  1.024  1.059  1.067  1.497\n",
       "f      1      1     1      1      1     1      1      1      1      1"
      ]
     },
     "metadata": {},
     "output_type": "display_data"
    },
    {
     "name": "stdout",
     "output_type": "stream",
     "text": [
      "Выборочное среднее этой выборки равно:  0.675\n",
      "Выборочная дисперсия этой выборки  равна:  0.23\n",
      "\n",
      "Вариационный ряд выборки 2 объема 10: \n"
     ]
    },
    {
     "data": {
      "text/html": [
       "<div>\n",
       "<style scoped>\n",
       "    .dataframe tbody tr th:only-of-type {\n",
       "        vertical-align: middle;\n",
       "    }\n",
       "\n",
       "    .dataframe tbody tr th {\n",
       "        vertical-align: top;\n",
       "    }\n",
       "\n",
       "    .dataframe thead th {\n",
       "        text-align: right;\n",
       "    }\n",
       "</style>\n",
       "<table border=\"1\" class=\"dataframe\">\n",
       "  <thead>\n",
       "    <tr style=\"text-align: right;\">\n",
       "      <th></th>\n",
       "      <th>0.002</th>\n",
       "      <th>0.092</th>\n",
       "      <th>0.379</th>\n",
       "      <th>0.565</th>\n",
       "      <th>0.6</th>\n",
       "      <th>1.979</th>\n",
       "      <th>2.395</th>\n",
       "      <th>2.443</th>\n",
       "      <th>2.82</th>\n",
       "      <th>7.299</th>\n",
       "    </tr>\n",
       "  </thead>\n",
       "  <tbody>\n",
       "    <tr>\n",
       "      <th>f</th>\n",
       "      <td>1</td>\n",
       "      <td>1</td>\n",
       "      <td>1</td>\n",
       "      <td>1</td>\n",
       "      <td>1</td>\n",
       "      <td>1</td>\n",
       "      <td>1</td>\n",
       "      <td>1</td>\n",
       "      <td>1</td>\n",
       "      <td>1</td>\n",
       "    </tr>\n",
       "  </tbody>\n",
       "</table>\n",
       "</div>"
      ],
      "text/plain": [
       "   0.002  0.092  0.379  0.565  0.6  1.979  2.395  2.443  2.82  7.299\n",
       "f      1      1      1      1    1      1      1      1     1      1"
      ]
     },
     "metadata": {},
     "output_type": "display_data"
    },
    {
     "name": "stdout",
     "output_type": "stream",
     "text": [
      "Выборочное среднее этой выборки равно:  1.857\n",
      "Выборочная дисперсия этой выборки  равна:  4.318\n",
      "\n",
      "Вариационный ряд выборки 3 объема 10: \n"
     ]
    },
    {
     "data": {
      "text/html": [
       "<div>\n",
       "<style scoped>\n",
       "    .dataframe tbody tr th:only-of-type {\n",
       "        vertical-align: middle;\n",
       "    }\n",
       "\n",
       "    .dataframe tbody tr th {\n",
       "        vertical-align: top;\n",
       "    }\n",
       "\n",
       "    .dataframe thead th {\n",
       "        text-align: right;\n",
       "    }\n",
       "</style>\n",
       "<table border=\"1\" class=\"dataframe\">\n",
       "  <thead>\n",
       "    <tr style=\"text-align: right;\">\n",
       "      <th></th>\n",
       "      <th>0.023</th>\n",
       "      <th>0.113</th>\n",
       "      <th>0.154</th>\n",
       "      <th>0.216</th>\n",
       "      <th>0.519</th>\n",
       "      <th>0.674</th>\n",
       "      <th>1.091</th>\n",
       "      <th>1.171</th>\n",
       "      <th>1.371</th>\n",
       "      <th>1.864</th>\n",
       "    </tr>\n",
       "  </thead>\n",
       "  <tbody>\n",
       "    <tr>\n",
       "      <th>f</th>\n",
       "      <td>1</td>\n",
       "      <td>1</td>\n",
       "      <td>1</td>\n",
       "      <td>1</td>\n",
       "      <td>1</td>\n",
       "      <td>1</td>\n",
       "      <td>1</td>\n",
       "      <td>1</td>\n",
       "      <td>1</td>\n",
       "      <td>1</td>\n",
       "    </tr>\n",
       "  </tbody>\n",
       "</table>\n",
       "</div>"
      ],
      "text/plain": [
       "   0.023  0.113  0.154  0.216  0.519  0.674  1.091  1.171  1.371  1.864\n",
       "f      1      1      1      1      1      1      1      1      1      1"
      ]
     },
     "metadata": {},
     "output_type": "display_data"
    },
    {
     "name": "stdout",
     "output_type": "stream",
     "text": [
      "Выборочное среднее этой выборки равно:  0.72\n",
      "Выборочная дисперсия этой выборки  равна:  0.354\n",
      "\n",
      "Вариационный ряд выборки 4 объема 10: \n"
     ]
    },
    {
     "data": {
      "text/html": [
       "<div>\n",
       "<style scoped>\n",
       "    .dataframe tbody tr th:only-of-type {\n",
       "        vertical-align: middle;\n",
       "    }\n",
       "\n",
       "    .dataframe tbody tr th {\n",
       "        vertical-align: top;\n",
       "    }\n",
       "\n",
       "    .dataframe thead th {\n",
       "        text-align: right;\n",
       "    }\n",
       "</style>\n",
       "<table border=\"1\" class=\"dataframe\">\n",
       "  <thead>\n",
       "    <tr style=\"text-align: right;\">\n",
       "      <th></th>\n",
       "      <th>0.121</th>\n",
       "      <th>0.263</th>\n",
       "      <th>0.334</th>\n",
       "      <th>0.385</th>\n",
       "      <th>0.518</th>\n",
       "      <th>0.549</th>\n",
       "      <th>1.155</th>\n",
       "      <th>1.202</th>\n",
       "      <th>1.394</th>\n",
       "      <th>2.399</th>\n",
       "    </tr>\n",
       "  </thead>\n",
       "  <tbody>\n",
       "    <tr>\n",
       "      <th>f</th>\n",
       "      <td>1</td>\n",
       "      <td>1</td>\n",
       "      <td>1</td>\n",
       "      <td>1</td>\n",
       "      <td>1</td>\n",
       "      <td>1</td>\n",
       "      <td>1</td>\n",
       "      <td>1</td>\n",
       "      <td>1</td>\n",
       "      <td>1</td>\n",
       "    </tr>\n",
       "  </tbody>\n",
       "</table>\n",
       "</div>"
      ],
      "text/plain": [
       "   0.121  0.263  0.334  0.385  0.518  0.549  1.155  1.202  1.394  2.399\n",
       "f      1      1      1      1      1      1      1      1      1      1"
      ]
     },
     "metadata": {},
     "output_type": "display_data"
    },
    {
     "name": "stdout",
     "output_type": "stream",
     "text": [
      "Выборочное среднее этой выборки равно:  0.832\n",
      "Выборочная дисперсия этой выборки  равна:  0.447\n",
      "\n",
      "Вариационный ряд выборки 5 объема 10: \n"
     ]
    },
    {
     "data": {
      "text/html": [
       "<div>\n",
       "<style scoped>\n",
       "    .dataframe tbody tr th:only-of-type {\n",
       "        vertical-align: middle;\n",
       "    }\n",
       "\n",
       "    .dataframe tbody tr th {\n",
       "        vertical-align: top;\n",
       "    }\n",
       "\n",
       "    .dataframe thead th {\n",
       "        text-align: right;\n",
       "    }\n",
       "</style>\n",
       "<table border=\"1\" class=\"dataframe\">\n",
       "  <thead>\n",
       "    <tr style=\"text-align: right;\">\n",
       "      <th></th>\n",
       "      <th>0.193</th>\n",
       "      <th>0.21</th>\n",
       "      <th>0.224</th>\n",
       "      <th>0.248</th>\n",
       "      <th>0.711</th>\n",
       "      <th>0.743</th>\n",
       "      <th>1.05</th>\n",
       "      <th>2.32</th>\n",
       "      <th>2.384</th>\n",
       "      <th>3.056</th>\n",
       "    </tr>\n",
       "  </thead>\n",
       "  <tbody>\n",
       "    <tr>\n",
       "      <th>f</th>\n",
       "      <td>1</td>\n",
       "      <td>1</td>\n",
       "      <td>1</td>\n",
       "      <td>1</td>\n",
       "      <td>1</td>\n",
       "      <td>1</td>\n",
       "      <td>1</td>\n",
       "      <td>1</td>\n",
       "      <td>1</td>\n",
       "      <td>1</td>\n",
       "    </tr>\n",
       "  </tbody>\n",
       "</table>\n",
       "</div>"
      ],
      "text/plain": [
       "   0.193  0.21  0.224  0.248  0.711  0.743  1.05  2.32  2.384  3.056\n",
       "f      1     1      1      1      1      1     1     1      1      1"
      ]
     },
     "metadata": {},
     "output_type": "display_data"
    },
    {
     "name": "stdout",
     "output_type": "stream",
     "text": [
      "Выборочное среднее этой выборки равно:  1.114\n",
      "Выборочная дисперсия этой выборки  равна:  1.035\n"
     ]
    }
   ],
   "source": [
    "# Для n =  10\n",
    "n = 10\n",
    "M = make_expon_vibor(0.8, n)\n",
    "final_expon_func(M, n)"
   ]
  },
  {
   "cell_type": "code",
   "execution_count": 12,
   "metadata": {},
   "outputs": [
    {
     "name": "stdout",
     "output_type": "stream",
     "text": [
      "Выборочное среднее этой выборки равно:  1.153\n",
      "Выборочная дисперсия этой выборки  равна:  1.299\n",
      "\n",
      "Выборочное среднее этой выборки равно:  1.302\n",
      "Выборочная дисперсия этой выборки  равна:  2.098\n",
      "\n",
      "Выборочное среднее этой выборки равно:  1.333\n",
      "Выборочная дисперсия этой выборки  равна:  1.53\n",
      "\n",
      "Выборочное среднее этой выборки равно:  1.329\n",
      "Выборочная дисперсия этой выборки  равна:  1.642\n",
      "\n",
      "Выборочное среднее этой выборки равно:  0.957\n",
      "Выборочная дисперсия этой выборки  равна:  1.109\n",
      "\n"
     ]
    }
   ],
   "source": [
    "# Для n =  100\n",
    "n = 100\n",
    "M = make_expon_vibor(0.8, n)\n",
    "final_expon_func_2(M, n)"
   ]
  },
  {
   "cell_type": "code",
   "execution_count": 13,
   "metadata": {},
   "outputs": [
    {
     "name": "stdout",
     "output_type": "stream",
     "text": [
      "Выборочное среднее этой выборки равно:  1.281\n",
      "Выборочная дисперсия этой выборки  равна:  1.603\n",
      "\n",
      "Выборочное среднее этой выборки равно:  1.286\n",
      "Выборочная дисперсия этой выборки  равна:  1.736\n",
      "\n",
      "Выборочное среднее этой выборки равно:  1.21\n",
      "Выборочная дисперсия этой выборки  равна:  1.515\n",
      "\n",
      "Выборочное среднее этой выборки равно:  1.301\n",
      "Выборочная дисперсия этой выборки  равна:  1.909\n",
      "\n",
      "Выборочное среднее этой выборки равно:  1.234\n",
      "Выборочная дисперсия этой выборки  равна:  1.645\n",
      "\n"
     ]
    }
   ],
   "source": [
    "#Для n =  1000\n",
    "n = 1000\n",
    "M = make_expon_vibor(0.8, n)\n",
    "final_expon_func_2(M, n)"
   ]
  },
  {
   "cell_type": "code",
   "execution_count": 14,
   "metadata": {},
   "outputs": [
    {
     "name": "stdout",
     "output_type": "stream",
     "text": [
      "Выборочное среднее этой выборки равно:  1.247\n",
      "Выборочная дисперсия этой выборки  равна:  1.553\n",
      "\n",
      "Выборочное среднее этой выборки равно:  1.255\n",
      "Выборочная дисперсия этой выборки  равна:  1.558\n",
      "\n",
      "Выборочное среднее этой выборки равно:  1.255\n",
      "Выборочная дисперсия этой выборки  равна:  1.578\n",
      "\n",
      "Выборочное среднее этой выборки равно:  1.246\n",
      "Выборочная дисперсия этой выборки  равна:  1.541\n",
      "\n",
      "Выборочное среднее этой выборки равно:  1.252\n",
      "Выборочная дисперсия этой выборки  равна:  1.563\n",
      "\n"
     ]
    }
   ],
   "source": [
    "#Для n =  1000\n",
    "n = 10**5\n",
    "M = make_expon_vibor(0.8, n)\n",
    "final_expon_func_2(M, n)"
   ]
  },
  {
   "cell_type": "markdown",
   "metadata": {},
   "source": [
    "# Доверительный интервал для выборчного среднего"
   ]
  },
  {
   "cell_type": "code",
   "execution_count": 15,
   "metadata": {},
   "outputs": [],
   "source": [
    "import math\n",
    "import numpy as np\n",
    "\n",
    "# расчет доверительного интервала \n",
    "def expon_conf_int(M, x, n):\n",
    "    \n",
    "    # M - выборка \n",
    "    # x - выборочное среднее\n",
    "    # n - объем выборки\n",
    "    \n",
    "    # значение квантиля распределения Стьюдента для n = 5, 10, 100, 1000, 10**5\n",
    "    ta = [2.77, 2.26, 1.98,  1.96, 1.96]\n",
    "    # вычисляем корень из n\n",
    "    n_2 = math.sqrt(n)\n",
    "\n",
    "    if n == 5:\n",
    "        ta_n = ta[0]\n",
    "    elif n == 10:\n",
    "        ta_n = ta[1]\n",
    "    elif n == 100:\n",
    "        ta_n = ta[2]\n",
    "    elif n == 1000:\n",
    "        ta_n = ta[3]\n",
    "    elif n == 10**5:\n",
    "        ta_n = ta[4]\n",
    "    \n",
    "    \n",
    "    # расчет среднеквадратического отклонения\n",
    "    i = 0\n",
    "    for vibor in M:\n",
    "        final_sum = 0\n",
    "        for mass in vibor:\n",
    "            i += 1\n",
    "            # идем по выборке из 5 элементов\n",
    "            for elem in mass:\n",
    "                final_sum += (elem - x)**2\n",
    "            #вычисляем сигму в квадрате\n",
    "            sigma_2 = final_sum / n\n",
    "\n",
    "            #реднеквадратическое отклонение\n",
    "            s = math.sqrt((n * sigma_2) / (n - 1))\n",
    "\n",
    "\n",
    "            # нижняя граница\n",
    "            lower_border = x - ta_n * s / n_2\n",
    "\n",
    "            # верхняя граница\n",
    "            upper_border = x + ta_n * s / n_2\n",
    "\n",
    "            print('Для %s реализации выборки объема %s доверительный интервал равен: (%s <= a <=  %s)' %(i , n, np.around(lower_border, 3), np.around(upper_border,3)))"
   ]
  },
  {
   "cell_type": "code",
   "execution_count": 16,
   "metadata": {},
   "outputs": [],
   "source": [
    "# ф-ия для второго задания- делает выборку, считает выборочное среднее и находит довериельный интервал\n",
    "def expon_func_for_2_ex(n):\n",
    "\n",
    "    M = make_expon_vibor(0.8, n)\n",
    "    mean = expon_count_sample_mean(M, n)\n",
    "    expon_conf_int(M, mean, n)\n",
    "    "
   ]
  },
  {
   "cell_type": "code",
   "execution_count": 17,
   "metadata": {},
   "outputs": [
    {
     "name": "stdout",
     "output_type": "stream",
     "text": [
      "Для 1 реализации выборки объема 5 доверительный интервал равен: (0.18 <= a <=  2.645)\n",
      "Для 2 реализации выборки объема 5 доверительный интервал равен: (0.13 <= a <=  2.695)\n",
      "Для 3 реализации выборки объема 5 доверительный интервал равен: (-1.001 <= a <=  3.826)\n",
      "Для 4 реализации выборки объема 5 доверительный интервал равен: (0.217 <= a <=  2.608)\n",
      "Для 5 реализации выборки объема 5 доверительный интервал равен: (0.305 <= a <=  2.52)\n"
     ]
    }
   ],
   "source": [
    "expon_func_for_2_ex(5)"
   ]
  },
  {
   "cell_type": "code",
   "execution_count": 18,
   "metadata": {},
   "outputs": [
    {
     "name": "stdout",
     "output_type": "stream",
     "text": [
      "Для 1 реализации выборки объема 10 доверительный интервал равен: (0.598 <= a <=  4.184)\n",
      "Для 2 реализации выборки объема 10 доверительный интервал равен: (1.171 <= a <=  3.61)\n",
      "Для 3 реализации выборки объема 10 доверительный интервал равен: (1.028 <= a <=  3.753)\n",
      "Для 4 реализации выборки объема 10 доверительный интервал равен: (1.165 <= a <=  3.617)\n",
      "Для 5 реализации выборки объема 10 доверительный интервал равен: (1.293 <= a <=  3.489)\n"
     ]
    }
   ],
   "source": [
    "expon_func_for_2_ex(10)"
   ]
  },
  {
   "cell_type": "code",
   "execution_count": 19,
   "metadata": {},
   "outputs": [
    {
     "name": "stdout",
     "output_type": "stream",
     "text": [
      "Для 1 реализации выборки объема 100 доверительный интервал равен: (1.057 <= a <=  1.619)\n",
      "Для 2 реализации выборки объема 100 доверительный интервал равен: (1.117 <= a <=  1.559)\n",
      "Для 3 реализации выборки объема 100 доверительный интервал равен: (1.066 <= a <=  1.61)\n",
      "Для 4 реализации выборки объема 100 доверительный интервал равен: (1.075 <= a <=  1.601)\n",
      "Для 5 реализации выборки объема 100 доверительный интервал равен: (1.064 <= a <=  1.612)\n"
     ]
    }
   ],
   "source": [
    "expon_func_for_2_ex(100)"
   ]
  },
  {
   "cell_type": "code",
   "execution_count": 20,
   "metadata": {},
   "outputs": [
    {
     "name": "stdout",
     "output_type": "stream",
     "text": [
      "Для 1 реализации выборки объема 1000 доверительный интервал равен: (1.149 <= a <=  1.303)\n",
      "Для 2 реализации выборки объема 1000 доверительный интервал равен: (1.146 <= a <=  1.305)\n",
      "Для 3 реализации выборки объема 1000 доверительный интервал равен: (1.15 <= a <=  1.301)\n",
      "Для 4 реализации выборки объема 1000 доверительный интервал равен: (1.146 <= a <=  1.305)\n",
      "Для 5 реализации выборки объема 1000 доверительный интервал равен: (1.147 <= a <=  1.305)\n"
     ]
    }
   ],
   "source": [
    "expon_func_for_2_ex(1000)"
   ]
  },
  {
   "cell_type": "code",
   "execution_count": 21,
   "metadata": {},
   "outputs": [
    {
     "name": "stdout",
     "output_type": "stream",
     "text": [
      "Для 1 реализации выборки объема 100000 доверительный интервал равен: (1.243 <= a <=  1.258)\n",
      "Для 2 реализации выборки объема 100000 доверительный интервал равен: (1.243 <= a <=  1.258)\n",
      "Для 3 реализации выборки объема 100000 доверительный интервал равен: (1.243 <= a <=  1.258)\n",
      "Для 4 реализации выборки объема 100000 доверительный интервал равен: (1.243 <= a <=  1.258)\n",
      "Для 5 реализации выборки объема 100000 доверительный интервал равен: (1.243 <= a <=  1.258)\n"
     ]
    }
   ],
   "source": [
    "expon_func_for_2_ex(10**5)"
   ]
  },
  {
   "cell_type": "code",
   "execution_count": null,
   "metadata": {},
   "outputs": [],
   "source": []
  }
 ],
 "metadata": {
  "kernelspec": {
   "display_name": "Python 3",
   "language": "python",
   "name": "python3"
  },
  "language_info": {
   "codemirror_mode": {
    "name": "ipython",
    "version": 3
   },
   "file_extension": ".py",
   "mimetype": "text/x-python",
   "name": "python",
   "nbconvert_exporter": "python",
   "pygments_lexer": "ipython3",
   "version": "3.7.3"
  }
 },
 "nbformat": 4,
 "nbformat_minor": 2
}
