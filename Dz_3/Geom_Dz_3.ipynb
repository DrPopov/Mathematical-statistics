{
 "cells": [
  {
   "cell_type": "markdown",
   "metadata": {},
   "source": [
    "# Задание 3.1 Выборочное среднее и выборочная дисперсия"
   ]
  },
  {
   "cell_type": "code",
   "execution_count": 1,
   "metadata": {},
   "outputs": [],
   "source": [
    "import timeit\n",
    "import matplotlib.pyplot as plt\n",
    "import random\n",
    "import numpy as np\n",
    "import pylab\n",
    "import math \n",
    "\n",
    "# подключение модуля и сокращение названия для удобства\n",
    "import pandas as pd\n",
    "\n",
    "# GeomDIM - третья модель моделирования\n",
    "def geomDIM(n, p = 0.2, m = 5):\n",
    "    lst = []\n",
    "    for i in range(n):\n",
    "        a = random.random()\n",
    "        e = math.floor(math.log(a,math.e) / math.log(1 - p,math.e) )\n",
    "        lst.append(e)\n",
    "        \n",
    "        \n",
    "    return lst\n",
    "\n",
    "\n",
    "# Создание m массивов выборки\n",
    "def make_vibor(m):\n",
    "    A = []\n",
    "    for i in range(5):\n",
    "        row = []\n",
    "        A.append(row)\n",
    "    \n",
    "        row.append(geomDIM(m))\n",
    "    return A\n"
   ]
  },
  {
   "cell_type": "code",
   "execution_count": 2,
   "metadata": {},
   "outputs": [],
   "source": [
    "#функция для построения вар.рядов для 5 реализаций  выборки M для n\n",
    "def count_var_row(M, n):\n",
    "    dict_set = {}\n",
    "    \n",
    "    for sp in range(5):\n",
    "        dict_set = {}\n",
    "        for i in M[sp]:\n",
    "            s1 = sorted(set(i))\n",
    "            \n",
    "            #заносим все различные знаения выборки в словарь\n",
    "            for k in s1:\n",
    "                dict_set[str(k)] = 0\n",
    "            \n",
    "            #считаем сколько раз каждое из них встречается\n",
    "            for t in i:\n",
    "                dict_set[str(t)] += 1\n",
    "            \n",
    "            # Переделываем знчения в список\n",
    "            dict_viborka = {k: [v] for k, v in dict_set.items()}\n",
    "            \n",
    "            # создаем DataFrame\n",
    "            df = pd.DataFrame(dict_viborka,index = list('f'))    "
   ]
  },
  {
   "cell_type": "code",
   "execution_count": 3,
   "metadata": {},
   "outputs": [],
   "source": [
    "# Для n =  5\n",
    "M = make_vibor(5)\n",
    "count_var_row(M, 5)"
   ]
  },
  {
   "cell_type": "code",
   "execution_count": 4,
   "metadata": {},
   "outputs": [],
   "source": [
    "#функция для построения вар.рядов для 5 реализаций  выборки M для n\n",
    "def print_var_row(M, n):\n",
    "    dict_set = {}\n",
    "    \n",
    "    print('Вариационные ряды для 5 реализаций выборки, объема  %d:  '%n)\n",
    "    print('')\n",
    "    \n",
    "    for sp in range(5):\n",
    "        dict_set = {}\n",
    "        for i in M[sp]:\n",
    "            s1 = sorted(set(i))\n",
    "            \n",
    "            #заносим все различные знаения выборки в словарь\n",
    "            for k in s1:\n",
    "                dict_set[str(k)] = 0\n",
    "            \n",
    "            #считаем сколько раз каждое из них встречается\n",
    "            for t in i:\n",
    "                dict_set[str(t)] += 1\n",
    "            \n",
    "            # Переделываем знчения в список\n",
    "            dict_viborka = {k: [v] for k, v in dict_set.items()}\n",
    "            \n",
    "            #делаем красиво\n",
    "            print('')\n",
    "            print('Вариационный ряд выборки %s объема %d: '%(sp + 1, n) )\n",
    "            \n",
    "            # создаем DataFrame и выводим его на экран\n",
    "            df = pd.DataFrame(dict_viborka,index = list('f'))    \n",
    "            display(df)"
   ]
  },
  {
   "cell_type": "code",
   "execution_count": 5,
   "metadata": {},
   "outputs": [],
   "source": [
    "# функция для вывода на экран выборочного среднего\n",
    "# M - 5 выборка одиннакового объема\n",
    "\n",
    "def print_sample_mean(M, n):\n",
    "    for i in range(5):\n",
    "        print(np.mean(M[i]))"
   ]
  },
  {
   "cell_type": "code",
   "execution_count": 6,
   "metadata": {},
   "outputs": [
    {
     "name": "stdout",
     "output_type": "stream",
     "text": [
      "4.013\n",
      "3.859\n",
      "3.864\n",
      "3.843\n",
      "3.86\n"
     ]
    }
   ],
   "source": [
    "M = make_vibor(1000)\n",
    "M\n",
    "print_sample_mean(M, 1000)"
   ]
  },
  {
   "cell_type": "code",
   "execution_count": 7,
   "metadata": {},
   "outputs": [],
   "source": [
    "# функция для подсчета выборочного среднего\n",
    "def count_sample_mean(M, n):\n",
    "    for i in range(5):\n",
    "        return(np.mean(M[i]))\n",
    "    "
   ]
  },
  {
   "cell_type": "code",
   "execution_count": 8,
   "metadata": {},
   "outputs": [],
   "source": [
    "# вычисляем выборочную дисперсию\n",
    "def count_sample_covariance(M, n):\n",
    "    for i in range(5):\n",
    "        return(np.var(M[i]))"
   ]
  },
  {
   "cell_type": "code",
   "execution_count": 9,
   "metadata": {},
   "outputs": [],
   "source": [
    "# выводим на экран выборочную дисперсию\n",
    "def print_sample_covariance(M, n):\n",
    "    for i in range(5):\n",
    "        print(np.var(M[i]))"
   ]
  },
  {
   "cell_type": "code",
   "execution_count": 10,
   "metadata": {},
   "outputs": [],
   "source": [
    "# итоговая функция, которая печатает вариациоонный ряд, выборочное среднее и выборочную дисперсию каждой выборки\n",
    "\n",
    "def final_func(M, n):\n",
    "    # \n",
    "    for sp in range(5):\n",
    "        \n",
    "        N = 0\n",
    "        sample_mean_sum = 0\n",
    "        sam = 0\n",
    "  \n",
    "        dict_set = {}\n",
    "        \n",
    "        for i in M[sp]:\n",
    "            s1 = sorted(set(i))\n",
    "            \n",
    "            #заносим все различные знаения выборки в словарь\n",
    "            for k in s1:\n",
    "                dict_set[str(k)] = 0\n",
    "            \n",
    "            #считаем сколько раз каждое из них встречается\n",
    "            for t in i:\n",
    "                dict_set[str(t)] += 1\n",
    "            \n",
    "            # Переделываем знчения в список\n",
    "            dict_viborka = {k: [v] for k, v in dict_set.items()}\n",
    "            \n",
    "            #делаем красиво\n",
    "            print('')\n",
    "            print('Вариационный ряд выборки %s объема %d: '%(sp + 1, n) )\n",
    "            \n",
    "            # создаем DataFrame и выводим его на экран\n",
    "            df = pd.DataFrame(dict_viborka, index = list('f'))\n",
    "            display(df)\n",
    "            \n",
    "            \n",
    "         \n",
    "        \n",
    "        # считаем выборочное среднее\n",
    "        print('Выборочное среднее этой выборки равно: ', np.around(np.mean(M[sp]), 3))\n",
    "\n",
    "        print('Выборочная дисперсия этой выборки  равна: ', np.around(np.var(M[sp]), 3))\n",
    "        "
   ]
  },
  {
   "cell_type": "code",
   "execution_count": 11,
   "metadata": {},
   "outputs": [],
   "source": [
    "# итоговая функция, которая печатает  выборочное среднее и выборочную дисперсию каждой выборки\n",
    "\n",
    "def final_func_2(M, n):\n",
    "    for sp in range(5):\n",
    "         \n",
    "        # считаем выборочное среднее\n",
    "        print('Выборочное среднее этой выборки равно: ', np.around(np.mean(M[sp]), 3))\n",
    "   \n",
    "\n",
    "        print('Выборочная дисперсия этой выборки  равна: ', np.around(np.var(M[sp]), 3))\n",
    "        print('')"
   ]
  },
  {
   "cell_type": "code",
   "execution_count": 12,
   "metadata": {},
   "outputs": [
    {
     "name": "stdout",
     "output_type": "stream",
     "text": [
      "\n",
      "Вариационный ряд выборки 1 объема 5: \n"
     ]
    },
    {
     "data": {
      "text/html": [
       "<div>\n",
       "<style scoped>\n",
       "    .dataframe tbody tr th:only-of-type {\n",
       "        vertical-align: middle;\n",
       "    }\n",
       "\n",
       "    .dataframe tbody tr th {\n",
       "        vertical-align: top;\n",
       "    }\n",
       "\n",
       "    .dataframe thead th {\n",
       "        text-align: right;\n",
       "    }\n",
       "</style>\n",
       "<table border=\"1\" class=\"dataframe\">\n",
       "  <thead>\n",
       "    <tr style=\"text-align: right;\">\n",
       "      <th></th>\n",
       "      <th>0</th>\n",
       "      <th>1</th>\n",
       "      <th>3</th>\n",
       "      <th>4</th>\n",
       "    </tr>\n",
       "  </thead>\n",
       "  <tbody>\n",
       "    <tr>\n",
       "      <th>f</th>\n",
       "      <td>1</td>\n",
       "      <td>2</td>\n",
       "      <td>1</td>\n",
       "      <td>1</td>\n",
       "    </tr>\n",
       "  </tbody>\n",
       "</table>\n",
       "</div>"
      ],
      "text/plain": [
       "   0  1  3  4\n",
       "f  1  2  1  1"
      ]
     },
     "metadata": {},
     "output_type": "display_data"
    },
    {
     "name": "stdout",
     "output_type": "stream",
     "text": [
      "Выборочное среднее этой выборки равно:  1.8\n",
      "Выборочная дисперсия этой выборки  равна:  2.16\n",
      "\n",
      "Вариационный ряд выборки 2 объема 5: \n"
     ]
    },
    {
     "data": {
      "text/html": [
       "<div>\n",
       "<style scoped>\n",
       "    .dataframe tbody tr th:only-of-type {\n",
       "        vertical-align: middle;\n",
       "    }\n",
       "\n",
       "    .dataframe tbody tr th {\n",
       "        vertical-align: top;\n",
       "    }\n",
       "\n",
       "    .dataframe thead th {\n",
       "        text-align: right;\n",
       "    }\n",
       "</style>\n",
       "<table border=\"1\" class=\"dataframe\">\n",
       "  <thead>\n",
       "    <tr style=\"text-align: right;\">\n",
       "      <th></th>\n",
       "      <th>1</th>\n",
       "      <th>2</th>\n",
       "      <th>4</th>\n",
       "      <th>6</th>\n",
       "    </tr>\n",
       "  </thead>\n",
       "  <tbody>\n",
       "    <tr>\n",
       "      <th>f</th>\n",
       "      <td>2</td>\n",
       "      <td>1</td>\n",
       "      <td>1</td>\n",
       "      <td>1</td>\n",
       "    </tr>\n",
       "  </tbody>\n",
       "</table>\n",
       "</div>"
      ],
      "text/plain": [
       "   1  2  4  6\n",
       "f  2  1  1  1"
      ]
     },
     "metadata": {},
     "output_type": "display_data"
    },
    {
     "name": "stdout",
     "output_type": "stream",
     "text": [
      "Выборочное среднее этой выборки равно:  2.8\n",
      "Выборочная дисперсия этой выборки  равна:  3.76\n",
      "\n",
      "Вариационный ряд выборки 3 объема 5: \n"
     ]
    },
    {
     "data": {
      "text/html": [
       "<div>\n",
       "<style scoped>\n",
       "    .dataframe tbody tr th:only-of-type {\n",
       "        vertical-align: middle;\n",
       "    }\n",
       "\n",
       "    .dataframe tbody tr th {\n",
       "        vertical-align: top;\n",
       "    }\n",
       "\n",
       "    .dataframe thead th {\n",
       "        text-align: right;\n",
       "    }\n",
       "</style>\n",
       "<table border=\"1\" class=\"dataframe\">\n",
       "  <thead>\n",
       "    <tr style=\"text-align: right;\">\n",
       "      <th></th>\n",
       "      <th>0</th>\n",
       "      <th>3</th>\n",
       "      <th>4</th>\n",
       "    </tr>\n",
       "  </thead>\n",
       "  <tbody>\n",
       "    <tr>\n",
       "      <th>f</th>\n",
       "      <td>3</td>\n",
       "      <td>1</td>\n",
       "      <td>1</td>\n",
       "    </tr>\n",
       "  </tbody>\n",
       "</table>\n",
       "</div>"
      ],
      "text/plain": [
       "   0  3  4\n",
       "f  3  1  1"
      ]
     },
     "metadata": {},
     "output_type": "display_data"
    },
    {
     "name": "stdout",
     "output_type": "stream",
     "text": [
      "Выборочное среднее этой выборки равно:  1.4\n",
      "Выборочная дисперсия этой выборки  равна:  3.04\n",
      "\n",
      "Вариационный ряд выборки 4 объема 5: \n"
     ]
    },
    {
     "data": {
      "text/html": [
       "<div>\n",
       "<style scoped>\n",
       "    .dataframe tbody tr th:only-of-type {\n",
       "        vertical-align: middle;\n",
       "    }\n",
       "\n",
       "    .dataframe tbody tr th {\n",
       "        vertical-align: top;\n",
       "    }\n",
       "\n",
       "    .dataframe thead th {\n",
       "        text-align: right;\n",
       "    }\n",
       "</style>\n",
       "<table border=\"1\" class=\"dataframe\">\n",
       "  <thead>\n",
       "    <tr style=\"text-align: right;\">\n",
       "      <th></th>\n",
       "      <th>1</th>\n",
       "      <th>2</th>\n",
       "      <th>3</th>\n",
       "      <th>11</th>\n",
       "    </tr>\n",
       "  </thead>\n",
       "  <tbody>\n",
       "    <tr>\n",
       "      <th>f</th>\n",
       "      <td>1</td>\n",
       "      <td>2</td>\n",
       "      <td>1</td>\n",
       "      <td>1</td>\n",
       "    </tr>\n",
       "  </tbody>\n",
       "</table>\n",
       "</div>"
      ],
      "text/plain": [
       "   1  2  3  11\n",
       "f  1  2  1   1"
      ]
     },
     "metadata": {},
     "output_type": "display_data"
    },
    {
     "name": "stdout",
     "output_type": "stream",
     "text": [
      "Выборочное среднее этой выборки равно:  3.8\n",
      "Выборочная дисперсия этой выборки  равна:  13.36\n",
      "\n",
      "Вариационный ряд выборки 5 объема 5: \n"
     ]
    },
    {
     "data": {
      "text/html": [
       "<div>\n",
       "<style scoped>\n",
       "    .dataframe tbody tr th:only-of-type {\n",
       "        vertical-align: middle;\n",
       "    }\n",
       "\n",
       "    .dataframe tbody tr th {\n",
       "        vertical-align: top;\n",
       "    }\n",
       "\n",
       "    .dataframe thead th {\n",
       "        text-align: right;\n",
       "    }\n",
       "</style>\n",
       "<table border=\"1\" class=\"dataframe\">\n",
       "  <thead>\n",
       "    <tr style=\"text-align: right;\">\n",
       "      <th></th>\n",
       "      <th>0</th>\n",
       "      <th>4</th>\n",
       "      <th>13</th>\n",
       "      <th>21</th>\n",
       "    </tr>\n",
       "  </thead>\n",
       "  <tbody>\n",
       "    <tr>\n",
       "      <th>f</th>\n",
       "      <td>1</td>\n",
       "      <td>2</td>\n",
       "      <td>1</td>\n",
       "      <td>1</td>\n",
       "    </tr>\n",
       "  </tbody>\n",
       "</table>\n",
       "</div>"
      ],
      "text/plain": [
       "   0  4  13  21\n",
       "f  1  2   1   1"
      ]
     },
     "metadata": {},
     "output_type": "display_data"
    },
    {
     "name": "stdout",
     "output_type": "stream",
     "text": [
      "Выборочное среднее этой выборки равно:  8.4\n",
      "Выборочная дисперсия этой выборки  равна:  57.84\n"
     ]
    }
   ],
   "source": [
    "# Для n =  5\n",
    "M = make_vibor(5)\n",
    "final_func(M, 5)"
   ]
  },
  {
   "cell_type": "code",
   "execution_count": 13,
   "metadata": {},
   "outputs": [
    {
     "name": "stdout",
     "output_type": "stream",
     "text": [
      "\n",
      "Вариационный ряд выборки 1 объема 10: \n"
     ]
    },
    {
     "data": {
      "text/html": [
       "<div>\n",
       "<style scoped>\n",
       "    .dataframe tbody tr th:only-of-type {\n",
       "        vertical-align: middle;\n",
       "    }\n",
       "\n",
       "    .dataframe tbody tr th {\n",
       "        vertical-align: top;\n",
       "    }\n",
       "\n",
       "    .dataframe thead th {\n",
       "        text-align: right;\n",
       "    }\n",
       "</style>\n",
       "<table border=\"1\" class=\"dataframe\">\n",
       "  <thead>\n",
       "    <tr style=\"text-align: right;\">\n",
       "      <th></th>\n",
       "      <th>0</th>\n",
       "      <th>2</th>\n",
       "      <th>4</th>\n",
       "      <th>5</th>\n",
       "      <th>8</th>\n",
       "      <th>18</th>\n",
       "    </tr>\n",
       "  </thead>\n",
       "  <tbody>\n",
       "    <tr>\n",
       "      <th>f</th>\n",
       "      <td>1</td>\n",
       "      <td>1</td>\n",
       "      <td>4</td>\n",
       "      <td>2</td>\n",
       "      <td>1</td>\n",
       "      <td>1</td>\n",
       "    </tr>\n",
       "  </tbody>\n",
       "</table>\n",
       "</div>"
      ],
      "text/plain": [
       "   0  2  4  5  8  18\n",
       "f  1  1  4  2  1   1"
      ]
     },
     "metadata": {},
     "output_type": "display_data"
    },
    {
     "name": "stdout",
     "output_type": "stream",
     "text": [
      "Выборочное среднее этой выборки равно:  5.4\n",
      "Выборочная дисперсия этой выборки  равна:  21.44\n",
      "\n",
      "Вариационный ряд выборки 2 объема 10: \n"
     ]
    },
    {
     "data": {
      "text/html": [
       "<div>\n",
       "<style scoped>\n",
       "    .dataframe tbody tr th:only-of-type {\n",
       "        vertical-align: middle;\n",
       "    }\n",
       "\n",
       "    .dataframe tbody tr th {\n",
       "        vertical-align: top;\n",
       "    }\n",
       "\n",
       "    .dataframe thead th {\n",
       "        text-align: right;\n",
       "    }\n",
       "</style>\n",
       "<table border=\"1\" class=\"dataframe\">\n",
       "  <thead>\n",
       "    <tr style=\"text-align: right;\">\n",
       "      <th></th>\n",
       "      <th>0</th>\n",
       "      <th>1</th>\n",
       "      <th>2</th>\n",
       "      <th>5</th>\n",
       "      <th>7</th>\n",
       "      <th>10</th>\n",
       "    </tr>\n",
       "  </thead>\n",
       "  <tbody>\n",
       "    <tr>\n",
       "      <th>f</th>\n",
       "      <td>2</td>\n",
       "      <td>4</td>\n",
       "      <td>1</td>\n",
       "      <td>1</td>\n",
       "      <td>1</td>\n",
       "      <td>1</td>\n",
       "    </tr>\n",
       "  </tbody>\n",
       "</table>\n",
       "</div>"
      ],
      "text/plain": [
       "   0  1  2  5  7  10\n",
       "f  2  4  1  1  1   1"
      ]
     },
     "metadata": {},
     "output_type": "display_data"
    },
    {
     "name": "stdout",
     "output_type": "stream",
     "text": [
      "Выборочное среднее этой выборки равно:  2.8\n",
      "Выборочная дисперсия этой выборки  равна:  10.36\n",
      "\n",
      "Вариационный ряд выборки 3 объема 10: \n"
     ]
    },
    {
     "data": {
      "text/html": [
       "<div>\n",
       "<style scoped>\n",
       "    .dataframe tbody tr th:only-of-type {\n",
       "        vertical-align: middle;\n",
       "    }\n",
       "\n",
       "    .dataframe tbody tr th {\n",
       "        vertical-align: top;\n",
       "    }\n",
       "\n",
       "    .dataframe thead th {\n",
       "        text-align: right;\n",
       "    }\n",
       "</style>\n",
       "<table border=\"1\" class=\"dataframe\">\n",
       "  <thead>\n",
       "    <tr style=\"text-align: right;\">\n",
       "      <th></th>\n",
       "      <th>0</th>\n",
       "      <th>2</th>\n",
       "      <th>3</th>\n",
       "      <th>6</th>\n",
       "      <th>13</th>\n",
       "    </tr>\n",
       "  </thead>\n",
       "  <tbody>\n",
       "    <tr>\n",
       "      <th>f</th>\n",
       "      <td>3</td>\n",
       "      <td>4</td>\n",
       "      <td>1</td>\n",
       "      <td>1</td>\n",
       "      <td>1</td>\n",
       "    </tr>\n",
       "  </tbody>\n",
       "</table>\n",
       "</div>"
      ],
      "text/plain": [
       "   0  2  3  6  13\n",
       "f  3  4  1  1   1"
      ]
     },
     "metadata": {},
     "output_type": "display_data"
    },
    {
     "name": "stdout",
     "output_type": "stream",
     "text": [
      "Выборочное среднее этой выборки равно:  3.0\n",
      "Выборочная дисперсия этой выборки  равна:  14.0\n",
      "\n",
      "Вариационный ряд выборки 4 объема 10: \n"
     ]
    },
    {
     "data": {
      "text/html": [
       "<div>\n",
       "<style scoped>\n",
       "    .dataframe tbody tr th:only-of-type {\n",
       "        vertical-align: middle;\n",
       "    }\n",
       "\n",
       "    .dataframe tbody tr th {\n",
       "        vertical-align: top;\n",
       "    }\n",
       "\n",
       "    .dataframe thead th {\n",
       "        text-align: right;\n",
       "    }\n",
       "</style>\n",
       "<table border=\"1\" class=\"dataframe\">\n",
       "  <thead>\n",
       "    <tr style=\"text-align: right;\">\n",
       "      <th></th>\n",
       "      <th>1</th>\n",
       "      <th>2</th>\n",
       "      <th>3</th>\n",
       "      <th>4</th>\n",
       "      <th>7</th>\n",
       "      <th>12</th>\n",
       "      <th>17</th>\n",
       "      <th>20</th>\n",
       "    </tr>\n",
       "  </thead>\n",
       "  <tbody>\n",
       "    <tr>\n",
       "      <th>f</th>\n",
       "      <td>2</td>\n",
       "      <td>1</td>\n",
       "      <td>2</td>\n",
       "      <td>1</td>\n",
       "      <td>1</td>\n",
       "      <td>1</td>\n",
       "      <td>1</td>\n",
       "      <td>1</td>\n",
       "    </tr>\n",
       "  </tbody>\n",
       "</table>\n",
       "</div>"
      ],
      "text/plain": [
       "   1  2  3  4  7  12  17  20\n",
       "f  2  1  2  1  1   1   1   1"
      ]
     },
     "metadata": {},
     "output_type": "display_data"
    },
    {
     "name": "stdout",
     "output_type": "stream",
     "text": [
      "Выборочное среднее этой выборки равно:  7.0\n",
      "Выборочная дисперсия этой выборки  равна:  43.2\n",
      "\n",
      "Вариационный ряд выборки 5 объема 10: \n"
     ]
    },
    {
     "data": {
      "text/html": [
       "<div>\n",
       "<style scoped>\n",
       "    .dataframe tbody tr th:only-of-type {\n",
       "        vertical-align: middle;\n",
       "    }\n",
       "\n",
       "    .dataframe tbody tr th {\n",
       "        vertical-align: top;\n",
       "    }\n",
       "\n",
       "    .dataframe thead th {\n",
       "        text-align: right;\n",
       "    }\n",
       "</style>\n",
       "<table border=\"1\" class=\"dataframe\">\n",
       "  <thead>\n",
       "    <tr style=\"text-align: right;\">\n",
       "      <th></th>\n",
       "      <th>0</th>\n",
       "      <th>1</th>\n",
       "      <th>2</th>\n",
       "      <th>3</th>\n",
       "      <th>4</th>\n",
       "    </tr>\n",
       "  </thead>\n",
       "  <tbody>\n",
       "    <tr>\n",
       "      <th>f</th>\n",
       "      <td>4</td>\n",
       "      <td>3</td>\n",
       "      <td>1</td>\n",
       "      <td>1</td>\n",
       "      <td>1</td>\n",
       "    </tr>\n",
       "  </tbody>\n",
       "</table>\n",
       "</div>"
      ],
      "text/plain": [
       "   0  1  2  3  4\n",
       "f  4  3  1  1  1"
      ]
     },
     "metadata": {},
     "output_type": "display_data"
    },
    {
     "name": "stdout",
     "output_type": "stream",
     "text": [
      "Выборочное среднее этой выборки равно:  1.2\n",
      "Выборочная дисперсия этой выборки  равна:  1.76\n"
     ]
    }
   ],
   "source": [
    "# Для n =  10\n",
    "M1 = make_vibor(10)\n",
    "final_func(M1, 10)"
   ]
  },
  {
   "cell_type": "code",
   "execution_count": 14,
   "metadata": {
    "scrolled": true
   },
   "outputs": [
    {
     "name": "stdout",
     "output_type": "stream",
     "text": [
      "Выборочное среднее этой выборки равно:  3.64\n",
      "Выборочная дисперсия этой выборки  равна:  16.71\n",
      "\n",
      "Выборочное среднее этой выборки равно:  4.36\n",
      "Выборочная дисперсия этой выборки  равна:  18.97\n",
      "\n",
      "Выборочное среднее этой выборки равно:  3.27\n",
      "Выборочная дисперсия этой выборки  равна:  15.357\n",
      "\n",
      "Выборочное среднее этой выборки равно:  4.39\n",
      "Выборочная дисперсия этой выборки  равна:  20.898\n",
      "\n",
      "Выборочное среднее этой выборки равно:  4.1\n",
      "Выборочная дисперсия этой выборки  равна:  21.41\n",
      "\n"
     ]
    }
   ],
   "source": [
    "# Для n =  100\n",
    "M = make_vibor(100)\n",
    "final_func_2(M, 100)"
   ]
  },
  {
   "cell_type": "code",
   "execution_count": 15,
   "metadata": {},
   "outputs": [
    {
     "name": "stdout",
     "output_type": "stream",
     "text": [
      "Выборочное среднее этой выборки равно:  4.117\n",
      "Выборочная дисперсия этой выборки  равна:  18.493\n",
      "\n",
      "Выборочное среднее этой выборки равно:  3.708\n",
      "Выборочная дисперсия этой выборки  равна:  17.321\n",
      "\n",
      "Выборочное среднее этой выборки равно:  3.893\n",
      "Выборочная дисперсия этой выборки  равна:  17.7\n",
      "\n",
      "Выборочное среднее этой выборки равно:  4.168\n",
      "Выборочная дисперсия этой выборки  равна:  19.802\n",
      "\n",
      "Выборочное среднее этой выборки равно:  4.054\n",
      "Выборочная дисперсия этой выборки  равна:  20.821\n",
      "\n"
     ]
    }
   ],
   "source": [
    "# Для n =  1000\n",
    "M = make_vibor(1000)\n",
    "final_func_2(M, 1000)"
   ]
  },
  {
   "cell_type": "code",
   "execution_count": 16,
   "metadata": {},
   "outputs": [
    {
     "name": "stdout",
     "output_type": "stream",
     "text": [
      "Выборочное среднее этой выборки равно:  4.022\n",
      "Выборочная дисперсия этой выборки  равна:  20.025\n",
      "\n",
      "Выборочное среднее этой выборки равно:  3.993\n",
      "Выборочная дисперсия этой выборки  равна:  20.014\n",
      "\n",
      "Выборочное среднее этой выборки равно:  4.023\n",
      "Выборочная дисперсия этой выборки  равна:  20.194\n",
      "\n",
      "Выборочное среднее этой выборки равно:  4.004\n",
      "Выборочная дисперсия этой выборки  равна:  19.759\n",
      "\n",
      "Выборочное среднее этой выборки равно:  3.979\n",
      "Выборочная дисперсия этой выборки  равна:  19.839\n",
      "\n"
     ]
    }
   ],
   "source": [
    "# Для n =  10**5\n",
    "M = make_vibor(10**5)\n",
    "final_func_2(M, 10**5)"
   ]
  },
  {
   "cell_type": "markdown",
   "metadata": {},
   "source": [
    "ч\n"
   ]
  },
  {
   "cell_type": "code",
   "execution_count": 17,
   "metadata": {},
   "outputs": [],
   "source": [
    "import math\n",
    "import numpy as np\n",
    "\n",
    "# расчет доверительного интервала \n",
    "def conf_int(M, x, n):\n",
    "    \n",
    "    # M - выборка \n",
    "    # x - выборочное среднее\n",
    "    # n - объем выборки\n",
    "    \n",
    "    # значение квантиля распределения Стьюдента для n = 5, 10, 100, 1000, 10**5\n",
    "    ta = [2.77, 2.26, 1.98,  1.96, 1.96]\n",
    "    # вычисляем корень из n\n",
    "    n_2 = math.sqrt(n)\n",
    "\n",
    "    if n == 5:\n",
    "        ta_n = ta[0]\n",
    "    elif n == 10:\n",
    "        ta_n = ta[1]\n",
    "    elif n == 100:\n",
    "        ta_n = ta[2]\n",
    "    elif n == 1000:\n",
    "        ta_n = ta[3]\n",
    "    elif n == 10**5:\n",
    "        ta_n = ta[4]\n",
    "    \n",
    "    \n",
    "    # расчет среднеквадратического отклонения\n",
    "    i = 0\n",
    "    for vibor in M:\n",
    "        final_sum = 0\n",
    "        for mass in vibor:\n",
    "            i += 1\n",
    "            # идем по выборке из 5 элементов\n",
    "            for elem in mass:\n",
    "                final_sum += (elem - x)**2\n",
    "            #вычисляем сигму в квадрате\n",
    "            sigma_2 = final_sum / n\n",
    "\n",
    "            #реднеквадратическое отклонение\n",
    "            s = math.sqrt((n * sigma_2) / (n - 1))\n",
    "\n",
    "\n",
    "            # нижняя граница\n",
    "            lower_border = x - ta_n * s / n_2\n",
    "\n",
    "            # верхняя граница\n",
    "            upper_border = x + ta_n * s / n_2\n",
    "\n",
    "            print('Для %s реализации выборки объема %s доверительный интервал равен: (%s <= a <=  %s)' %(i , n, np.around(lower_border, 3), np.around(upper_border,3)))"
   ]
  },
  {
   "cell_type": "code",
   "execution_count": 18,
   "metadata": {},
   "outputs": [],
   "source": [
    "# ф-ия для второго задания- делает выборку, считает выборочное среднее и находит довериельный интервал\n",
    "def geom_func_for_2_ex(n):\n",
    "\n",
    "    M = make_vibor(n)\n",
    "    mean = count_sample_mean(M, n)\n",
    "    conf_int(M, mean, n)\n",
    "    "
   ]
  },
  {
   "cell_type": "code",
   "execution_count": 19,
   "metadata": {},
   "outputs": [
    {
     "name": "stdout",
     "output_type": "stream",
     "text": [
      "Для 1 реализации выборки объема 5 доверительный интервал равен: (2.585 <= a <=  5.815)\n",
      "Для 2 реализации выборки объема 5 доверительный интервал равен: (0.631 <= a <=  7.769)\n",
      "Для 3 реализации выборки объема 5 доверительный интервал равен: (0.205 <= a <=  8.195)\n",
      "Для 4 реализации выборки объема 5 доверительный интервал равен: (0.432 <= a <=  7.968)\n",
      "Для 5 реализации выборки объема 5 доверительный интервал равен: (0.578 <= a <=  7.822)\n"
     ]
    }
   ],
   "source": [
    "geom_func_for_2_ex(5)"
   ]
  },
  {
   "cell_type": "code",
   "execution_count": 20,
   "metadata": {},
   "outputs": [
    {
     "name": "stdout",
     "output_type": "stream",
     "text": [
      "Для 1 реализации выборки объема 10 доверительный интервал равен: (0.648 <= a <=  4.952)\n",
      "Для 2 реализации выборки объема 10 доверительный интервал равен: (0.299 <= a <=  5.301)\n",
      "Для 3 реализации выборки объема 10 доверительный интервал равен: (0.347 <= a <=  5.253)\n",
      "Для 4 реализации выборки объема 10 доверительный интервал равен: (0.505 <= a <=  5.095)\n",
      "Для 5 реализации выборки объема 10 доверительный интервал равен: (-0.444 <= a <=  6.044)\n"
     ]
    }
   ],
   "source": [
    "geom_func_for_2_ex(10)"
   ]
  },
  {
   "cell_type": "code",
   "execution_count": 21,
   "metadata": {},
   "outputs": [
    {
     "name": "stdout",
     "output_type": "stream",
     "text": [
      "Для 1 реализации выборки объема 100 доверительный интервал равен: (2.808 <= a <=  4.672)\n",
      "Для 2 реализации выборки объема 100 доверительный интервал равен: (2.915 <= a <=  4.565)\n",
      "Для 3 реализации выборки объема 100 доверительный интервал равен: (2.751 <= a <=  4.729)\n",
      "Для 4 реализации выборки объема 100 доверительный интервал равен: (2.843 <= a <=  4.637)\n",
      "Для 5 реализации выборки объема 100 доверительный интервал равен: (2.937 <= a <=  4.543)\n"
     ]
    }
   ],
   "source": [
    "geom_func_for_2_ex(100)"
   ]
  },
  {
   "cell_type": "code",
   "execution_count": 22,
   "metadata": {},
   "outputs": [
    {
     "name": "stdout",
     "output_type": "stream",
     "text": [
      "Для 1 реализации выборки объема 1000 доверительный интервал равен: (3.576 <= a <=  4.112)\n",
      "Для 2 реализации выборки объема 1000 доверительный интервал равен: (3.555 <= a <=  4.133)\n",
      "Для 3 реализации выборки объема 1000 доверительный интервал равен: (3.558 <= a <=  4.13)\n",
      "Для 4 реализации выборки объема 1000 доверительный интервал равен: (3.583 <= a <=  4.105)\n",
      "Для 5 реализации выборки объема 1000 доверительный интервал равен: (3.548 <= a <=  4.14)\n"
     ]
    }
   ],
   "source": [
    "geom_func_for_2_ex(1000)"
   ]
  },
  {
   "cell_type": "code",
   "execution_count": 23,
   "metadata": {},
   "outputs": [
    {
     "name": "stdout",
     "output_type": "stream",
     "text": [
      "Для 1 реализации выборки объема 100000 доверительный интервал равен: (3.967 <= a <=  4.023)\n",
      "Для 2 реализации выборки объема 100000 доверительный интервал равен: (3.967 <= a <=  4.023)\n",
      "Для 3 реализации выборки объема 100000 доверительный интервал равен: (3.967 <= a <=  4.023)\n",
      "Для 4 реализации выборки объема 100000 доверительный интервал равен: (3.967 <= a <=  4.023)\n",
      "Для 5 реализации выборки объема 100000 доверительный интервал равен: (3.967 <= a <=  4.023)\n"
     ]
    }
   ],
   "source": [
    "geom_func_for_2_ex(10**5)"
   ]
  },
  {
   "cell_type": "code",
   "execution_count": null,
   "metadata": {},
   "outputs": [],
   "source": []
  },
  {
   "cell_type": "code",
   "execution_count": null,
   "metadata": {},
   "outputs": [],
   "source": []
  },
  {
   "cell_type": "markdown",
   "metadata": {},
   "source": [
    "# Доверительный интервал для выборочной дисперсии"
   ]
  },
  {
   "cell_type": "code",
   "execution_count": null,
   "metadata": {},
   "outputs": [],
   "source": []
  }
 ],
 "metadata": {
  "kernelspec": {
   "display_name": "Python 3",
   "language": "python",
   "name": "python3"
  },
  "language_info": {
   "codemirror_mode": {
    "name": "ipython",
    "version": 3
   },
   "file_extension": ".py",
   "mimetype": "text/x-python",
   "name": "python",
   "nbconvert_exporter": "python",
   "pygments_lexer": "ipython3",
   "version": "3.7.3"
  }
 },
 "nbformat": 4,
 "nbformat_minor": 2
}
