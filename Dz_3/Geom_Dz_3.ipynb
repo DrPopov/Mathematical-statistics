{
 "cells": [
  {
   "cell_type": "markdown",
   "metadata": {},
   "source": [
    "# Задание 3.1 Выборочное среднее и выборочная дисперсия"
   ]
  },
  {
   "cell_type": "code",
   "execution_count": 1,
   "metadata": {},
   "outputs": [],
   "source": [
    "import timeit\n",
    "import matplotlib.pyplot as plt\n",
    "import random\n",
    "import numpy as np\n",
    "import pylab\n",
    "import math \n",
    "\n",
    "# подключение модуля и сокращение названия для удобства\n",
    "import pandas as pd\n",
    "\n",
    "# GeomDIM - третья модель моделирования\n",
    "def geomDIM(n, p = 0.1, m = 5):\n",
    "    lst = []\n",
    "    for i in range(n):\n",
    "        a = random.random()\n",
    "        e = math.floor(math.log(a,math.e) / math.log(1 - p,math.e) )\n",
    "        lst.append(e)\n",
    "        \n",
    "        \n",
    "    return lst\n",
    "\n",
    "\n",
    "# Создание m массивов выборки\n",
    "def make_vibor(m):\n",
    "    A = []\n",
    "    for i in range(5):\n",
    "        row = []\n",
    "        A.append(row)\n",
    "    \n",
    "        row.append(geomDIM(m))\n",
    "    return A\n"
   ]
  },
  {
   "cell_type": "code",
   "execution_count": 2,
   "metadata": {},
   "outputs": [],
   "source": [
    "#функция для построения вар.рядов для 5 реализаций  выборки M для n\n",
    "def count_var_row(M, n):\n",
    "    dict_set = {}\n",
    "    \n",
    "    for sp in range(5):\n",
    "        dict_set = {}\n",
    "        for i in M[sp]:\n",
    "            s1 = sorted(set(i))\n",
    "            \n",
    "            #заносим все различные знаения выборки в словарь\n",
    "            for k in s1:\n",
    "                dict_set[str(k)] = 0\n",
    "            \n",
    "            #считаем сколько раз каждое из них встречается\n",
    "            for t in i:\n",
    "                dict_set[str(t)] += 1\n",
    "            \n",
    "            # Переделываем знчения в список\n",
    "            dict_viborka = {k: [v] for k, v in dict_set.items()}\n",
    "            \n",
    "            # создаем DataFrame\n",
    "            df = pd.DataFrame(dict_viborka,index = list('f'))    "
   ]
  },
  {
   "cell_type": "code",
   "execution_count": 21,
   "metadata": {},
   "outputs": [],
   "source": [
    "# Для n =  5\n",
    "M = make_vibor(5)\n",
    "count_var_row(M, 5)"
   ]
  },
  {
   "cell_type": "code",
   "execution_count": 3,
   "metadata": {},
   "outputs": [],
   "source": [
    "#функция для построения вар.рядов для 5 реализаций  выборки M для n\n",
    "def print_var_row(M, n):\n",
    "    dict_set = {}\n",
    "    \n",
    "    print('Вариационные ряды для 5 реализаций выборки, объема  %d:  '%n)\n",
    "    print('')\n",
    "    \n",
    "    for sp in range(5):\n",
    "        dict_set = {}\n",
    "        for i in M[sp]:\n",
    "            s1 = sorted(set(i))\n",
    "            \n",
    "            #заносим все различные знаения выборки в словарь\n",
    "            for k in s1:\n",
    "                dict_set[str(k)] = 0\n",
    "            \n",
    "            #считаем сколько раз каждое из них встречается\n",
    "            for t in i:\n",
    "                dict_set[str(t)] += 1\n",
    "            \n",
    "            # Переделываем знчения в список\n",
    "            dict_viborka = {k: [v] for k, v in dict_set.items()}\n",
    "            \n",
    "            #делаем красиво\n",
    "            print('')\n",
    "            print('Вариационный ряд выборки %s объема %d: '%(sp + 1, n) )\n",
    "            \n",
    "            # создаем DataFrame и выводим его на экран\n",
    "            df = pd.DataFrame(dict_viborka,index = list('f'))    \n",
    "            display(df)"
   ]
  },
  {
   "cell_type": "code",
   "execution_count": 4,
   "metadata": {},
   "outputs": [],
   "source": [
    "# функция для вывода на экран выборочного среднего\n",
    "# M - 5 выборка одиннакового объема\n",
    "\n",
    "def print_sample_mean(M, n):\n",
    "            \n",
    "    for sp in range(5):\n",
    "        \n",
    "        N = 0\n",
    "        sample_mean_sum = 0\n",
    "        dict_set = {}\n",
    "        \n",
    "        for i in M[sp]:\n",
    "            s1 = sorted(set(i))\n",
    "            \n",
    "            #заносим все различные знаения выборки в словарь\n",
    "            for k in s1:\n",
    "                dict_set[str(k)] = 0\n",
    "            \n",
    "            #считаем сколько раз каждое из них встречается\n",
    "            for t in i:\n",
    "                dict_set[str(t)] += 1\n",
    "            \n",
    "            # Переделываем знчения в список\n",
    "            dict_viborka = {k: [v] for k, v in dict_set.items()}\n",
    "            \n",
    "            #делаем красиво\n",
    "            print('')\n",
    "            print('Вариационный ряд выборки %s объема %d: '%(sp + 1, n) )\n",
    "            \n",
    "            # создаем DataFrame и выводим его на экран\n",
    "            df = pd.DataFrame(dict_viborka, index = list('f'))\n",
    "            display(df)\n",
    "        \n",
    "        # считаем выборочное среднее\n",
    "        for elem in df.loc['f']:\n",
    "            N += elem\n",
    "        \n",
    "        for col in df:\n",
    "            sample_mean_sum += int(col) * df.loc['f'][0]\n",
    "            #print(sample_mean_sum)\n",
    "            \n",
    "    \n",
    "        sam = sample_mean_sum / N  \n",
    "        print('Выборочное среднее равно выборки равно: ', sam)\n"
   ]
  },
  {
   "cell_type": "code",
   "execution_count": 5,
   "metadata": {},
   "outputs": [],
   "source": [
    "# функция для подсчета выборочного среднего\n",
    "def count_sample_mean(M, n):\n",
    "            \n",
    "    for sp in range(5):\n",
    "        \n",
    "        N = 0\n",
    "        sample_mean_sum = 0\n",
    "        dict_set = {}\n",
    "        \n",
    "        for i in M[sp]:\n",
    "            s1 = sorted(set(i))\n",
    "            \n",
    "            #заносим все различные знаения выборки в словарь\n",
    "            for k in s1:\n",
    "                dict_set[str(k)] = 0\n",
    "            \n",
    "            #считаем сколько раз каждое из них встречается\n",
    "            for t in i:\n",
    "                dict_set[str(t)] += 1\n",
    "            \n",
    "            # Переделываем знчения в список\n",
    "            dict_viborka = {k: [v] for k, v in dict_set.items()}\n",
    "            \n",
    "           \n",
    "            # создаем DataFrame и выводим его на экран\n",
    "            df = pd.DataFrame(dict_viborka, index = list('f'))\n",
    "        \n",
    "        # считаем выборочное среднее\n",
    "        for elem in df.loc['f']:\n",
    "            N += elem\n",
    "        \n",
    "        for col in df:\n",
    "            sample_mean_sum += int(col) * df.loc['f'][0]\n",
    "\n",
    "            \n",
    "    \n",
    "        sam = sample_mean_sum / N  \n",
    "        return sam # выборочное среднее"
   ]
  },
  {
   "cell_type": "code",
   "execution_count": 6,
   "metadata": {},
   "outputs": [],
   "source": [
    "# вычисляем выборочную дисперсию\n",
    "def count_sample_covariance(M, n):\n",
    "    sam = count_sample_mean(M, n)\n",
    "    for sp in range(5):\n",
    "        \n",
    "        # пробегаем по каждой выборке\n",
    "        for string in M[sp]:\n",
    "            cov_del = 0\n",
    "            \n",
    "            # пробешаем по каждому элементу выборки\n",
    "            for k in string:    \n",
    "                cov_del += (k - sam)**2\n",
    "            sam_cov = cov_del / n\n",
    "        #print('Выборочная дисперсия равна выборки объема %s равна: ' %n, round(sam_cov, 2))\n",
    "        return round(sam_cov, 2)"
   ]
  },
  {
   "cell_type": "code",
   "execution_count": 7,
   "metadata": {},
   "outputs": [],
   "source": [
    "# выводим на экран выборочную дисперсию\n",
    "def print_sample_covariance(M, n):\n",
    "    sam = count_sample_mean(M, n)\n",
    "    for sp in range(5):\n",
    "        \n",
    "        # пробегаем по каждой выборке\n",
    "        for string in M[sp]:\n",
    "            cov_del = 0\n",
    "            \n",
    "            # пробешаем по каждому элементу выборки\n",
    "            for k in string:    \n",
    "                cov_del += (k - sam)**2\n",
    "            sam_cov = cov_del / n\n",
    "        print('Выборочная дисперсия равна выборки объема %s равна: ' %n, round(sam_cov, 2))"
   ]
  },
  {
   "cell_type": "code",
   "execution_count": 8,
   "metadata": {},
   "outputs": [],
   "source": [
    "# итоговая функция, которая печатает вариациоонный ряд, выборочное среднее и выборочную дисперсию каждой выборки\n",
    "\n",
    "def final_func(M, n):\n",
    "    # \n",
    "    for sp in range(5):\n",
    "        \n",
    "        N = 0\n",
    "        sample_mean_sum = 0\n",
    "        sam = 0\n",
    "  \n",
    "        dict_set = {}\n",
    "        \n",
    "        for i in M[sp]:\n",
    "            s1 = sorted(set(i))\n",
    "            \n",
    "            #заносим все различные знаения выборки в словарь\n",
    "            for k in s1:\n",
    "                dict_set[str(k)] = 0\n",
    "            \n",
    "            #считаем сколько раз каждое из них встречается\n",
    "            for t in i:\n",
    "                dict_set[str(t)] += 1\n",
    "            \n",
    "            # Переделываем знчения в список\n",
    "            dict_viborka = {k: [v] for k, v in dict_set.items()}\n",
    "            \n",
    "            #делаем красиво\n",
    "            print('')\n",
    "            print('Вариационный ряд выборки %s объема %d: '%(sp + 1, n) )\n",
    "            \n",
    "            # создаем DataFrame и выводим его на экран\n",
    "            df = pd.DataFrame(dict_viborka, index = list('f'))\n",
    "            display(df)\n",
    "            \n",
    "            \n",
    "         \n",
    "        \n",
    "        # считаем выборочное среднее\n",
    "        for elem in df.loc['f']:\n",
    "            N += elem\n",
    "        \n",
    "        for col in df:\n",
    "            sample_mean_sum += int(col) * df.loc['f'][0]\n",
    "\n",
    "        sam = sample_mean_sum / N  \n",
    "        \n",
    "        print('Выборочное среднее этой выборки равно: ', sam)\n",
    "        \n",
    "        sam = count_sample_mean(M, n)\n",
    "\n",
    "        # пробегаем по каждой выборке\n",
    "        for string in M[sp]:\n",
    "            cov_del = 0\n",
    "\n",
    "            # пробешаем по каждому элементу выборки\n",
    "            for k in string:    \n",
    "                cov_del += (k - sam)**2\n",
    "            sam_cov = cov_del / n\n",
    "        print('Выборочная дисперсия этой выборки  равна: ', round(sam_cov, 2))\n",
    "        "
   ]
  },
  {
   "cell_type": "code",
   "execution_count": 25,
   "metadata": {},
   "outputs": [],
   "source": [
    "# итоговая функция, которая печатает  выборочное среднее и выборочную дисперсию каждой выборки\n",
    "\n",
    "def final_func_2(M, n):\n",
    "    # \n",
    "    for sp in range(5):\n",
    "        \n",
    "        N = 0\n",
    "        sample_mean_sum = 0\n",
    "        sam = 0\n",
    "  \n",
    "        dict_set = {}\n",
    "        \n",
    "        for i in M[sp]:\n",
    "            s1 = sorted(set(i))\n",
    "            \n",
    "            #заносим все различные знаения выборки в словарь\n",
    "            for k in s1:\n",
    "                dict_set[str(k)] = 0\n",
    "            \n",
    "            #считаем сколько раз каждое из них встречается\n",
    "            for t in i:\n",
    "                dict_set[str(t)] += 1\n",
    "            \n",
    "            # Переделываем знчения в список\n",
    "            dict_viborka = {k: [v] for k, v in dict_set.items()}\n",
    "            \n",
    "            #делаем красиво\n",
    "            print('')\n",
    "            print('Выборка %s объема %d: '%(sp + 1, n) )\n",
    "            \n",
    "            # создаем DataFrame и выводим его на экран\n",
    "            df = pd.DataFrame(dict_viborka, index = list('f'))\n",
    "\n",
    "            \n",
    "            \n",
    "         \n",
    "        \n",
    "        # считаем выборочное среднее\n",
    "        for elem in df.loc['f']:\n",
    "            N += elem\n",
    "        \n",
    "        for col in df:\n",
    "            sample_mean_sum += int(col) * df.loc['f'][0]\n",
    "\n",
    "        sam = sample_mean_sum / N  \n",
    "        \n",
    "        print('Выборочное среднее этой выборки равно: ', sam)\n",
    "        \n",
    "        sam = count_sample_mean(M, n)\n",
    "\n",
    "        # пробегаем по каждой выборке\n",
    "        for string in M[sp]:\n",
    "            cov_del = 0\n",
    "\n",
    "            # пробешаем по каждому элементу выборки\n",
    "            for k in string:    \n",
    "                cov_del += (k - sam)**2\n",
    "            sam_cov = cov_del / n\n",
    "        print('Выборочная дисперсия этой выборки  равна: ', round(sam_cov, 2))\n",
    "        "
   ]
  },
  {
   "cell_type": "code",
   "execution_count": 9,
   "metadata": {},
   "outputs": [
    {
     "name": "stdout",
     "output_type": "stream",
     "text": [
      "\n",
      "Вариационный ряд выборки 1 объема 5: \n"
     ]
    },
    {
     "data": {
      "text/html": [
       "<div>\n",
       "<style scoped>\n",
       "    .dataframe tbody tr th:only-of-type {\n",
       "        vertical-align: middle;\n",
       "    }\n",
       "\n",
       "    .dataframe tbody tr th {\n",
       "        vertical-align: top;\n",
       "    }\n",
       "\n",
       "    .dataframe thead th {\n",
       "        text-align: right;\n",
       "    }\n",
       "</style>\n",
       "<table border=\"1\" class=\"dataframe\">\n",
       "  <thead>\n",
       "    <tr style=\"text-align: right;\">\n",
       "      <th></th>\n",
       "      <th>3</th>\n",
       "      <th>10</th>\n",
       "      <th>12</th>\n",
       "      <th>14</th>\n",
       "    </tr>\n",
       "  </thead>\n",
       "  <tbody>\n",
       "    <tr>\n",
       "      <th>f</th>\n",
       "      <td>1</td>\n",
       "      <td>1</td>\n",
       "      <td>2</td>\n",
       "      <td>1</td>\n",
       "    </tr>\n",
       "  </tbody>\n",
       "</table>\n",
       "</div>"
      ],
      "text/plain": [
       "   3  10  12  14\n",
       "f  1   1   2   1"
      ]
     },
     "metadata": {},
     "output_type": "display_data"
    },
    {
     "name": "stdout",
     "output_type": "stream",
     "text": [
      "Выборочное среднее этой выборки равно:  7.8\n",
      "Выборочная дисперсия этой выборки  равна:  20.32\n",
      "\n",
      "Вариационный ряд выборки 2 объема 5: \n"
     ]
    },
    {
     "data": {
      "text/html": [
       "<div>\n",
       "<style scoped>\n",
       "    .dataframe tbody tr th:only-of-type {\n",
       "        vertical-align: middle;\n",
       "    }\n",
       "\n",
       "    .dataframe tbody tr th {\n",
       "        vertical-align: top;\n",
       "    }\n",
       "\n",
       "    .dataframe thead th {\n",
       "        text-align: right;\n",
       "    }\n",
       "</style>\n",
       "<table border=\"1\" class=\"dataframe\">\n",
       "  <thead>\n",
       "    <tr style=\"text-align: right;\">\n",
       "      <th></th>\n",
       "      <th>0</th>\n",
       "      <th>2</th>\n",
       "      <th>3</th>\n",
       "      <th>18</th>\n",
       "    </tr>\n",
       "  </thead>\n",
       "  <tbody>\n",
       "    <tr>\n",
       "      <th>f</th>\n",
       "      <td>1</td>\n",
       "      <td>1</td>\n",
       "      <td>2</td>\n",
       "      <td>1</td>\n",
       "    </tr>\n",
       "  </tbody>\n",
       "</table>\n",
       "</div>"
      ],
      "text/plain": [
       "   0  2  3  18\n",
       "f  1  1  2   1"
      ]
     },
     "metadata": {},
     "output_type": "display_data"
    },
    {
     "name": "stdout",
     "output_type": "stream",
     "text": [
      "Выборочное среднее этой выборки равно:  4.6\n",
      "Выборочная дисперсия этой выборки  равна:  48.92\n",
      "\n",
      "Вариационный ряд выборки 3 объема 5: \n"
     ]
    },
    {
     "data": {
      "text/html": [
       "<div>\n",
       "<style scoped>\n",
       "    .dataframe tbody tr th:only-of-type {\n",
       "        vertical-align: middle;\n",
       "    }\n",
       "\n",
       "    .dataframe tbody tr th {\n",
       "        vertical-align: top;\n",
       "    }\n",
       "\n",
       "    .dataframe thead th {\n",
       "        text-align: right;\n",
       "    }\n",
       "</style>\n",
       "<table border=\"1\" class=\"dataframe\">\n",
       "  <thead>\n",
       "    <tr style=\"text-align: right;\">\n",
       "      <th></th>\n",
       "      <th>2</th>\n",
       "      <th>9</th>\n",
       "      <th>10</th>\n",
       "      <th>19</th>\n",
       "      <th>24</th>\n",
       "    </tr>\n",
       "  </thead>\n",
       "  <tbody>\n",
       "    <tr>\n",
       "      <th>f</th>\n",
       "      <td>1</td>\n",
       "      <td>1</td>\n",
       "      <td>1</td>\n",
       "      <td>1</td>\n",
       "      <td>1</td>\n",
       "    </tr>\n",
       "  </tbody>\n",
       "</table>\n",
       "</div>"
      ],
      "text/plain": [
       "   2  9  10  19  24\n",
       "f  1  1   1   1   1"
      ]
     },
     "metadata": {},
     "output_type": "display_data"
    },
    {
     "name": "stdout",
     "output_type": "stream",
     "text": [
      "Выборочное среднее этой выборки равно:  12.8\n",
      "Выборочная дисперсия этой выборки  равна:  85.56\n",
      "\n",
      "Вариационный ряд выборки 4 объема 5: \n"
     ]
    },
    {
     "data": {
      "text/html": [
       "<div>\n",
       "<style scoped>\n",
       "    .dataframe tbody tr th:only-of-type {\n",
       "        vertical-align: middle;\n",
       "    }\n",
       "\n",
       "    .dataframe tbody tr th {\n",
       "        vertical-align: top;\n",
       "    }\n",
       "\n",
       "    .dataframe thead th {\n",
       "        text-align: right;\n",
       "    }\n",
       "</style>\n",
       "<table border=\"1\" class=\"dataframe\">\n",
       "  <thead>\n",
       "    <tr style=\"text-align: right;\">\n",
       "      <th></th>\n",
       "      <th>2</th>\n",
       "      <th>6</th>\n",
       "      <th>8</th>\n",
       "      <th>16</th>\n",
       "      <th>26</th>\n",
       "    </tr>\n",
       "  </thead>\n",
       "  <tbody>\n",
       "    <tr>\n",
       "      <th>f</th>\n",
       "      <td>1</td>\n",
       "      <td>1</td>\n",
       "      <td>1</td>\n",
       "      <td>1</td>\n",
       "      <td>1</td>\n",
       "    </tr>\n",
       "  </tbody>\n",
       "</table>\n",
       "</div>"
      ],
      "text/plain": [
       "   2  6  8  16  26\n",
       "f  1  1  1   1   1"
      ]
     },
     "metadata": {},
     "output_type": "display_data"
    },
    {
     "name": "stdout",
     "output_type": "stream",
     "text": [
      "Выборочное среднее этой выборки равно:  11.6\n",
      "Выборочная дисперсия этой выборки  равна:  87.08\n",
      "\n",
      "Вариационный ряд выборки 5 объема 5: \n"
     ]
    },
    {
     "data": {
      "text/html": [
       "<div>\n",
       "<style scoped>\n",
       "    .dataframe tbody tr th:only-of-type {\n",
       "        vertical-align: middle;\n",
       "    }\n",
       "\n",
       "    .dataframe tbody tr th {\n",
       "        vertical-align: top;\n",
       "    }\n",
       "\n",
       "    .dataframe thead th {\n",
       "        text-align: right;\n",
       "    }\n",
       "</style>\n",
       "<table border=\"1\" class=\"dataframe\">\n",
       "  <thead>\n",
       "    <tr style=\"text-align: right;\">\n",
       "      <th></th>\n",
       "      <th>0</th>\n",
       "      <th>1</th>\n",
       "      <th>2</th>\n",
       "      <th>7</th>\n",
       "      <th>21</th>\n",
       "    </tr>\n",
       "  </thead>\n",
       "  <tbody>\n",
       "    <tr>\n",
       "      <th>f</th>\n",
       "      <td>1</td>\n",
       "      <td>1</td>\n",
       "      <td>1</td>\n",
       "      <td>1</td>\n",
       "      <td>1</td>\n",
       "    </tr>\n",
       "  </tbody>\n",
       "</table>\n",
       "</div>"
      ],
      "text/plain": [
       "   0  1  2  7  21\n",
       "f  1  1  1  1   1"
      ]
     },
     "metadata": {},
     "output_type": "display_data"
    },
    {
     "name": "stdout",
     "output_type": "stream",
     "text": [
      "Выборочное среднее этой выборки равно:  6.2\n",
      "Выборочная дисперсия этой выборки  равна:  63.12\n"
     ]
    }
   ],
   "source": [
    "# Для n =  5\n",
    "M = make_vibor(5)\n",
    "final_func(M, 5)"
   ]
  },
  {
   "cell_type": "code",
   "execution_count": 10,
   "metadata": {},
   "outputs": [
    {
     "name": "stdout",
     "output_type": "stream",
     "text": [
      "\n",
      "Вариационный ряд выборки 1 объема 10: \n"
     ]
    },
    {
     "data": {
      "text/html": [
       "<div>\n",
       "<style scoped>\n",
       "    .dataframe tbody tr th:only-of-type {\n",
       "        vertical-align: middle;\n",
       "    }\n",
       "\n",
       "    .dataframe tbody tr th {\n",
       "        vertical-align: top;\n",
       "    }\n",
       "\n",
       "    .dataframe thead th {\n",
       "        text-align: right;\n",
       "    }\n",
       "</style>\n",
       "<table border=\"1\" class=\"dataframe\">\n",
       "  <thead>\n",
       "    <tr style=\"text-align: right;\">\n",
       "      <th></th>\n",
       "      <th>0</th>\n",
       "      <th>1</th>\n",
       "      <th>2</th>\n",
       "      <th>3</th>\n",
       "      <th>4</th>\n",
       "      <th>6</th>\n",
       "      <th>8</th>\n",
       "      <th>13</th>\n",
       "      <th>16</th>\n",
       "    </tr>\n",
       "  </thead>\n",
       "  <tbody>\n",
       "    <tr>\n",
       "      <th>f</th>\n",
       "      <td>2</td>\n",
       "      <td>1</td>\n",
       "      <td>1</td>\n",
       "      <td>1</td>\n",
       "      <td>1</td>\n",
       "      <td>1</td>\n",
       "      <td>1</td>\n",
       "      <td>1</td>\n",
       "      <td>1</td>\n",
       "    </tr>\n",
       "  </tbody>\n",
       "</table>\n",
       "</div>"
      ],
      "text/plain": [
       "   0  1  2  3  4  6  8  13  16\n",
       "f  2  1  1  1  1  1  1   1   1"
      ]
     },
     "metadata": {},
     "output_type": "display_data"
    },
    {
     "name": "stdout",
     "output_type": "stream",
     "text": [
      "Выборочное среднее этой выборки равно:  10.6\n",
      "Выборочная дисперсия этой выборки  равна:  55.5\n",
      "\n",
      "Вариационный ряд выборки 2 объема 10: \n"
     ]
    },
    {
     "data": {
      "text/html": [
       "<div>\n",
       "<style scoped>\n",
       "    .dataframe tbody tr th:only-of-type {\n",
       "        vertical-align: middle;\n",
       "    }\n",
       "\n",
       "    .dataframe tbody tr th {\n",
       "        vertical-align: top;\n",
       "    }\n",
       "\n",
       "    .dataframe thead th {\n",
       "        text-align: right;\n",
       "    }\n",
       "</style>\n",
       "<table border=\"1\" class=\"dataframe\">\n",
       "  <thead>\n",
       "    <tr style=\"text-align: right;\">\n",
       "      <th></th>\n",
       "      <th>0</th>\n",
       "      <th>1</th>\n",
       "      <th>3</th>\n",
       "      <th>4</th>\n",
       "      <th>6</th>\n",
       "      <th>11</th>\n",
       "      <th>12</th>\n",
       "      <th>16</th>\n",
       "    </tr>\n",
       "  </thead>\n",
       "  <tbody>\n",
       "    <tr>\n",
       "      <th>f</th>\n",
       "      <td>2</td>\n",
       "      <td>1</td>\n",
       "      <td>2</td>\n",
       "      <td>1</td>\n",
       "      <td>1</td>\n",
       "      <td>1</td>\n",
       "      <td>1</td>\n",
       "      <td>1</td>\n",
       "    </tr>\n",
       "  </tbody>\n",
       "</table>\n",
       "</div>"
      ],
      "text/plain": [
       "   0  1  3  4  6  11  12  16\n",
       "f  2  1  2  1  1   1   1   1"
      ]
     },
     "metadata": {},
     "output_type": "display_data"
    },
    {
     "name": "stdout",
     "output_type": "stream",
     "text": [
      "Выборочное среднее этой выборки равно:  10.6\n",
      "Выборочная дисперсия этой выборки  равна:  52.84\n",
      "\n",
      "Вариационный ряд выборки 3 объема 10: \n"
     ]
    },
    {
     "data": {
      "text/html": [
       "<div>\n",
       "<style scoped>\n",
       "    .dataframe tbody tr th:only-of-type {\n",
       "        vertical-align: middle;\n",
       "    }\n",
       "\n",
       "    .dataframe tbody tr th {\n",
       "        vertical-align: top;\n",
       "    }\n",
       "\n",
       "    .dataframe thead th {\n",
       "        text-align: right;\n",
       "    }\n",
       "</style>\n",
       "<table border=\"1\" class=\"dataframe\">\n",
       "  <thead>\n",
       "    <tr style=\"text-align: right;\">\n",
       "      <th></th>\n",
       "      <th>1</th>\n",
       "      <th>2</th>\n",
       "      <th>6</th>\n",
       "      <th>8</th>\n",
       "      <th>9</th>\n",
       "      <th>12</th>\n",
       "      <th>18</th>\n",
       "      <th>19</th>\n",
       "    </tr>\n",
       "  </thead>\n",
       "  <tbody>\n",
       "    <tr>\n",
       "      <th>f</th>\n",
       "      <td>1</td>\n",
       "      <td>2</td>\n",
       "      <td>1</td>\n",
       "      <td>2</td>\n",
       "      <td>1</td>\n",
       "      <td>1</td>\n",
       "      <td>1</td>\n",
       "      <td>1</td>\n",
       "    </tr>\n",
       "  </tbody>\n",
       "</table>\n",
       "</div>"
      ],
      "text/plain": [
       "   1  2  6  8  9  12  18  19\n",
       "f  1  2  1  2  1   1   1   1"
      ]
     },
     "metadata": {},
     "output_type": "display_data"
    },
    {
     "name": "stdout",
     "output_type": "stream",
     "text": [
      "Выборочное среднее этой выборки равно:  7.5\n",
      "Выборочная дисперсия этой выборки  равна:  40.46\n",
      "\n",
      "Вариационный ряд выборки 4 объема 10: \n"
     ]
    },
    {
     "data": {
      "text/html": [
       "<div>\n",
       "<style scoped>\n",
       "    .dataframe tbody tr th:only-of-type {\n",
       "        vertical-align: middle;\n",
       "    }\n",
       "\n",
       "    .dataframe tbody tr th {\n",
       "        vertical-align: top;\n",
       "    }\n",
       "\n",
       "    .dataframe thead th {\n",
       "        text-align: right;\n",
       "    }\n",
       "</style>\n",
       "<table border=\"1\" class=\"dataframe\">\n",
       "  <thead>\n",
       "    <tr style=\"text-align: right;\">\n",
       "      <th></th>\n",
       "      <th>0</th>\n",
       "      <th>1</th>\n",
       "      <th>3</th>\n",
       "      <th>5</th>\n",
       "      <th>7</th>\n",
       "      <th>10</th>\n",
       "      <th>13</th>\n",
       "      <th>17</th>\n",
       "    </tr>\n",
       "  </thead>\n",
       "  <tbody>\n",
       "    <tr>\n",
       "      <th>f</th>\n",
       "      <td>2</td>\n",
       "      <td>1</td>\n",
       "      <td>1</td>\n",
       "      <td>2</td>\n",
       "      <td>1</td>\n",
       "      <td>1</td>\n",
       "      <td>1</td>\n",
       "      <td>1</td>\n",
       "    </tr>\n",
       "  </tbody>\n",
       "</table>\n",
       "</div>"
      ],
      "text/plain": [
       "   0  1  3  5  7  10  13  17\n",
       "f  2  1  1  2  1   1   1   1"
      ]
     },
     "metadata": {},
     "output_type": "display_data"
    },
    {
     "name": "stdout",
     "output_type": "stream",
     "text": [
      "Выборочное среднее этой выборки равно:  11.2\n",
      "Выборочная дисперсия этой выборки  равна:  49.74\n",
      "\n",
      "Вариационный ряд выборки 5 объема 10: \n"
     ]
    },
    {
     "data": {
      "text/html": [
       "<div>\n",
       "<style scoped>\n",
       "    .dataframe tbody tr th:only-of-type {\n",
       "        vertical-align: middle;\n",
       "    }\n",
       "\n",
       "    .dataframe tbody tr th {\n",
       "        vertical-align: top;\n",
       "    }\n",
       "\n",
       "    .dataframe thead th {\n",
       "        text-align: right;\n",
       "    }\n",
       "</style>\n",
       "<table border=\"1\" class=\"dataframe\">\n",
       "  <thead>\n",
       "    <tr style=\"text-align: right;\">\n",
       "      <th></th>\n",
       "      <th>0</th>\n",
       "      <th>2</th>\n",
       "      <th>3</th>\n",
       "      <th>7</th>\n",
       "      <th>8</th>\n",
       "      <th>10</th>\n",
       "    </tr>\n",
       "  </thead>\n",
       "  <tbody>\n",
       "    <tr>\n",
       "      <th>f</th>\n",
       "      <td>2</td>\n",
       "      <td>1</td>\n",
       "      <td>2</td>\n",
       "      <td>1</td>\n",
       "      <td>3</td>\n",
       "      <td>1</td>\n",
       "    </tr>\n",
       "  </tbody>\n",
       "</table>\n",
       "</div>"
      ],
      "text/plain": [
       "   0  2  3  7  8  10\n",
       "f  2  1  2  1  3   1"
      ]
     },
     "metadata": {},
     "output_type": "display_data"
    },
    {
     "name": "stdout",
     "output_type": "stream",
     "text": [
      "Выборочное среднее этой выборки равно:  6.0\n",
      "Выборочная дисперсия этой выборки  равна:  44.78\n"
     ]
    }
   ],
   "source": [
    "# Для n =  10\n",
    "M1 = make_vibor(10)\n",
    "final_func(M1, 10)"
   ]
  },
  {
   "cell_type": "code",
   "execution_count": 26,
   "metadata": {
    "scrolled": true
   },
   "outputs": [
    {
     "name": "stdout",
     "output_type": "stream",
     "text": [
      "\n",
      "Выборка 1 объема 100: \n",
      "Выборочное среднее этой выборки равно:  48.62\n",
      "Выборочная дисперсия этой выборки  равна:  1726.57\n",
      "\n",
      "Выборка 2 объема 100: \n",
      "Выборочное среднее этой выборки равно:  33.3\n",
      "Выборочная дисперсия этой выборки  равна:  1566.81\n",
      "\n",
      "Выборка 3 объема 100: \n",
      "Выборочное среднее этой выборки равно:  44.52\n",
      "Выборочная дисперсия этой выборки  равна:  1540.57\n",
      "\n",
      "Выборка 4 объема 100: \n",
      "Выборочное среднее этой выборки равно:  64.24\n",
      "Выборочная дисперсия этой выборки  равна:  1604.11\n",
      "\n",
      "Выборка 5 объема 100: \n",
      "Выборочное среднее этой выборки равно:  42.12\n",
      "Выборочная дисперсия этой выборки  равна:  1658.47\n"
     ]
    }
   ],
   "source": [
    "# Для n =  100\n",
    "M = make_vibor(100)\n",
    "final_func_2(M, 100)"
   ]
  },
  {
   "cell_type": "code",
   "execution_count": 27,
   "metadata": {},
   "outputs": [
    {
     "name": "stdout",
     "output_type": "stream",
     "text": [
      "\n",
      "Выборка 1 объема 1000: \n",
      "Выборочное среднее этой выборки равно:  142.901\n",
      "Выборочная дисперсия этой выборки  равна:  18071.18\n",
      "\n",
      "Выборка 2 объема 1000: \n",
      "Выборочное среднее этой выборки равно:  156.636\n",
      "Выборочная дисперсия этой выборки  равна:  18001.53\n",
      "\n",
      "Выборка 3 объема 1000: \n",
      "Выборочное среднее этой выборки равно:  131.48\n",
      "Выборочная дисперсия этой выборки  равна:  17941.4\n",
      "\n",
      "Выборка 4 объема 1000: \n",
      "Выборочное среднее этой выборки равно:  127.764\n",
      "Выборочная дисперсия этой выборки  равна:  18000.1\n",
      "\n",
      "Выборка 5 объема 1000: \n",
      "Выборочное среднее этой выборки равно:  129.98\n",
      "Выборочная дисперсия этой выборки  равна:  18007.92\n"
     ]
    }
   ],
   "source": [
    "# Для n =  1000\n",
    "M = make_vibor(1000)\n",
    "final_func_2(M, 1000)"
   ]
  },
  {
   "cell_type": "code",
   "execution_count": 28,
   "metadata": {},
   "outputs": [
    {
     "name": "stdout",
     "output_type": "stream",
     "text": [
      "\n",
      "Выборка 1 объема 100000: \n",
      "Выборочное среднее этой выборки равно:  397.51218\n",
      "Выборочная дисперсия этой выборки  равна:  151030.27\n",
      "\n",
      "Выборка 2 объема 100000: \n",
      "Выборочное среднее этой выборки равно:  437.08329\n",
      "Выборочная дисперсия этой выборки  равна:  151019.46\n",
      "\n",
      "Выборка 3 объема 100000: \n",
      "Выборочное среднее этой выборки равно:  422.30579\n",
      "Выборочная дисперсия этой выборки  равна:  151048.58\n",
      "\n",
      "Выборка 4 объема 100000: \n",
      "Выборочное среднее этой выборки равно:  478.38213\n",
      "Выборочная дисперсия этой выборки  равна:  151041.75\n",
      "\n",
      "Выборка 5 объема 100000: \n",
      "Выборочное среднее этой выборки равно:  413.44772\n",
      "Выборочная дисперсия этой выборки  равна:  151024.1\n"
     ]
    }
   ],
   "source": [
    "# Для n =  10**5\n",
    "M = make_vibor(10**5)\n",
    "final_func_2(M, 10**5)"
   ]
  },
  {
   "cell_type": "markdown",
   "metadata": {},
   "source": [
    "ч\n"
   ]
  },
  {
   "cell_type": "code",
   "execution_count": 14,
   "metadata": {},
   "outputs": [],
   "source": [
    "import math\n",
    "import numpy as np\n",
    "\n",
    "# расчет доверительного интервала \n",
    "def conf_int(M, x, n):\n",
    "    \n",
    "    # M - выборка \n",
    "    # x - выборочное среднее\n",
    "    # n - объем выборки\n",
    "    \n",
    "    # значение квантиля распределения Стьюдента для n = 5, 10, 100, 1000, 10**5\n",
    "    ta = [2.77, 2.26, 1.98,  1.96, 1.96]\n",
    "    # вычисляем корень из n\n",
    "    n_2 = math.sqrt(n)\n",
    "\n",
    "    if n == 5:\n",
    "        ta_n = ta[0]\n",
    "    elif n == 10:\n",
    "        ta_n = ta[1]\n",
    "    elif n == 100:\n",
    "        ta_n = ta[2]\n",
    "    elif n == 1000:\n",
    "        ta_n = ta[3]\n",
    "    elif n == 10**5:\n",
    "        ta_n = ta[4]\n",
    "    \n",
    "    \n",
    "    # расчет среднеквадратического отклонения\n",
    "    i = 0\n",
    "    for vibor in M:\n",
    "        final_sum = 0\n",
    "        for mass in vibor:\n",
    "            i += 1\n",
    "            # идем по выборке из 5 элементов\n",
    "            for elem in mass:\n",
    "                final_sum += (elem - x)**2\n",
    "            #вычисляем сигму в квадрате\n",
    "            sigma_2 = final_sum / n\n",
    "\n",
    "            #реднеквадратическое отклонение\n",
    "            s = math.sqrt((n * sigma_2) / (n - 1))\n",
    "\n",
    "\n",
    "            # нижняя граница\n",
    "            lower_border = x - ta_n * s / n_2\n",
    "\n",
    "            # верхняя граница\n",
    "            upper_border = x + ta_n * s / n_2\n",
    "\n",
    "            print('Для %s реализации выборки объема %s доверительный интервал равен: (%s <= a <=  %s)' %(i , n, np.around(lower_border, 3), np.around(upper_border,3)))"
   ]
  },
  {
   "cell_type": "code",
   "execution_count": 15,
   "metadata": {},
   "outputs": [],
   "source": [
    "# ф-ия для второго задания- делает выборку, считает выборочное среднее и находит довериельный интервал\n",
    "def geom_func_for_2_ex(n):\n",
    "\n",
    "    M = make_vibor(n)\n",
    "    mean = count_sample_mean(M, n)\n",
    "    conf_int(M, mean, n)\n",
    "    "
   ]
  },
  {
   "cell_type": "code",
   "execution_count": 16,
   "metadata": {},
   "outputs": [
    {
     "name": "stdout",
     "output_type": "stream",
     "text": [
      "Для 1 реализации выборки объема 5 доверительный интервал равен: (-1.909 <= a <=  7.109)\n",
      "Для 2 реализации выборки объема 5 доверительный интервал равен: (-18.978 <= a <=  24.178)\n",
      "Для 3 реализации выборки объема 5 доверительный интервал равен: (-13.974 <= a <=  19.174)\n",
      "Для 4 реализации выборки объема 5 доверительный интервал равен: (-7.787 <= a <=  12.987)\n",
      "Для 5 реализации выборки объема 5 доверительный интервал равен: (-8.905 <= a <=  14.105)\n"
     ]
    }
   ],
   "source": [
    "geom_func_for_2_ex(5)"
   ]
  },
  {
   "cell_type": "code",
   "execution_count": 17,
   "metadata": {},
   "outputs": [
    {
     "name": "stdout",
     "output_type": "stream",
     "text": [
      "Для 1 реализации выборки объема 10 доверительный интервал равен: (-1.573 <= a <=  8.173)\n",
      "Для 2 реализации выборки объема 10 доверительный интервал равен: (-3.464 <= a <=  10.064)\n",
      "Для 3 реализации выборки объема 10 доверительный интервал равен: (-7.957 <= a <=  14.557)\n",
      "Для 4 реализации выборки объема 10 доверительный интервал равен: (-6.601 <= a <=  13.201)\n",
      "Для 5 реализации выборки объема 10 доверительный интервал равен: (-3.973 <= a <=  10.573)\n"
     ]
    }
   ],
   "source": [
    "geom_func_for_2_ex(10)"
   ]
  },
  {
   "cell_type": "code",
   "execution_count": 18,
   "metadata": {},
   "outputs": [
    {
     "name": "stdout",
     "output_type": "stream",
     "text": [
      "Для 1 реализации выборки объема 100 доверительный интервал равен: (19.368 <= a <=  25.112)\n",
      "Для 2 реализации выборки объема 100 доверительный интервал равен: (18.937 <= a <=  25.543)\n",
      "Для 3 реализации выборки объема 100 доверительный интервал равен: (18.92 <= a <=  25.56)\n",
      "Для 4 реализации выборки объема 100 доверительный интервал равен: (18.971 <= a <=  25.509)\n",
      "Для 5 реализации выборки объема 100 доверительный интервал равен: (19.092 <= a <=  25.388)\n"
     ]
    }
   ],
   "source": [
    "geom_func_for_2_ex(100)"
   ]
  },
  {
   "cell_type": "code",
   "execution_count": 19,
   "metadata": {},
   "outputs": [
    {
     "name": "stdout",
     "output_type": "stream",
     "text": [
      "Для 1 реализации выборки объема 1000 доверительный интервал равен: (109.179 <= a <=  122.477)\n",
      "Для 2 реализации выборки объема 1000 доверительный интервал равен: (109.199 <= a <=  122.457)\n",
      "Для 3 реализации выборки объема 1000 доверительный интервал равен: (109.193 <= a <=  122.463)\n",
      "Для 4 реализации выборки объема 1000 доверительный интервал равен: (109.159 <= a <=  122.497)\n",
      "Для 5 реализации выборки объема 1000 доверительный интервал равен: (109.199 <= a <=  122.457)\n"
     ]
    }
   ],
   "source": [
    "geom_func_for_2_ex(1000)"
   ]
  },
  {
   "cell_type": "code",
   "execution_count": 20,
   "metadata": {},
   "outputs": [
    {
     "name": "stdout",
     "output_type": "stream",
     "text": [
      "Для 1 реализации выборки объема 100000 доверительный интервал равен: (474.815 <= a <=  480.626)\n",
      "Для 2 реализации выборки объема 100000 доверительный интервал равен: (474.815 <= a <=  480.626)\n",
      "Для 3 реализации выборки объема 100000 доверительный интервал равен: (474.815 <= a <=  480.626)\n",
      "Для 4 реализации выборки объема 100000 доверительный интервал равен: (474.815 <= a <=  480.626)\n",
      "Для 5 реализации выборки объема 100000 доверительный интервал равен: (474.815 <= a <=  480.626)\n"
     ]
    }
   ],
   "source": [
    "geom_func_for_2_ex(10**5)"
   ]
  },
  {
   "cell_type": "code",
   "execution_count": null,
   "metadata": {},
   "outputs": [],
   "source": []
  },
  {
   "cell_type": "code",
   "execution_count": null,
   "metadata": {},
   "outputs": [],
   "source": []
  },
  {
   "cell_type": "markdown",
   "metadata": {},
   "source": [
    "# Доверительный интервал для выборочной дисперсии"
   ]
  },
  {
   "cell_type": "code",
   "execution_count": null,
   "metadata": {},
   "outputs": [],
   "source": []
  }
 ],
 "metadata": {
  "kernelspec": {
   "display_name": "Python 3",
   "language": "python",
   "name": "python3"
  },
  "language_info": {
   "codemirror_mode": {
    "name": "ipython",
    "version": 3
   },
   "file_extension": ".py",
   "mimetype": "text/x-python",
   "name": "python",
   "nbconvert_exporter": "python",
   "pygments_lexer": "ipython3",
   "version": "3.7.3"
  }
 },
 "nbformat": 4,
 "nbformat_minor": 2
}
