{
 "cells": [
  {
   "cell_type": "markdown",
   "metadata": {},
   "source": [
    "# Геометрическое распределение для простой гипотезы"
   ]
  },
  {
   "cell_type": "code",
   "execution_count": 1,
   "metadata": {},
   "outputs": [],
   "source": [
    "import random\n",
    "import numpy as np\n",
    "import pylab\n",
    "import math \n",
    "import scipy.stats as st\n",
    "import pandas as pd"
   ]
  },
  {
   "cell_type": "code",
   "execution_count": 2,
   "metadata": {},
   "outputs": [],
   "source": [
    "# Моделирование выборки, подчняющуюся геометрическому распределению\n",
    "def make_geom_viborka(n, p = 0.2, m = 5):\n",
    "    lst = []\n",
    "    for i in range(n):\n",
    "        a = random.random()\n",
    "        e = math.floor(math.log(a,math.e) / math.log(1 - p,math.e) )\n",
    "        lst.append(e)     \n",
    "    return lst"
   ]
  },
  {
   "cell_type": "code",
   "execution_count": 3,
   "metadata": {},
   "outputs": [],
   "source": [
    "#n = int(input()) # объем выборки\n",
    "n = 1000"
   ]
  },
  {
   "cell_type": "code",
   "execution_count": 4,
   "metadata": {},
   "outputs": [],
   "source": [
    "my_list = make_geom_viborka(n)"
   ]
  },
  {
   "cell_type": "code",
   "execution_count": 5,
   "metadata": {},
   "outputs": [],
   "source": [
    "my_set = list(set(my_list))\n",
    "amount = []\n",
    "\n",
    "for i in my_set:\n",
    "    a = my_list.count(i)\n",
    "    amount.append(a)\n",
    "    \n",
    "    "
   ]
  },
  {
   "cell_type": "code",
   "execution_count": null,
   "metadata": {},
   "outputs": [],
   "source": []
  },
  {
   "cell_type": "markdown",
   "metadata": {},
   "source": [
    "# Сдеалаем свобдную таблицу"
   ]
  },
  {
   "cell_type": "code",
   "execution_count": 6,
   "metadata": {},
   "outputs": [],
   "source": [
    "def table(): \n",
    "    \n",
    "    p = 0.7 # оценка парметра p\n",
    "    \n",
    "    print('Параметр равен: ', p)\n",
    "    list_p_i = [] # теоретические вероятности \n",
    "\n",
    "    for elem in my_set:\n",
    "        p_i = p * (1 - p)**elem\n",
    "        list_p_i.append(np.around(p_i, 3))\n",
    "\n",
    "    list_n = [] # теоретические частоты\n",
    "\n",
    "    for elem in list_p_i:\n",
    "        list_n.append(n * elem)\n",
    "\n",
    "\n",
    "    #print(list(map(len, [my_set, amount, list_p_i, list_n])))\n",
    "    # Делаем таблицу:\n",
    "    '''\n",
    "    my_set.append(sum(my_set))\n",
    "    amount.append(sum(amount))\n",
    "    list_p_i.append(sum(list_p_i))\n",
    "    list_n.append(sum(list_n))\n",
    "    '''\n",
    "    #print(list(map(len, [my_set, amount, list_p_i, list_n])))\n",
    "\n",
    "    data = {'k': my_set,\n",
    "           'n_k': amount,\n",
    "           'p_k': list_p_i,\n",
    "           'n_k_2': list_n}\n",
    "\n",
    "    m = list(range(len(my_set) - 1))\n",
    "    m.append('Сумма')\n",
    "\n",
    "    #print(m)\n",
    "    #print(len(m))\n",
    "    df = pd.DataFrame(data)\n",
    "\n",
    "    df['Мера'] = np.around((df['n_k'] - df['n_k_2'])**2 / (df['n_k_2']), 3)\n",
    "    \n",
    "    k = 0\n",
    "  \n",
    "    m = df\n",
    "    t = m\n",
    "    df.loc['Сумма']= df.sum()\n",
    "    \n",
    "\n",
    "    \n",
    "    for i in range(len(my_set)):\n",
    "        if df.iloc[i]['p_k'] < 0.01:\n",
    "            #print('!')\n",
    "            k += 1\n",
    "            t = t.drop([i])\n",
    "\n",
    "\n",
    "    t = t.drop(['Сумма'])\n",
    "    t.loc['Сумма']= t.sum()\n",
    "\n",
    "    \n",
    "    display(t)\n",
    "    #print(df['n_k'] - df['n_k_2'])\n",
    "    #print(df['n_k_2'])\n",
    "    print('Количество степеней свободы: %s = %s - 1 - %s '%(len(df) - 1 - k - 1 , len(df) - 1  , k) )  \n",
    "    print('Критерий Хи квадрта равен: ', t.iloc[-1]['Мера'])"
   ]
  },
  {
   "cell_type": "code",
   "execution_count": 7,
   "metadata": {},
   "outputs": [
    {
     "name": "stdout",
     "output_type": "stream",
     "text": [
      "Параметр равен:  0.7\n"
     ]
    },
    {
     "data": {
      "text/html": [
       "<div>\n",
       "<style scoped>\n",
       "    .dataframe tbody tr th:only-of-type {\n",
       "        vertical-align: middle;\n",
       "    }\n",
       "\n",
       "    .dataframe tbody tr th {\n",
       "        vertical-align: top;\n",
       "    }\n",
       "\n",
       "    .dataframe thead th {\n",
       "        text-align: right;\n",
       "    }\n",
       "</style>\n",
       "<table border=\"1\" class=\"dataframe\">\n",
       "  <thead>\n",
       "    <tr style=\"text-align: right;\">\n",
       "      <th></th>\n",
       "      <th>k</th>\n",
       "      <th>n_k</th>\n",
       "      <th>p_k</th>\n",
       "      <th>n_k_2</th>\n",
       "      <th>Мера</th>\n",
       "    </tr>\n",
       "  </thead>\n",
       "  <tbody>\n",
       "    <tr>\n",
       "      <th>0</th>\n",
       "      <td>0.0</td>\n",
       "      <td>203.0</td>\n",
       "      <td>0.700</td>\n",
       "      <td>700.0</td>\n",
       "      <td>352.870</td>\n",
       "    </tr>\n",
       "    <tr>\n",
       "      <th>1</th>\n",
       "      <td>1.0</td>\n",
       "      <td>162.0</td>\n",
       "      <td>0.210</td>\n",
       "      <td>210.0</td>\n",
       "      <td>10.971</td>\n",
       "    </tr>\n",
       "    <tr>\n",
       "      <th>2</th>\n",
       "      <td>2.0</td>\n",
       "      <td>128.0</td>\n",
       "      <td>0.063</td>\n",
       "      <td>63.0</td>\n",
       "      <td>67.063</td>\n",
       "    </tr>\n",
       "    <tr>\n",
       "      <th>3</th>\n",
       "      <td>3.0</td>\n",
       "      <td>110.0</td>\n",
       "      <td>0.019</td>\n",
       "      <td>19.0</td>\n",
       "      <td>435.842</td>\n",
       "    </tr>\n",
       "    <tr>\n",
       "      <th>Сумма</th>\n",
       "      <td>6.0</td>\n",
       "      <td>603.0</td>\n",
       "      <td>0.992</td>\n",
       "      <td>992.0</td>\n",
       "      <td>866.746</td>\n",
       "    </tr>\n",
       "  </tbody>\n",
       "</table>\n",
       "</div>"
      ],
      "text/plain": [
       "         k    n_k    p_k  n_k_2     Мера\n",
       "0      0.0  203.0  0.700  700.0  352.870\n",
       "1      1.0  162.0  0.210  210.0   10.971\n",
       "2      2.0  128.0  0.063   63.0   67.063\n",
       "3      3.0  110.0  0.019   19.0  435.842\n",
       "Сумма  6.0  603.0  0.992  992.0  866.746"
      ]
     },
     "metadata": {},
     "output_type": "display_data"
    },
    {
     "name": "stdout",
     "output_type": "stream",
     "text": [
      "Количество степеней свободы: 3 = 30 - 1 - 26 \n",
      "Критерий Хи квадрта равен:  866.746\n"
     ]
    }
   ],
   "source": [
    "table()"
   ]
  },
  {
   "cell_type": "code",
   "execution_count": null,
   "metadata": {},
   "outputs": [],
   "source": []
  }
 ],
 "metadata": {
  "kernelspec": {
   "display_name": "Python 3",
   "language": "python",
   "name": "python3"
  },
  "language_info": {
   "codemirror_mode": {
    "name": "ipython",
    "version": 3
   },
   "file_extension": ".py",
   "mimetype": "text/x-python",
   "name": "python",
   "nbconvert_exporter": "python",
   "pygments_lexer": "ipython3",
   "version": "3.7.3"
  }
 },
 "nbformat": 4,
 "nbformat_minor": 4
}
