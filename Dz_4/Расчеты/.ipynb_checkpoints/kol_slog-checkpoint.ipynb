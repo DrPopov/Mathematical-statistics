{
 "cells": [
  {
   "cell_type": "code",
   "execution_count": 1,
   "metadata": {},
   "outputs": [],
   "source": [
    "from scipy.stats import expon\n",
    "import matplotlib.pyplot as plt\n",
    "import numpy as np\n",
    "import matplotlib.pylab as pylab\n",
    "import seaborn as sns\n",
    "sns.set()\n",
    "import pandas as pd\n",
    "import scipy.stats as sts\n",
    "import math"
   ]
  },
  {
   "cell_type": "code",
   "execution_count": 2,
   "metadata": {},
   "outputs": [],
   "source": [
    "from scipy.special import kolmogorov\n",
    "\n",
    "\n",
    "def compute_quntile(cdf, a, y=0.001, max_range=30):\n",
    "    x = np.arange(-1, max_range, y)\n",
    "    for ss in x:\n",
    "        if cdf(ss) < a and cdf(ss + y) > a:\n",
    "            return ss + y\n",
    "\n",
    "\n",
    "def ecdf(x, s):\n",
    "    return s[s <= x].size / s.size"
   ]
  },
  {
   "cell_type": "code",
   "execution_count": 11,
   "metadata": {},
   "outputs": [],
   "source": [
    "def func(n):\n",
    "    sample_expon_1000 = expon.rvs(size = n)\n",
    "    FuL = expon(scale = (1 / np.mean(sample_expon_1000))).cdf\n",
    "\n",
    "    for alpha in [0.1, 0.05]:\n",
    "        FulN = lambda x: ecdf(x, sample_expon_1000)\n",
    "        vb = np.arange(-1, 16, 0.001)\n",
    "        D_n = max(map(lambda x: abs(FulN(x) - FuL(x)), vb))\n",
    "        K = lambda x: 1 - kolmogorov(x)\n",
    "        quant = compute_quntile(K, 1 - alpha)\n",
    "        S_n = np.sqrt(\n",
    "            len(sample_expon_1000)) * D_n + 1 / (6 * np.sqrt(len(sample_expon_1000)))\n",
    "        print(\n",
    "            f\"{'n = '+ str(len(sample_expon_1000))}, Уровень значисоти: {alpha}, Значение статистики D_n: {np.around(np.sqrt(len(sample_expon_1000))*D_n,3)},{' Значение статистики S_n = ' + str(np.around(S_n,3))}, Оцениваемый параметр: {np.around(np.mean((1 / np.mean(sample_expon_1000))), 4)}, Квантиль = {quant:.3}\"\n",
    "        )\n",
    "    \n",
    "    "
   ]
  },
  {
   "cell_type": "code",
   "execution_count": 12,
   "metadata": {},
   "outputs": [
    {
     "name": "stdout",
     "output_type": "stream",
     "text": [
      "n = 100, Уровень значисоти: 0.1, Значение статистики D_n: 0.878, Значение статистики S_n = 0.895, Оцениваемый параметр: 0.9214, Квантиль = 1.22\n",
      "n = 100, Уровень значисоти: 0.05, Значение статистики D_n: 0.878, Значение статистики S_n = 0.895, Оцениваемый параметр: 0.9214, Квантиль = 1.36\n"
     ]
    }
   ],
   "source": [
    "func(100)"
   ]
  },
  {
   "cell_type": "code",
   "execution_count": 13,
   "metadata": {},
   "outputs": [
    {
     "name": "stdout",
     "output_type": "stream",
     "text": [
      "n = 1000, Уровень значисоти: 0.1, Значение статистики D_n: 0.726, Значение статистики S_n = 0.732, Оцениваемый параметр: 1.0318, Квантиль = 1.22\n",
      "n = 1000, Уровень значисоти: 0.05, Значение статистики D_n: 0.726, Значение статистики S_n = 0.732, Оцениваемый параметр: 1.0318, Квантиль = 1.36\n"
     ]
    }
   ],
   "source": [
    "func(1000)"
   ]
  },
  {
   "cell_type": "code",
   "execution_count": 14,
   "metadata": {},
   "outputs": [
    {
     "name": "stdout",
     "output_type": "stream",
     "text": [
      "n = 10000, Уровень значисоти: 0.1, Значение статистики D_n: 0.634, Значение статистики S_n = 0.635, Оцениваемый параметр: 1.0057, Квантиль = 1.22\n",
      "n = 10000, Уровень значисоти: 0.05, Значение статистики D_n: 0.634, Значение статистики S_n = 0.635, Оцениваемый параметр: 1.0057, Квантиль = 1.36\n"
     ]
    }
   ],
   "source": [
    "func(10000)"
   ]
  },
  {
   "cell_type": "code",
   "execution_count": 15,
   "metadata": {},
   "outputs": [
    {
     "name": "stdout",
     "output_type": "stream",
     "text": [
      "n = 100000, Уровень значисоти: 0.1, Значение статистики D_n: 1.029, Значение статистики S_n = 1.03, Оцениваемый параметр: 1.0032, Квантиль = 1.22\n",
      "n = 100000, Уровень значисоти: 0.05, Значение статистики D_n: 1.029, Значение статистики S_n = 1.03, Оцениваемый параметр: 1.0032, Квантиль = 1.36\n"
     ]
    }
   ],
   "source": [
    "func(100000)"
   ]
  },
  {
   "cell_type": "code",
   "execution_count": null,
   "metadata": {},
   "outputs": [],
   "source": []
  }
 ],
 "metadata": {
  "kernelspec": {
   "display_name": "Python 3",
   "language": "python",
   "name": "python3"
  },
  "language_info": {
   "codemirror_mode": {
    "name": "ipython",
    "version": 3
   },
   "file_extension": ".py",
   "mimetype": "text/x-python",
   "name": "python",
   "nbconvert_exporter": "python",
   "pygments_lexer": "ipython3",
   "version": "3.7.3"
  }
 },
 "nbformat": 4,
 "nbformat_minor": 2
}
