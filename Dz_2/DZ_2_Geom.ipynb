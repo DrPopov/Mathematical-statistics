{
 "cells": [
  {
   "cell_type": "markdown",
   "metadata": {},
   "source": [
    "# Geometric distribution"
   ]
  },
  {
   "cell_type": "code",
   "execution_count": 98,
   "metadata": {},
   "outputs": [],
   "source": [
    "import timeit\n",
    "import matplotlib.pyplot as plt\n",
    "import random\n",
    "import numpy as np\n",
    "import pylab\n",
    "import math \n",
    "\n",
    "# GeomDIM - третья модель моделирования\n",
    "def geomDIM(n, p = 0.1, m = 5):\n",
    "    lst = []\n",
    "    for i in range(n):\n",
    "        a = random.random()\n",
    "        e = math.floor(math.log(a,math.e) / math.log(1 - p,math.e) )\n",
    "        lst.append(e)\n",
    "        \n",
    "        \n",
    "    return lst\n",
    "\n",
    "\n",
    "# Создание m массивов выборки\n",
    "def make_vibor(m):\n",
    "    A = []\n",
    "    for i in range(5):\n",
    "        row = []\n",
    "        A.append(row)\n",
    "    \n",
    "        row.append(geomDIM(m))\n",
    "        \n",
    "    l = 1\n",
    "    print('Реализация выборки объема %d: '%m)\n",
    "    print('')\n",
    "    for k in A:\n",
    "        print('%d): '%l, end='')\n",
    "        print(*k)\n",
    "        l += 1\n",
    "    return A"
   ]
  },
  {
   "cell_type": "markdown",
   "metadata": {},
   "source": [
    "<font color='red'> Моделирование выбранных случайных величин </font>"
   ]
  },
  {
   "cell_type": "markdown",
   "metadata": {},
   "source": [
    " Для n = 5:"
   ]
  },
  {
   "cell_type": "code",
   "execution_count": 109,
   "metadata": {},
   "outputs": [],
   "source": [
    "#make_vibor(5)"
   ]
  },
  {
   "cell_type": "markdown",
   "metadata": {},
   "source": [
    "Для n = 10:"
   ]
  },
  {
   "cell_type": "code",
   "execution_count": 110,
   "metadata": {},
   "outputs": [],
   "source": [
    "#make_vibor(10)"
   ]
  },
  {
   "cell_type": "markdown",
   "metadata": {},
   "source": [
    "Для n = 100:"
   ]
  },
  {
   "cell_type": "code",
   "execution_count": 111,
   "metadata": {},
   "outputs": [],
   "source": [
    "#make_vibor(100)"
   ]
  },
  {
   "cell_type": "markdown",
   "metadata": {},
   "source": [
    "Для n = 1000:"
   ]
  },
  {
   "cell_type": "code",
   "execution_count": 112,
   "metadata": {},
   "outputs": [],
   "source": [
    "#make_vibor(1000)"
   ]
  },
  {
   "cell_type": "markdown",
   "metadata": {},
   "source": [
    "Для n = 10**5:"
   ]
  },
  {
   "cell_type": "code",
   "execution_count": 113,
   "metadata": {},
   "outputs": [],
   "source": [
    "#make_vibor(10**5)"
   ]
  },
  {
   "cell_type": "markdown",
   "metadata": {},
   "source": [
    "<font color='red'> Построение эмпирической функции распределения </font> "
   ]
  },
  {
   "cell_type": "code",
   "execution_count": 62,
   "metadata": {},
   "outputs": [],
   "source": [
    "# Для удобства уберем вывод\n",
    "import timeit\n",
    "import matplotlib.pyplot as plt\n",
    "import random\n",
    "import numpy as np\n",
    "import pylab\n",
    "import math \n",
    "\n",
    "# GeomDIM - третья модель моделирования\n",
    "def geomDIM(n, p = 0.1, m = 5):\n",
    "    lst = []\n",
    "    for i in range(n):\n",
    "        a = random.random()\n",
    "        e = math.floor(math.log(a,math.e) / math.log(1 - p,math.e) )\n",
    "        lst.append(e)\n",
    "        \n",
    "        \n",
    "    return lst\n",
    "\n",
    "\n",
    "# Создание m массивов выборки\n",
    "def make_vibor(m):\n",
    "    A = []\n",
    "    for i in range(5):\n",
    "        row = []\n",
    "        A.append(row)\n",
    "    \n",
    "        row.append(geomDIM(m))\n",
    "        \n",
    "    l = 1\n",
    "    #print('Реализация выборки объема %d: '%m)\n",
    "    #print('')\n",
    "    for k in A:\n",
    "        #print('%d): '%l, end='')\n",
    "        #print(*k)\n",
    "        l += 1\n",
    "    return A"
   ]
  },
  {
   "cell_type": "code",
   "execution_count": 66,
   "metadata": {},
   "outputs": [],
   "source": [
    "import pylab\n",
    "import math \n",
    "import matplotlib\n",
    "import numpy as np\n",
    "import scipy.stats as sc\n",
    "from scipy.stats import geom\n",
    "import matplotlib.pyplot as plt\n",
    "from random import randint\n",
    "\n",
    "def make_efr(M, n, f_x = -1):\n",
    "\n",
    "    color = ['b', 'g', 'r', 'c', 'm', 'y', 'k', ]\n",
    "\n",
    "    upper_list = []\n",
    "    \n",
    "    \n",
    "    for sp in range(5):\n",
    "        dict_set = {}\n",
    "        for i in M[sp]:\n",
    "            #print(i)\n",
    "            s1 = sorted(set(i)) # вариационный ряд\n",
    "            capacity_vibor = len(s1)\n",
    "            \n",
    "            #словарь: ключ - случайная величина, значение - частота встречаемости\n",
    "            for k in s1:\n",
    "                dict_set[k] = [0, 0]\n",
    "\n",
    "            for t in i: \n",
    "                dict_set[t][0] += 1\n",
    "            \n",
    "            # Добавление в словарь второго значения - его вероятность \n",
    "            for s in dict_set:\n",
    "                a = dict_set[s][0] / n \n",
    "                dict_set[s][1] = float('{:.2f}'.format(a))\n",
    "\n",
    "            \n",
    "            lst = []\n",
    "            for elem in dict_set:\n",
    "                lst.append([elem, dict_set[elem][1]])\n",
    "            #print(lst)\n",
    "            \n",
    "\n",
    "            #print(\"Эмпирическая функция для реализации %d выборки объема %s:  \"%(sp + 1, n))\n",
    "            final_sum = 0\n",
    "            for index in range(len(lst) - 1):\n",
    "                \n",
    "                \n",
    "                #-------------------------------------------------------------upper_limit\n",
    "                final_sum += lst[index][1]\n",
    "                #print(lst[index + 1])\n",
    "                if lst[index ][0] <= f_x <= lst[index + 1][0]:\n",
    "                    upper_list.append(final_sum)\n",
    "                \n",
    "                #-----------------------------------------------------------------------------\n",
    "                    \n",
    "                \n",
    "              \n",
    "                \n",
    "                if f_x == -1:\n",
    "                    \n",
    "                    x0, y0 = [-2, lst[0][0]], [0,0]\n",
    "                    x1, y1 = [lst[index][0], lst[index + 1][0]],[final_sum, final_sum]\n",
    "                    x2, y2 = [lst[len(lst) - 1][0],lst[len(lst) - 1][0] + 2], [1,1]\n",
    "\n",
    "                    #x3, y3 =[lst[0][0] - 3, lst[len(lst) - 1][0] + 3],[quant, quant]# нахождение квантили\n",
    "\n",
    "\n",
    "                    plt.grid(True) #Сетка\n",
    "                    plt.plot(x0,y0, x1,y1, x2, y2, marker = 'o', color = color[sp])\n",
    "\n",
    "            if lst[len(lst) - 1][0] < f_x:\n",
    "                    upper_list.append(1)\n",
    "            #print(upper_list)\n",
    "        \n",
    "        if f_x == -1:\n",
    "            plt.plot(0,0, color = color[sp], label = 'Реализация %d'%(sp+ 1))\n",
    "            \n",
    "            pylab.legend ()\n",
    "            #plt.show()\n",
    "\n",
    "    return upper_list\n",
    "\n",
    "\n",
    "from scipy.stats import geom\n",
    "import matplotlib.pyplot as plt\n",
    "\n",
    "\n",
    "def make_сdf(p):\n",
    "    fig, ax = plt.subplots(1, 1)\n",
    "    x = np.arange(geom.ppf(0.01, p), geom.ppf(0.99, p))\n",
    "    \n",
    "    pylab.figure (1)\n",
    "    ax.plot(x, geom.cdf(x, p), 'bo', ms = 8, label = 'geom cdf')\n",
    "    #ax.vlines(x, 0, geom.pmf(x, p), colors='b', lw=5, alpha=0.5)\n",
    "\n",
    "    rv = sc.geom(p)\n",
    "    \n",
    "    #ax.vlines(x, 0, rv.pmf(x), colors='k', linestyles='-', lw=1, label='frozen pmf')\n",
    "    plt.grid(True) #Сетка\n",
    "    ax.legend(loc='best', frameon = False)\n",
    "    #plt.show()\n",
    "\n",
    "    \n",
    "def upper_limit(M, n , f_x):\n",
    "    lol = make_efr(M, n, f_x)\n",
    "    lol.sort(reverse = True)\n",
    "        \n",
    "    fin = -10000 # просто так\n",
    "    #--------------------------------Ищем разность\n",
    "    for i in range(len(lol) - 1):\n",
    "        for k in range(len(lol)):\n",
    "            res = lol[i] - lol[k]\n",
    "            if res > fin:\n",
    "                fin = res\n",
    "\n",
    "\n",
    "    print('Точная верхняя граница выборки объема %d: '%n, abs(fin))\n",
    "    \n",
    "    "
   ]
  },
  {
   "cell_type": "markdown",
   "metadata": {},
   "source": [
    "<font color='blue'>Эфр для выборок объема 5: </font> "
   ]
  },
  {
   "cell_type": "code",
   "execution_count": 64,
   "metadata": {},
   "outputs": [],
   "source": [
    "M = make_vibor(5)"
   ]
  },
  {
   "cell_type": "code",
   "execution_count": 334,
   "metadata": {
    "scrolled": true
   },
   "outputs": [
    {
     "data": {
      "text/plain": [
       "[]"
      ]
     },
     "execution_count": 334,
     "metadata": {},
     "output_type": "execute_result"
    },
    {
     "data": {
      "image/png": "[encoded data removed]",
      "text/plain": [
       "<Figure size 432x288 with 1 Axes>"
      ]
     },
     "metadata": {
      "needs_background": "light"
     },
     "output_type": "display_data"
    }
   ],
   "source": [
    "make_сdf(0.1)\n",
    "make_efr(M, 5)\n",
    "\n"
   ]
  },
  {
   "cell_type": "markdown",
   "metadata": {},
   "source": [
    "<font color='blue'>Эфр для выборок объема 10: </font> "
   ]
  },
  {
   "cell_type": "code",
   "execution_count": 187,
   "metadata": {},
   "outputs": [
    {
     "name": "stdout",
     "output_type": "stream",
     "text": [
      "1): [3, 14, 46, 1, 4, 0, 5, 15, 5, 23]\n",
      "2): [6, 3, 0, 30, 7, 18, 2, 1, 4, 11]\n",
      "3): [24, 1, 1, 7, 5, 7, 2, 0, 19, 5]\n",
      "4): [3, 40, 2, 5, 0, 42, 19, 2, 6, 13]\n",
      "5): [25, 23, 1, 2, 13, 1, 1, 1, 1, 2]\n"
     ]
    }
   ],
   "source": [
    "M = make_vibor(10)"
   ]
  },
  {
   "cell_type": "code",
   "execution_count": 139,
   "metadata": {},
   "outputs": [
    {
     "data": {
      "image/png": "[encoded data removed]",
      "text/plain": [
       "<Figure size 432x288 with 1 Axes>"
      ]
     },
     "metadata": {
      "needs_background": "light"
     },
     "output_type": "display_data"
    }
   ],
   "source": [
    "make_сdf(0.1)\n",
    "make_efr(M, 10)"
   ]
  },
  {
   "cell_type": "markdown",
   "metadata": {},
   "source": [
    "<font color='blue'>Эфр для выборок объема 100: </font> "
   ]
  },
  {
   "cell_type": "code",
   "execution_count": 140,
   "metadata": {},
   "outputs": [],
   "source": [
    "M = make_vibor(100)"
   ]
  },
  {
   "cell_type": "code",
   "execution_count": 141,
   "metadata": {},
   "outputs": [
    {
     "data": {
      "image/png": "[encoded data removed]",
      "text/plain": [
       "<Figure size 432x288 with 1 Axes>"
      ]
     },
     "metadata": {
      "needs_background": "light"
     },
     "output_type": "display_data"
    }
   ],
   "source": [
    "make_efr(M, 100)"
   ]
  },
  {
   "cell_type": "markdown",
   "metadata": {},
   "source": [
    "<font color='blue'>Эфр для выборок объема 1000: </font> "
   ]
  },
  {
   "cell_type": "code",
   "execution_count": 123,
   "metadata": {},
   "outputs": [],
   "source": [
    "M = make_vibor(1000)"
   ]
  },
  {
   "cell_type": "code",
   "execution_count": 124,
   "metadata": {},
   "outputs": [
    {
     "data": {
      "image/png": "[encoded data removed]",
      "text/plain": [
       "<Figure size 432x288 with 1 Axes>"
      ]
     },
     "metadata": {
      "needs_background": "light"
     },
     "output_type": "display_data"
    }
   ],
   "source": [
    "make_efr(M, 100)"
   ]
  },
  {
   "cell_type": "markdown",
   "metadata": {},
   "source": [
    "<font color='blue'>Эфр для выборок объема 10**5: </font> "
   ]
  },
  {
   "cell_type": "code",
   "execution_count": 125,
   "metadata": {},
   "outputs": [],
   "source": [
    "M = make_vibor(10**5)"
   ]
  },
  {
   "cell_type": "code",
   "execution_count": 126,
   "metadata": {},
   "outputs": [
    {
     "data": {
      "image/png": "[encoded data removed]",
      "text/plain": [
       "<Figure size 432x288 with 1 Axes>"
      ]
     },
     "metadata": {
      "needs_background": "light"
     },
     "output_type": "display_data"
    }
   ],
   "source": [
    "make_efr(M, 10**5)"
   ]
  },
  {
   "cell_type": "markdown",
   "metadata": {},
   "source": [
    "<font color='red'> Нахождение точной верхней границы </font> "
   ]
  },
  {
   "cell_type": "markdown",
   "metadata": {},
   "source": [
    "<font color='green'> Для n = 5: </font> "
   ]
  },
  {
   "cell_type": "code",
   "execution_count": 61,
   "metadata": {},
   "outputs": [
    {
     "ename": "NameError",
     "evalue": "name 'make_vibor' is not defined",
     "output_type": "error",
     "traceback": [
      "\u001b[1;31m---------------------------------------------------------------------------\u001b[0m",
      "\u001b[1;31mNameError\u001b[0m                                 Traceback (most recent call last)",
      "\u001b[1;32m<ipython-input-61-88d68345ab57>\u001b[0m in \u001b[0;36m<module>\u001b[1;34m\u001b[0m\n\u001b[1;32m----> 1\u001b[1;33m \u001b[0mM\u001b[0m \u001b[1;33m=\u001b[0m \u001b[0mmake_vibor\u001b[0m\u001b[1;33m(\u001b[0m\u001b[1;36m5\u001b[0m\u001b[1;33m)\u001b[0m\u001b[1;33m\u001b[0m\u001b[1;33m\u001b[0m\u001b[0m\n\u001b[0m",
      "\u001b[1;31mNameError\u001b[0m: name 'make_vibor' is not defined"
     ]
    }
   ],
   "source": [
    "M = make_vibor(5)"
   ]
  },
  {
   "cell_type": "code",
   "execution_count": 395,
   "metadata": {},
   "outputs": [
    {
     "name": "stdout",
     "output_type": "stream",
     "text": [
      "Точная верхняя граница выборки объема 5:  0.2\n"
     ]
    }
   ],
   "source": [
    "upper_limit(M, 5, 4)"
   ]
  },
  {
   "cell_type": "markdown",
   "metadata": {},
   "source": [
    "<font color='green'> Для n = 10: </font> "
   ]
  },
  {
   "cell_type": "code",
   "execution_count": 396,
   "metadata": {},
   "outputs": [],
   "source": [
    "M = make_vibor(10)"
   ]
  },
  {
   "cell_type": "code",
   "execution_count": 397,
   "metadata": {},
   "outputs": [
    {
     "name": "stdout",
     "output_type": "stream",
     "text": [
      "Точная верхняя граница выборки объема 10:  0.3\n"
     ]
    }
   ],
   "source": [
    "upper_limit(M, 10, 4)"
   ]
  },
  {
   "cell_type": "markdown",
   "metadata": {},
   "source": [
    "<font color='green'> Для n = 100: </font> "
   ]
  },
  {
   "cell_type": "code",
   "execution_count": 398,
   "metadata": {},
   "outputs": [],
   "source": [
    "M = make_vibor(100)"
   ]
  },
  {
   "cell_type": "code",
   "execution_count": 399,
   "metadata": {},
   "outputs": [
    {
     "name": "stdout",
     "output_type": "stream",
     "text": [
      "Точная верхняя граница выборки объема 100:  0.15999999999999998\n"
     ]
    }
   ],
   "source": [
    "upper_limit(M, 100, 4)"
   ]
  },
  {
   "cell_type": "markdown",
   "metadata": {},
   "source": [
    "<font color='green'> Для n = 1000: </font> "
   ]
  },
  {
   "cell_type": "code",
   "execution_count": 400,
   "metadata": {},
   "outputs": [],
   "source": [
    "M = make_vibor(1000)"
   ]
  },
  {
   "cell_type": "code",
   "execution_count": 401,
   "metadata": {},
   "outputs": [
    {
     "name": "stdout",
     "output_type": "stream",
     "text": [
      "Точная верхняя граница выборки объема 1000:  0.08000000000000007\n"
     ]
    }
   ],
   "source": [
    "upper_limit(M, 1000, 4)"
   ]
  },
  {
   "cell_type": "markdown",
   "metadata": {},
   "source": [
    "<font color='green'> Для n = 10**5: </font> "
   ]
  },
  {
   "cell_type": "code",
   "execution_count": 402,
   "metadata": {},
   "outputs": [],
   "source": [
    "M = make_vibor(10**5)"
   ]
  },
  {
   "cell_type": "code",
   "execution_count": 403,
   "metadata": {},
   "outputs": [
    {
     "name": "stdout",
     "output_type": "stream",
     "text": [
      "Точная верхняя граница выборки объема 100000:  0.07\n"
     ]
    }
   ],
   "source": [
    "upper_limit(M, 10**5, 4)"
   ]
  },
  {
   "cell_type": "markdown",
   "metadata": {},
   "source": [
    "<font color='red'> Построение вариационного ряда </font> "
   ]
  },
  {
   "cell_type": "markdown",
   "metadata": {},
   "source": [
    "Для удобства уберем все выводы"
   ]
  },
  {
   "cell_type": "code",
   "execution_count": 96,
   "metadata": {},
   "outputs": [],
   "source": [
    "import timeit\n",
    "import matplotlib.pyplot as plt\n",
    "import random\n",
    "import numpy as np\n",
    "import pylab\n",
    "import math \n",
    "\n",
    "# GeomDIM - третья модель моделирования\n",
    "def geomDIM(n, p = 0.1, m = 5):\n",
    "    lst = []\n",
    "    for i in range(n):\n",
    "        a = random.random()\n",
    "        e = math.floor(math.log(a,math.e) / math.log(1 - p,math.e) )\n",
    "        lst.append(e)\n",
    "        \n",
    "        \n",
    "    return lst\n",
    "\n",
    "\n",
    "# Создание m массивов выборки\n",
    "def make_vibor(m):\n",
    "    A = []\n",
    "    for i in range(5):\n",
    "        row = []\n",
    "        A.append(row)\n",
    "    \n",
    "        row.append(geomDIM(m))\n",
    "    return A\n",
    "    ''' \n",
    "    l = 1\n",
    "    print('Реализация выборки объема %d: '%m)\n",
    "    print('')\n",
    "    for k in A:\n",
    "        print('%d): '%l, end='')\n",
    "        print(*k)\n",
    "        l += 1\n",
    "    '''\n"
   ]
  },
  {
   "cell_type": "code",
   "execution_count": 61,
   "metadata": {},
   "outputs": [
    {
     "data": {
      "text/plain": [
       "3.0"
      ]
     },
     "execution_count": 61,
     "metadata": {},
     "output_type": "execute_result"
    }
   ],
   "source": [
    "import scipy.stats as st\n",
    "import pandas as pd\n",
    "\n",
    "r = st.geom.rvs(0.1, size=10)\n",
    "#print(r)\n",
    "s = pd.Series([1,3,3,4,4,4,5,7,9,15])\n",
    "s.quantile(0.14)"
   ]
  },
  {
   "cell_type": "code",
   "execution_count": 395,
   "metadata": {},
   "outputs": [],
   "source": [
    "#функция для построения вар.рядов для 5 реализаций  выборки M для n\n",
    "def make_var_row(n, M):\n",
    "    dict_set = {}\n",
    "    \n",
    "    print('Вариационные ряды для 5 реализаций выборки, объема  %d:  '%n)\n",
    "    print('')\n",
    "    \n",
    "    for sp in range(5):\n",
    "        dict_set = {}\n",
    "        for i in M[sp]:\n",
    "            s1 = sorted(set(i))\n",
    "            for k in s1:\n",
    "                dict_set[k] = 0\n",
    "\n",
    "            for t in i:\n",
    "                dict_set[t] += 1\n",
    "\n",
    "            \n",
    "            print('X:', end= '\\t')\n",
    "            \n",
    "            for elem in dict_set:\n",
    "                print(elem, end='\\t')\n",
    "            print('')\n",
    "            print('----------'*n)\n",
    "            print('f:', end= '\\t')\n",
    "            \n",
    "            for elem in dict_set:\n",
    "                print(dict_set[elem], end='\\t')\n",
    "            print('')\n",
    "            print('')\n",
    "            print('')\n",
    "            print('')\n",
    "            #print('------')"
   ]
  },
  {
   "cell_type": "markdown",
   "metadata": {},
   "source": [
    "Для n = 5"
   ]
  },
  {
   "cell_type": "code",
   "execution_count": 396,
   "metadata": {},
   "outputs": [
    {
     "name": "stdout",
     "output_type": "stream",
     "text": [
      "Реализация выборки объема 5: \n",
      "\n",
      "1): [15, 1, 5, 1, 0]\n",
      "2): [2, 6, 9, 25, 0]\n",
      "3): [8, 5, 7, 1, 4]\n",
      "4): [0, 8, 17, 13, 21]\n",
      "5): [18, 1, 0, 7, 3]\n"
     ]
    }
   ],
   "source": [
    "M1 = make_vibor(5)"
   ]
  },
  {
   "cell_type": "code",
   "execution_count": 397,
   "metadata": {},
   "outputs": [
    {
     "name": "stdout",
     "output_type": "stream",
     "text": [
      "Вариационные ряды для 5 реализаций выборки, объема  5:  \n",
      "\n",
      "X:\t0\t1\t5\t15\t\n",
      "--------------------------------------------------\n",
      "f:\t1\t2\t1\t1\t\n",
      "\n",
      "\n",
      "\n",
      "X:\t0\t2\t6\t9\t25\t\n",
      "--------------------------------------------------\n",
      "f:\t1\t1\t1\t1\t1\t\n",
      "\n",
      "\n",
      "\n",
      "X:\t1\t4\t5\t7\t8\t\n",
      "--------------------------------------------------\n",
      "f:\t1\t1\t1\t1\t1\t\n",
      "\n",
      "\n",
      "\n",
      "X:\t0\t8\t13\t17\t21\t\n",
      "--------------------------------------------------\n",
      "f:\t1\t1\t1\t1\t1\t\n",
      "\n",
      "\n",
      "\n",
      "X:\t0\t1\t3\t7\t18\t\n",
      "--------------------------------------------------\n",
      "f:\t1\t1\t1\t1\t1\t\n",
      "\n",
      "\n",
      "\n"
     ]
    }
   ],
   "source": [
    "make_var_row(5, M1)"
   ]
  },
  {
   "cell_type": "markdown",
   "metadata": {},
   "source": [
    "Для n = 10"
   ]
  },
  {
   "cell_type": "code",
   "execution_count": 398,
   "metadata": {},
   "outputs": [
    {
     "name": "stdout",
     "output_type": "stream",
     "text": [
      "Реализация выборки объема 10: \n",
      "\n",
      "1): [14, 7, 5, 2, 39, 19, 16, 5, 0, 1]\n",
      "2): [3, 0, 8, 2, 1, 1, 23, 6, 1, 1]\n",
      "3): [33, 15, 13, 12, 1, 3, 0, 6, 9, 2]\n",
      "4): [0, 28, 3, 1, 0, 0, 1, 5, 16, 0]\n",
      "5): [12, 17, 6, 8, 3, 4, 4, 0, 5, 1]\n"
     ]
    }
   ],
   "source": [
    "M2 = make_vibor(10)"
   ]
  },
  {
   "cell_type": "code",
   "execution_count": 399,
   "metadata": {},
   "outputs": [
    {
     "name": "stdout",
     "output_type": "stream",
     "text": [
      "Вариационные ряды для 5 реализаций выборки, объема  10:  \n",
      "\n",
      "X:\t0\t1\t2\t5\t7\t14\t16\t19\t39\t\n",
      "----------------------------------------------------------------------------------------------------\n",
      "f:\t1\t1\t1\t2\t1\t1\t1\t1\t1\t\n",
      "\n",
      "\n",
      "\n",
      "X:\t0\t1\t2\t3\t6\t8\t23\t\n",
      "----------------------------------------------------------------------------------------------------\n",
      "f:\t1\t4\t1\t1\t1\t1\t1\t\n",
      "\n",
      "\n",
      "\n",
      "X:\t0\t1\t2\t3\t6\t9\t12\t13\t15\t33\t\n",
      "----------------------------------------------------------------------------------------------------\n",
      "f:\t1\t1\t1\t1\t1\t1\t1\t1\t1\t1\t\n",
      "\n",
      "\n",
      "\n",
      "X:\t0\t1\t3\t5\t16\t28\t\n",
      "----------------------------------------------------------------------------------------------------\n",
      "f:\t4\t2\t1\t1\t1\t1\t\n",
      "\n",
      "\n",
      "\n",
      "X:\t0\t1\t3\t4\t5\t6\t8\t12\t17\t\n",
      "----------------------------------------------------------------------------------------------------\n",
      "f:\t1\t1\t1\t2\t1\t1\t1\t1\t1\t\n",
      "\n",
      "\n",
      "\n"
     ]
    }
   ],
   "source": [
    "make_var_row(10, M2)"
   ]
  },
  {
   "cell_type": "markdown",
   "metadata": {},
   "source": [
    "Для n = 100:"
   ]
  },
  {
   "cell_type": "code",
   "execution_count": 238,
   "metadata": {},
   "outputs": [],
   "source": [
    "M3 = make_vibor(100)"
   ]
  },
  {
   "cell_type": "markdown",
   "metadata": {},
   "source": [
    "make_var_row(100, M3)"
   ]
  },
  {
   "cell_type": "markdown",
   "metadata": {},
   "source": [
    "Для n = 1000:"
   ]
  },
  {
   "cell_type": "code",
   "execution_count": 241,
   "metadata": {},
   "outputs": [],
   "source": [
    "M4 = make_vibor(1000)"
   ]
  },
  {
   "cell_type": "code",
   "execution_count": null,
   "metadata": {},
   "outputs": [],
   "source": [
    "make_var_row(1000, M4)"
   ]
  },
  {
   "cell_type": "markdown",
   "metadata": {},
   "source": [
    "Для n = 10**5"
   ]
  },
  {
   "cell_type": "code",
   "execution_count": 244,
   "metadata": {},
   "outputs": [],
   "source": [
    "M5 = make_vibor(10**5)"
   ]
  },
  {
   "cell_type": "code",
   "execution_count": null,
   "metadata": {},
   "outputs": [],
   "source": [
    "make_var_row(10**5, M5)"
   ]
  },
  {
   "cell_type": "code",
   "execution_count": null,
   "metadata": {},
   "outputs": [],
   "source": []
  },
  {
   "cell_type": "markdown",
   "metadata": {},
   "source": []
  },
  {
   "cell_type": "markdown",
   "metadata": {},
   "source": [
    "<font color='blue'> Нахождение квантильи </font>"
   ]
  },
  {
   "cell_type": "code",
   "execution_count": 60,
   "metadata": {},
   "outputs": [],
   "source": [
    "def upper_limit_quan(M, n , f_x):\n",
    "    lol = make_efr(M, n, f_x)\n",
    "    lol.sort(reverse = True)\n",
    "        \n",
    "\n",
    "\n",
    "\n",
    "    print(lol)"
   ]
  },
  {
   "cell_type": "code",
   "execution_count": 67,
   "metadata": {},
   "outputs": [
    {
     "name": "stdout",
     "output_type": "stream",
     "text": [
      "[0.4, 0.2]\n"
     ]
    }
   ],
   "source": [
    "upper_limit_quan(M,5, 2)"
   ]
  },
  {
   "cell_type": "code",
   "execution_count": 59,
   "metadata": {},
   "outputs": [],
   "source": [
    "import scipy.stats as st\n",
    "import pandas as pd\n",
    "import numpy as np\n",
    "\n",
    "def find_quantile(level):\n",
    "    geom_numbers = st.geom.rvs(0.1, size=10)\n",
    "\n",
    "    s = pd.Series(geom_numbers)\n",
    "\n",
    "    quan = s.quantile(level)\n",
    "    print('Квантиль уровня ', level,':',  float('{:.3f}'.format(quan)))\n",
    "\n",
    "    \n",
    "def get_my_quantile(level):\n",
    "    "
   ]
  },
  {
   "cell_type": "code",
   "execution_count": 56,
   "metadata": {},
   "outputs": [
    {
     "name": "stdout",
     "output_type": "stream",
     "text": [
      "Квантиль уровня  0.1 : 1.9\n"
     ]
    }
   ],
   "source": [
    "find_quantile(0.1)"
   ]
  },
  {
   "cell_type": "code",
   "execution_count": 57,
   "metadata": {},
   "outputs": [
    {
     "name": "stdout",
     "output_type": "stream",
     "text": [
      "Квантиль уровня  0.5 : 4.5\n"
     ]
    }
   ],
   "source": [
    "find_quantile(0.5)"
   ]
  },
  {
   "cell_type": "code",
   "execution_count": 58,
   "metadata": {},
   "outputs": [
    {
     "name": "stdout",
     "output_type": "stream",
     "text": [
      "Квантиль уровня  0.7 : 14.3\n"
     ]
    }
   ],
   "source": [
    "find_quantile(0.7)"
   ]
  },
  {
   "cell_type": "code",
   "execution_count": null,
   "metadata": {},
   "outputs": [],
   "source": []
  },
  {
   "cell_type": "code",
   "execution_count": null,
   "metadata": {},
   "outputs": [],
   "source": []
  }
 ],
 "metadata": {
  "kernelspec": {
   "display_name": "Python 3",
   "language": "python",
   "name": "python3"
  },
  "language_info": {
   "codemirror_mode": {
    "name": "ipython",
    "version": 3
   },
   "file_extension": ".py",
   "mimetype": "text/x-python",
   "name": "python",
   "nbconvert_exporter": "python",
   "pygments_lexer": "ipython3",
   "version": "3.7.3"
  }
 },
 "nbformat": 4,
 "nbformat_minor": 2
}
