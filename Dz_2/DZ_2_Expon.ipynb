{
 "cells": [
  {
   "cell_type": "markdown",
   "metadata": {},
   "source": [
    "# Exponential distibution"
   ]
  },
  {
   "cell_type": "code",
   "execution_count": 139,
   "metadata": {},
   "outputs": [],
   "source": [
    "# my own func\n",
    "import random \n",
    "import math\n",
    "\n",
    "def my_expon(lam, n):\n",
    "    lst = []\n",
    "    for i in range(n):\n",
    "        r = random.random()\n",
    "        x = -math.log(r,math.e) / lam\n",
    "        lst.append(float('{:.3f}'.format(x)))\n",
    "    \n",
    "    return lst\n",
    "    \n",
    "# Создание m массивов выборки\n",
    "def make_vibor_exp(lam, m):\n",
    "    A = []\n",
    "    for i in range(5):\n",
    "        row = []\n",
    "        A.append(row)\n",
    "    \n",
    "        row.append(my_expon(lam, m))\n",
    "        \n",
    "    l = 1\n",
    "    #print('Реализация выборки экспоненциального распределени объема %d: '%m)\n",
    "    #print('')\n",
    "    for k in A:\n",
    "        #print('%d): '%l, end='')\n",
    "        print(*k)\n",
    "        l += 1\n",
    "    return A"
   ]
  },
  {
   "cell_type": "markdown",
   "metadata": {},
   "source": [
    "<font color='red'> Моделирование выбранных случайных величин </font>"
   ]
  },
  {
   "cell_type": "code",
   "execution_count": 135,
   "metadata": {},
   "outputs": [
    {
     "name": "stdout",
     "output_type": "stream",
     "text": [
      "[11.3396, 0.9625, 57.4477, 64.7878, 1.5075]\n",
      "[9.7044, 14.0247, 17.5419, 9.8734, 9.0724]\n",
      "[4.3847, 14.8357, 5.9948, 6.6423, 34.6724]\n",
      "[30.6441, 1.1795, 19.5554, 16.0444, 9.3733]\n",
      "[17.1508, 7.887, 4.2636, 22.7333, 0.2077]\n"
     ]
    },
    {
     "data": {
      "text/plain": [
       "[[[11.3396, 0.9625, 57.4477, 64.7878, 1.5075]],\n",
       " [[9.7044, 14.0247, 17.5419, 9.8734, 9.0724]],\n",
       " [[4.3847, 14.8357, 5.9948, 6.6423, 34.6724]],\n",
       " [[30.6441, 1.1795, 19.5554, 16.0444, 9.3733]],\n",
       " [[17.1508, 7.887, 4.2636, 22.7333, 0.2077]]]"
      ]
     },
     "execution_count": 135,
     "metadata": {},
     "output_type": "execute_result"
    }
   ],
   "source": [
    "make_vibor_exp(0.1, 5)"
   ]
  },
  {
   "cell_type": "code",
   "execution_count": 4,
   "metadata": {},
   "outputs": [
    {
     "name": "stdout",
     "output_type": "stream",
     "text": [
      "Реализация выборки экспоненциального распределени объема 10: \n",
      "\n",
      "1): [1.66, 14.9, 2.17, 20.85, 7.25, 7.47, 5.29, 10.74, 14.86, 5.27]\n",
      "2): [1.58, 5.13, 1.45, 1.52, 2.33, 11.19, 0.7, 7.63, 7.85, 7.33]\n",
      "3): [0.22, 0.12, 1.13, 1.98, 4.47, 3.96, 2.78, 0.01, 15.99, 4.01]\n",
      "4): [1.19, 14.14, 4.37, 29.15, 5.2, 6.9, 27.49, 18.68, 10.77, 0.32]\n",
      "5): [1.72, 7.55, 17.26, 3.43, 2.78, 8.24, 4.61, 1.95, 18.01, 30.6]\n"
     ]
    },
    {
     "data": {
      "text/plain": [
       "[[[1.66, 14.9, 2.17, 20.85, 7.25, 7.47, 5.29, 10.74, 14.86, 5.27]],\n",
       " [[1.58, 5.13, 1.45, 1.52, 2.33, 11.19, 0.7, 7.63, 7.85, 7.33]],\n",
       " [[0.22, 0.12, 1.13, 1.98, 4.47, 3.96, 2.78, 0.01, 15.99, 4.01]],\n",
       " [[1.19, 14.14, 4.37, 29.15, 5.2, 6.9, 27.49, 18.68, 10.77, 0.32]],\n",
       " [[1.72, 7.55, 17.26, 3.43, 2.78, 8.24, 4.61, 1.95, 18.01, 30.6]]]"
      ]
     },
     "execution_count": 4,
     "metadata": {},
     "output_type": "execute_result"
    }
   ],
   "source": [
    "make_vibor_exp(0.1, 10)"
   ]
  },
  {
   "cell_type": "code",
   "execution_count": 5,
   "metadata": {},
   "outputs": [],
   "source": [
    "#make_vibor_exp(0.1, 100)"
   ]
  },
  {
   "cell_type": "code",
   "execution_count": 6,
   "metadata": {},
   "outputs": [],
   "source": [
    "#make_vibor_exp(0.1, 1000)"
   ]
  },
  {
   "cell_type": "code",
   "execution_count": 7,
   "metadata": {},
   "outputs": [],
   "source": [
    "#make_vibor_exp(0.1, 10000)"
   ]
  },
  {
   "cell_type": "markdown",
   "metadata": {},
   "source": [
    "<font color='red'> Построение эмпирической функции распределения </font> "
   ]
  },
  {
   "cell_type": "code",
   "execution_count": 167,
   "metadata": {},
   "outputs": [],
   "source": [
    "import pylab\n",
    "import math \n",
    "import matplotlib\n",
    "import random\n",
    "import numpy as np\n",
    "import scipy.stats as sc\n",
    "from random import randint\n",
    "import matplotlib.pyplot as plt\n",
    "\n",
    "\n",
    "# Создание m массивов выборки\n",
    "def make_vibor_exp(lam, m):\n",
    "    A = []\n",
    "    for i in range(5):\n",
    "        row = []\n",
    "        A.append(row)\n",
    "    \n",
    "        row.append(my_expon(lam, m))\n",
    "        \n",
    "    l = 1\n",
    "    #print('Реализация выборки экспоненциального распределени объема %d: '%m)\n",
    "    #print('')\n",
    "    for k in A:\n",
    "        #print('%d): '%l, end='')\n",
    "        #print(*k)\n",
    "        l += 1\n",
    "    return A\n",
    "\n",
    "\n",
    "def make_efr_expon(M, n, f_x = -1):\n",
    "\n",
    "    color = ['b', 'g', 'r', 'c', 'm', 'y', 'k', ]\n",
    "\n",
    "    upper_list = []\n",
    "    \n",
    "    \n",
    "    for sp in range(5):\n",
    "        dict_set = {}\n",
    "        for i in M[sp]:\n",
    "            #print(i)\n",
    "            s1 = sorted(set(i)) # вариационный ряд\n",
    "            capacity_vibor = len(s1)\n",
    "            \n",
    "            #словарь: ключ - случайная величина, значение - частота встречаемости\n",
    "            for k in s1:\n",
    "                dict_set[k] = [0, 0]\n",
    "\n",
    "            for t in i: \n",
    "                dict_set[t][0] += 1\n",
    "            \n",
    "            # Добавление в словарь второго значения - его вероятность \n",
    "            for s in dict_set:\n",
    "                a = dict_set[s][0] / n \n",
    "                dict_set[s][1] = float('{:.2f}'.format(a))\n",
    "\n",
    "            \n",
    "            lst = []\n",
    "            for elem in dict_set:\n",
    "                lst.append([elem, dict_set[elem][1]])\n",
    "            #print(lst)\n",
    "            \n",
    "\n",
    "            #print(\"Эмпирическая функция для реализации %d выборки объема %s:  \"%(sp + 1, n))\n",
    "            final_sum = 0\n",
    "            for index in range(len(lst) - 1):\n",
    "                \n",
    "                \n",
    "                #-------------------------------------------------------------upper_limit\n",
    "                final_sum += lst[index][1]\n",
    "                #print(lst[index + 1])\n",
    "                if lst[index ][0] <= f_x <= lst[index + 1][0]:\n",
    "                    upper_list.append(final_sum)\n",
    "                \n",
    "                #-----------------------------------------------------------------------------\n",
    "                    \n",
    "                \n",
    "              \n",
    "                \n",
    "                if f_x == -1:\n",
    "                    \n",
    "                    x0, y0 = [-2, lst[0][0]], [0,0]\n",
    "                    x1, y1 = [lst[index][0], lst[index + 1][0]],[final_sum, final_sum]\n",
    "                    x2, y2 = [lst[len(lst) - 1][0],lst[len(lst) - 1][0] + 2], [1,1]\n",
    "\n",
    "                    #x3, y3 =[lst[0][0] - 3, lst[len(lst) - 1][0] + 3],[quant, quant]# нахождение квантили\n",
    "\n",
    "\n",
    "                    plt.grid(True) #Сетка\n",
    "                    plt.plot(x0,y0, x1,y1, x2, y2, marker = 'o', color = color[sp])\n",
    "\n",
    "            if lst[len(lst) - 1][0] < f_x:\n",
    "                    upper_list.append(1)\n",
    "            #print(upper_list)\n",
    "        \n",
    "        if f_x == -1:\n",
    "            plt.plot(0,0, color = color[sp], label = 'Реализация %d'%(sp+ 1))\n",
    "            \n",
    "            pylab.legend ()\n",
    "            #plt.show()\n",
    "\n",
    "    return upper_list\n",
    "\n",
    "\n",
    "\n",
    "\n",
    "\n",
    "\n",
    "def make_сdf_expon():\n",
    "    fig, ax = plt.subplots(1, 1)\n",
    "    x = np.linspace(sc.expon.ppf(0.01), sc.expon.ppf(0.9), 100)\n",
    "    \n",
    "\n",
    "    ax.plot(x, sc.expon.cdf(x),'r-', lw=5, alpha = 0.6, label='expon cdf')\n",
    "\n",
    "    rv = sc.expon()\n",
    "    \n",
    "    #ax.vlines(x, 0, rv.pmf(x), colors='k', linestyles='-', lw=1, label='frozen pmf')\n",
    "    plt.grid(True) #Сетка\n",
    "    ax.legend(loc='best', frameon = False)\n",
    "    #plt.show()\n",
    "\n",
    "    \n",
    "def upper_limit_expon(M, n , f_x):\n",
    "    lol = make_efr_expon(M, n, f_x)\n",
    "    lol.sort(reverse = True)\n",
    "        \n",
    "    fin = -10000 # просто так\n",
    "    #--------------------------------Ищем разность\n",
    "    for i in range(len(lol) - 1):\n",
    "        for k in range(len(lol)):\n",
    "            res = lol[i] - lol[k]\n",
    "            if res > fin:\n",
    "                fin = res\n",
    "\n",
    "\n",
    "    print('Точная верхняя граница выборки объема %d: '%n, float('{:.4f}'.format(abs(fin))))\n",
    "    \n",
    "    "
   ]
  },
  {
   "cell_type": "markdown",
   "metadata": {},
   "source": [
    "<font color='blue'>Эфр для выборок объема 5: </font> "
   ]
  },
  {
   "cell_type": "code",
   "execution_count": 150,
   "metadata": {},
   "outputs": [
    {
     "data": {
      "text/plain": [
       "[]"
      ]
     },
     "execution_count": 150,
     "metadata": {},
     "output_type": "execute_result"
    },
    {
     "data": {
      "image/png": "[encoded data removed]",
      "text/plain": [
       "<Figure size 432x288 with 1 Axes>"
      ]
     },
     "metadata": {
      "needs_background": "light"
     },
     "output_type": "display_data"
    }
   ],
   "source": [
    "M = make_vibor_exp(0.8, 5)\n",
    "make_сdf_expon()\n",
    "make_efr_expon(M, 5)"
   ]
  },
  {
   "cell_type": "markdown",
   "metadata": {},
   "source": [
    "<font color='blue'>Эфр для выборок объема 10: </font> "
   ]
  },
  {
   "cell_type": "code",
   "execution_count": 146,
   "metadata": {},
   "outputs": [
    {
     "data": {
      "text/plain": [
       "[]"
      ]
     },
     "execution_count": 146,
     "metadata": {},
     "output_type": "execute_result"
    },
    {
     "data": {
      "image/png": "[encoded data removed]",
      "text/plain": [
       "<Figure size 432x288 with 1 Axes>"
      ]
     },
     "metadata": {
      "needs_background": "light"
     },
     "output_type": "display_data"
    }
   ],
   "source": [
    "M = make_vibor_exp(0.8, 10)\n",
    "make_сdf_expon()\n",
    "make_efr_expon(M, 10)"
   ]
  },
  {
   "cell_type": "markdown",
   "metadata": {},
   "source": [
    "<font color='blue'>Эфр для выборок объема 100: </font> "
   ]
  },
  {
   "cell_type": "code",
   "execution_count": 147,
   "metadata": {},
   "outputs": [
    {
     "data": {
      "text/plain": [
       "[]"
      ]
     },
     "execution_count": 147,
     "metadata": {},
     "output_type": "execute_result"
    },
    {
     "data": {
      "image/png": "[encoded data removed]",
      "text/plain": [
       "<Figure size 432x288 with 1 Axes>"
      ]
     },
     "metadata": {
      "needs_background": "light"
     },
     "output_type": "display_data"
    }
   ],
   "source": [
    "M = make_vibor_exp(0.8, 100)\n",
    "make_сdf_expon()\n",
    "make_efr_expon(M, 100)"
   ]
  },
  {
   "cell_type": "markdown",
   "metadata": {},
   "source": [
    "<font color='blue'>Эфр для выборок объема 1000: </font> "
   ]
  },
  {
   "cell_type": "code",
   "execution_count": 141,
   "metadata": {},
   "outputs": [
    {
     "data": {
      "text/plain": [
       "[]"
      ]
     },
     "execution_count": 141,
     "metadata": {},
     "output_type": "execute_result"
    },
    {
     "data": {
      "image/png": "[encoded data removed]",
      "text/plain": [
       "<Figure size 432x288 with 1 Axes>"
      ]
     },
     "metadata": {
      "needs_background": "light"
     },
     "output_type": "display_data"
    }
   ],
   "source": [
    "M = make_vibor_exp(0.8, 1000)\n",
    "make_сdf_expon()\n",
    "make_efr_expon(M, 1000)"
   ]
  },
  {
   "cell_type": "markdown",
   "metadata": {},
   "source": [
    "<font color='blue'>Эфр для выборок объема 10**5: </font> "
   ]
  },
  {
   "cell_type": "code",
   "execution_count": 148,
   "metadata": {},
   "outputs": [
    {
     "data": {
      "text/plain": [
       "[]"
      ]
     },
     "execution_count": 148,
     "metadata": {},
     "output_type": "execute_result"
    },
    {
     "data": {
      "image/png": "[encoded data removed]",
      "text/plain": [
       "<Figure size 432x288 with 1 Axes>"
      ]
     },
     "metadata": {
      "needs_background": "light"
     },
     "output_type": "display_data"
    }
   ],
   "source": [
    "M = make_vibor_exp(0.8, 10**5)\n",
    "make_сdf_expon()\n",
    "make_efr_expon(M, 10**5)"
   ]
  },
  {
   "cell_type": "markdown",
   "metadata": {},
   "source": [
    "<font color='red'> Нахождение точной верхней границы </font> "
   ]
  },
  {
   "cell_type": "markdown",
   "metadata": {},
   "source": [
    "<font color='green'> Для n = 5: </font> "
   ]
  },
  {
   "cell_type": "code",
   "execution_count": 168,
   "metadata": {},
   "outputs": [
    {
     "name": "stdout",
     "output_type": "stream",
     "text": [
      "Точная верхняя граница выборки объема 5:  0.2\n"
     ]
    }
   ],
   "source": [
    "M = make_vibor_exp(0.8, 5)\n",
    "upper_limit_expon(M, 5, 4)"
   ]
  },
  {
   "cell_type": "markdown",
   "metadata": {},
   "source": [
    "<font color='green'> Для n = 10: </font> "
   ]
  },
  {
   "cell_type": "code",
   "execution_count": 169,
   "metadata": {},
   "outputs": [
    {
     "name": "stdout",
     "output_type": "stream",
     "text": [
      "Точная верхняя граница выборки объема 10:  0.1\n"
     ]
    }
   ],
   "source": [
    "M = make_vibor_exp(0.8, 10)\n",
    "upper_limit_expon(M, 10, 4)"
   ]
  },
  {
   "cell_type": "markdown",
   "metadata": {},
   "source": [
    "<font color='green'> Для n = 100: </font> "
   ]
  },
  {
   "cell_type": "code",
   "execution_count": 170,
   "metadata": {},
   "outputs": [
    {
     "name": "stdout",
     "output_type": "stream",
     "text": [
      "Точная верхняя граница выборки объема 100:  0.04\n"
     ]
    }
   ],
   "source": [
    "M = make_vibor_exp(0.8, 100)\n",
    "upper_limit_expon(M, 100, 4)"
   ]
  },
  {
   "cell_type": "markdown",
   "metadata": {},
   "source": [
    "<font color='green'> Для n = 1000: </font> "
   ]
  },
  {
   "cell_type": "code",
   "execution_count": 171,
   "metadata": {},
   "outputs": [
    {
     "name": "stdout",
     "output_type": "stream",
     "text": [
      "Точная верхняя граница выборки объема 1000:  0.03\n"
     ]
    }
   ],
   "source": [
    "M = make_vibor_exp(0.8, 1000)\n",
    "upper_limit_expon(M, 1000, 4)"
   ]
  },
  {
   "cell_type": "markdown",
   "metadata": {},
   "source": [
    "<font color='green'> Для n = 10**5: </font> "
   ]
  },
  {
   "cell_type": "code",
   "execution_count": 172,
   "metadata": {},
   "outputs": [
    {
     "name": "stdout",
     "output_type": "stream",
     "text": [
      "Точная верхняя граница выборки объема 100000:  0.01\n"
     ]
    }
   ],
   "source": [
    "M = make_vibor_exp(0.8, 10**5)\n",
    "upper_limit_expon(M, 10**5, 4)"
   ]
  },
  {
   "cell_type": "markdown",
   "metadata": {},
   "source": [
    "<font color='red'> Построение вариационного ряда </font> "
   ]
  },
  {
   "cell_type": "code",
   "execution_count": null,
   "metadata": {},
   "outputs": [],
   "source": []
  },
  {
   "cell_type": "code",
   "execution_count": 173,
   "metadata": {},
   "outputs": [],
   "source": [
    "#функция для построения вар.рядов для 5 реализаций  выборки M для n\n",
    "def make_var_row_exp(n, M):\n",
    "    dict_set = {}\n",
    "    \n",
    "    print('Вариационные ряды для 5 реализаций выборки, объема  %d:  '%n)\n",
    "    print('')\n",
    "    \n",
    "    for sp in range(5):\n",
    "        dict_set = {}\n",
    "        for i in M[sp]:\n",
    "            s1 = sorted(set(i))\n",
    "            for k in s1:\n",
    "                dict_set[k] = 0\n",
    "\n",
    "            for t in i:\n",
    "                dict_set[t] += 1\n",
    "\n",
    "            \n",
    "            print('X:', end= '\\t')\n",
    "            \n",
    "            for elem in dict_set:\n",
    "                print(elem, end='\\t')\n",
    "            print('')\n",
    "            print('----------'*n)\n",
    "            print('f:', end= '\\t')\n",
    "            \n",
    "            for elem in dict_set:\n",
    "                print(dict_set[elem], end='\\t')\n",
    "            print('')\n",
    "            print('')\n",
    "            print('')\n",
    "            print('')\n",
    "            #print('------')"
   ]
  },
  {
   "cell_type": "code",
   "execution_count": 175,
   "metadata": {},
   "outputs": [
    {
     "name": "stdout",
     "output_type": "stream",
     "text": [
      "Вариационные ряды для 5 реализаций выборки, объема  5:  \n",
      "\n",
      "X:\t0.0\t0.4\t0.7\t1.9\t3.8\t\n",
      "--------------------------------------------------\n",
      "f:\t1\t1\t1\t1\t1\t\n",
      "\n",
      "\n",
      "\n",
      "X:\t0.9\t1.1\t2.0\t11.7\t\n",
      "--------------------------------------------------\n",
      "f:\t1\t1\t2\t1\t\n",
      "\n",
      "\n",
      "\n",
      "X:\t0.1\t0.2\t0.4\t1.2\t2.2\t\n",
      "--------------------------------------------------\n",
      "f:\t1\t1\t1\t1\t1\t\n",
      "\n",
      "\n",
      "\n",
      "X:\t0.3\t0.5\t0.7\t2.6\t\n",
      "--------------------------------------------------\n",
      "f:\t1\t1\t2\t1\t\n",
      "\n",
      "\n",
      "\n",
      "X:\t0.2\t0.3\t0.5\t0.9\t1.1\t\n",
      "--------------------------------------------------\n",
      "f:\t1\t1\t1\t1\t1\t\n",
      "\n",
      "\n",
      "\n"
     ]
    }
   ],
   "source": [
    "M = make_vibor_exp(0.8, 5)\n",
    "make_var_row_exp(5, M)"
   ]
  },
  {
   "cell_type": "code",
   "execution_count": 176,
   "metadata": {},
   "outputs": [
    {
     "name": "stdout",
     "output_type": "stream",
     "text": [
      "Вариационные ряды для 5 реализаций выборки, объема  10:  \n",
      "\n",
      "X:\t0.0\t0.1\t0.2\t0.3\t0.4\t0.5\t0.8\t0.9\t1.2\t\n",
      "----------------------------------------------------------------------------------------------------\n",
      "f:\t1\t1\t1\t1\t2\t1\t1\t1\t1\t\n",
      "\n",
      "\n",
      "\n",
      "X:\t0.2\t0.6\t0.8\t1.0\t1.7\t1.8\t2.0\t3.2\t\n",
      "----------------------------------------------------------------------------------------------------\n",
      "f:\t1\t2\t1\t1\t1\t2\t1\t1\t\n",
      "\n",
      "\n",
      "\n",
      "X:\t0.3\t0.4\t0.7\t1.0\t1.6\t2.0\t2.2\t2.4\t3.1\t\n",
      "----------------------------------------------------------------------------------------------------\n",
      "f:\t1\t1\t1\t2\t1\t1\t1\t1\t1\t\n",
      "\n",
      "\n",
      "\n",
      "X:\t0.2\t0.3\t0.6\t0.9\t1.2\t1.4\t1.5\t1.7\t2.5\t3.3\t\n",
      "----------------------------------------------------------------------------------------------------\n",
      "f:\t1\t1\t1\t1\t1\t1\t1\t1\t1\t1\t\n",
      "\n",
      "\n",
      "\n",
      "X:\t0.1\t0.2\t0.3\t1.3\t1.5\t3.1\t3.6\t\n",
      "----------------------------------------------------------------------------------------------------\n",
      "f:\t1\t1\t4\t1\t1\t1\t1\t\n",
      "\n",
      "\n",
      "\n"
     ]
    }
   ],
   "source": [
    "M = make_vibor_exp(0.8, 10)\n",
    "make_var_row_exp(10, M)"
   ]
  },
  {
   "cell_type": "code",
   "execution_count": 177,
   "metadata": {},
   "outputs": [],
   "source": [
    "#M = make_vibor_exp(0.8, 100)\n",
    "#make_var_row_exp(100, M)"
   ]
  },
  {
   "cell_type": "code",
   "execution_count": 178,
   "metadata": {},
   "outputs": [],
   "source": [
    "#M = make_vibor_exp(0.8, 1000)\n",
    "#make_var_row_exp(1000, M)"
   ]
  },
  {
   "cell_type": "code",
   "execution_count": 180,
   "metadata": {},
   "outputs": [],
   "source": [
    "#M = make_vibor_exp(0.8, 10**5)\n",
    "#make_var_row_exp(10**5, M)"
   ]
  },
  {
   "cell_type": "code",
   "execution_count": null,
   "metadata": {},
   "outputs": [],
   "source": []
  }
 ],
 "metadata": {
  "kernelspec": {
   "display_name": "Python 3",
   "language": "python",
   "name": "python3"
  },
  "language_info": {
   "codemirror_mode": {
    "name": "ipython",
    "version": 3
   },
   "file_extension": ".py",
   "mimetype": "text/x-python",
   "name": "python",
   "nbconvert_exporter": "python",
   "pygments_lexer": "ipython3",
   "version": "3.7.3"
  }
 },
 "nbformat": 4,
 "nbformat_minor": 2
}
