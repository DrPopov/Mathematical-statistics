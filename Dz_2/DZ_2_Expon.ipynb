{
 "cells": [
  {
   "cell_type": "markdown",
   "metadata": {},
   "source": [
    "# Exponential distibution"
   ]
  },
  {
   "cell_type": "code",
   "execution_count": 1,
   "metadata": {},
   "outputs": [],
   "source": [
    "# my own func\n",
    "import random \n",
    "import math\n",
    "\n",
    "def expon(lam, n):\n",
    "    lst = []\n",
    "    for i in range(n):\n",
    "        r = random.random()\n",
    "        x = -math.log(r,math.e) / lam\n",
    "        lst.append(float('{:.2f}'.format(x)))\n",
    "    \n",
    "    return lst\n",
    "    \n",
    "# Создание m массивов выборки\n",
    "def make_vibor_exp(lam, m):\n",
    "    A = []\n",
    "    for i in range(5):\n",
    "        row = []\n",
    "        A.append(row)\n",
    "    \n",
    "        row.append(expon(lam, m))\n",
    "        \n",
    "    l = 1\n",
    "    print('Реализация выборки экспоненциального распределени объема %d: '%m)\n",
    "    print('')\n",
    "    for k in A:\n",
    "        print('%d): '%l, end='')\n",
    "        print(*k)\n",
    "        l += 1\n",
    "    return A"
   ]
  },
  {
   "cell_type": "markdown",
   "metadata": {},
   "source": [
    "<font color='red'> Моделирование выбранных случайных величин </font>"
   ]
  },
  {
   "cell_type": "code",
   "execution_count": 19,
   "metadata": {},
   "outputs": [
    {
     "name": "stdout",
     "output_type": "stream",
     "text": [
      "Реализация выборки экспоненциального распределени объема 5: \n",
      "\n",
      "1): [6.8, 8.87, 4.05, 7.33, 8.5]\n",
      "2): [2.47, 4.11, 8.82, 12.82, 2.63]\n",
      "3): [21.41, 5.13, 14.58, 14.41, 1.86]\n",
      "4): [26.62, 5.43, 25.14, 4.77, 6.53]\n",
      "5): [14.35, 1.79, 4.8, 2.95, 2.96]\n"
     ]
    },
    {
     "data": {
      "text/plain": [
       "[[[6.8, 8.87, 4.05, 7.33, 8.5]],\n",
       " [[2.47, 4.11, 8.82, 12.82, 2.63]],\n",
       " [[21.41, 5.13, 14.58, 14.41, 1.86]],\n",
       " [[26.62, 5.43, 25.14, 4.77, 6.53]],\n",
       " [[14.35, 1.79, 4.8, 2.95, 2.96]]]"
      ]
     },
     "execution_count": 19,
     "metadata": {},
     "output_type": "execute_result"
    }
   ],
   "source": [
    "make_vibor_exp(0.1, 5)"
   ]
  },
  {
   "cell_type": "code",
   "execution_count": 20,
   "metadata": {},
   "outputs": [
    {
     "name": "stdout",
     "output_type": "stream",
     "text": [
      "Реализация выборки экспоненциального распределени объема 10: \n",
      "\n",
      "1): [13.09, 1.96, 2.08, 3.38, 6.32, 10.56, 19.55, 4.73, 1.99, 5.26]\n",
      "2): [8.61, 12.9, 12.63, 2.0, 13.55, 24.12, 2.99, 10.89, 0.94, 5.52]\n",
      "3): [14.83, 0.92, 6.12, 10.23, 9.63, 11.85, 1.71, 2.68, 2.23, 1.92]\n",
      "4): [30.82, 3.75, 4.27, 4.03, 4.74, 12.96, 0.34, 12.99, 10.11, 9.32]\n",
      "5): [6.34, 3.49, 8.41, 34.44, 2.45, 1.67, 8.66, 6.01, 23.6, 1.64]\n"
     ]
    },
    {
     "data": {
      "text/plain": [
       "[[[13.09, 1.96, 2.08, 3.38, 6.32, 10.56, 19.55, 4.73, 1.99, 5.26]],\n",
       " [[8.61, 12.9, 12.63, 2.0, 13.55, 24.12, 2.99, 10.89, 0.94, 5.52]],\n",
       " [[14.83, 0.92, 6.12, 10.23, 9.63, 11.85, 1.71, 2.68, 2.23, 1.92]],\n",
       " [[30.82, 3.75, 4.27, 4.03, 4.74, 12.96, 0.34, 12.99, 10.11, 9.32]],\n",
       " [[6.34, 3.49, 8.41, 34.44, 2.45, 1.67, 8.66, 6.01, 23.6, 1.64]]]"
      ]
     },
     "execution_count": 20,
     "metadata": {},
     "output_type": "execute_result"
    }
   ],
   "source": [
    "make_vibor_exp(0.1, 10)"
   ]
  },
  {
   "cell_type": "code",
   "execution_count": null,
   "metadata": {},
   "outputs": [],
   "source": [
    "#make_vibor_exp(0.1, 100)"
   ]
  },
  {
   "cell_type": "code",
   "execution_count": null,
   "metadata": {},
   "outputs": [],
   "source": [
    "#make_vibor_exp(0.1, 1000)"
   ]
  },
  {
   "cell_type": "code",
   "execution_count": 16,
   "metadata": {},
   "outputs": [],
   "source": [
    "#make_vibor_exp(0.1, 10000)"
   ]
  },
  {
   "cell_type": "markdown",
   "metadata": {},
   "source": [
    "<font color='red'> Построение эмпирической функции распределения </font> "
   ]
  },
  {
   "cell_type": "code",
   "execution_count": 5,
   "metadata": {},
   "outputs": [],
   "source": [
    "import pylab\n",
    "import math \n",
    "import matplotlib\n",
    "import numpy as np\n",
    "import scipy.stats as sc\n",
    "from random import randint\n",
    "import matplotlib.pyplot as plt\n",
    "\n",
    "def make_efr_expon(M, n, f_x = -1):\n",
    "\n",
    "    color = ['b', 'g', 'r', 'c', 'm', 'y', 'k', ]\n",
    "\n",
    "    upper_list = []\n",
    "    \n",
    "    \n",
    "    for sp in range(5):\n",
    "        dict_set = {}\n",
    "        for i in M[sp]:\n",
    "            #print(i)\n",
    "            s1 = sorted(set(i)) # вариационный ряд\n",
    "            capacity_vibor = len(s1)\n",
    "            \n",
    "            #словарь: ключ - случайная величина, значение - частота встречаемости\n",
    "            for k in s1:\n",
    "                dict_set[k] = [0, 0]\n",
    "\n",
    "            for t in i: \n",
    "                dict_set[t][0] += 1\n",
    "            \n",
    "            # Добавление в словарь второго значения - его вероятность \n",
    "            for s in dict_set:\n",
    "                a = dict_set[s][0] / n \n",
    "                dict_set[s][1] = float('{:.2f}'.format(a))\n",
    "\n",
    "            \n",
    "            lst = []\n",
    "            for elem in dict_set:\n",
    "                lst.append([elem, dict_set[elem][1]])\n",
    "            #print(lst)\n",
    "            \n",
    "\n",
    "            #print(\"Эмпирическая функция для реализации %d выборки объема %s:  \"%(sp + 1, n))\n",
    "            final_sum = 0\n",
    "            for index in range(len(lst) - 1):\n",
    "            \n",
    "                final_sum += lst[index][1]\n",
    "\n",
    "                x0, y0 = [-2, lst[0][0]], [0,0]\n",
    "                x1, y1 = [lst[index][0], lst[index + 1][0]],[final_sum, final_sum]\n",
    "                x2, y2 = [lst[len(lst) - 1][0],lst[len(lst) - 1][0] + 2], [1,1]\n",
    "\n",
    "               \n",
    "\n",
    "                plt.grid(True) #Сетка\n",
    "                plt.plot(x0,y0, x1,y1, x2, y2, marker = 'o', color = color[sp])\n",
    "\n",
    "    \n",
    "\n",
    "        plt.plot(0,0, color = color[sp], label = 'Реализация %d'%(sp+ 1))\n",
    "            \n",
    "        pylab.legend ()\n",
    "        #plt.show()\n",
    "\n",
    "    return upper_list\n",
    "\n",
    "\n",
    "\n",
    "\n",
    "\n",
    "def make_сdf_expon(lam):\n",
    "    fig, ax = plt.subplots(1, 1)\n",
    "    x = np.linspace(sc.expon.ppf(0.01), sc.expon.ppf(0.99), 10000)\n",
    "    \n",
    "\n",
    "    ax.plot(x, sc.expon.cdf(x),'r-', lw=5, alpha = 0.6, label='expon cdf')\n",
    "\n",
    "    rv = sc.expon()\n",
    "    \n",
    "    #ax.vlines(x, 0, rv.pmf(x), colors='k', linestyles='-', lw=1, label='frozen pmf')\n",
    "    plt.grid(True) #Сетка\n",
    "    ax.legend(loc='best', frameon = False)\n",
    "    #plt.show()\n",
    "\n",
    "    \n",
    "def upper_limit(M, n , f_x):\n",
    "    lol = make_efr(M, n, f_x)\n",
    "    lol.sort(reverse = True)\n",
    "        \n",
    "    fin = -10000 # просто так\n",
    "    #--------------------------------Ищем разность\n",
    "    for i in range(len(lol) - 1):\n",
    "        for k in range(len(lol)):\n",
    "            res = lol[i] - lol[k]\n",
    "            if res > fin:\n",
    "                fin = res\n",
    "\n",
    "\n",
    "    print('Точная верхняя граница выборки объема %d: '%n, abs(fin))\n",
    "    \n",
    "    "
   ]
  },
  {
   "cell_type": "code",
   "execution_count": 18,
   "metadata": {},
   "outputs": [
    {
     "name": "stdout",
     "output_type": "stream",
     "text": [
      "Реализация выборки экспоненциального распределени объема 5: \n",
      "\n",
      "1): [9.23, 3.34, 7.0, 7.58, 4.43]\n",
      "2): [9.34, 0.71, 21.18, 0.32, 0.6]\n",
      "3): [8.34, 5.51, 20.42, 17.35, 23.41]\n",
      "4): [1.16, 24.61, 2.58, 1.84, 2.99]\n",
      "5): [6.94, 1.52, 25.47, 5.64, 3.44]\n"
     ]
    },
    {
     "data": {
      "image/png": "[encoded data removed]",
      "text/plain": [
       "<Figure size 432x288 with 1 Axes>"
      ]
     },
     "metadata": {
      "needs_background": "light"
     },
     "output_type": "display_data"
    },
    {
     "data": {
      "image/png": "[encoded data removed]",
      "text/plain": [
       "<Figure size 432x288 with 1 Axes>"
      ]
     },
     "metadata": {
      "needs_background": "light"
     },
     "output_type": "display_data"
    }
   ],
   "source": [
    "M = make_vibor_exp(0.1, 5)\n",
    "make_efr_expon(M, 5)\n",
    "make_сdf_expon(0.9)"
   ]
  },
  {
   "cell_type": "code",
   "execution_count": 14,
   "metadata": {},
   "outputs": [
    {
     "data": {
      "image/png": "[encoded data removed]",
      "text/plain": [
       "<Figure size 432x288 with 1 Axes>"
      ]
     },
     "metadata": {
      "needs_background": "light"
     },
     "output_type": "display_data"
    },
    {
     "data": {
      "image/png": "[encoded data removed]",
      "text/plain": [
       "<Figure size 432x288 with 1 Axes>"
      ]
     },
     "metadata": {
      "needs_background": "light"
     },
     "output_type": "display_data"
    }
   ],
   "source": []
  },
  {
   "cell_type": "code",
   "execution_count": null,
   "metadata": {},
   "outputs": [],
   "source": []
  },
  {
   "cell_type": "code",
   "execution_count": null,
   "metadata": {},
   "outputs": [],
   "source": []
  },
  {
   "cell_type": "code",
   "execution_count": null,
   "metadata": {},
   "outputs": [],
   "source": []
  },
  {
   "cell_type": "code",
   "execution_count": null,
   "metadata": {},
   "outputs": [],
   "source": [
    "ax.hist(r, density=True, histtype='stepfilled', alpha=0.2)\n",
    "ax.legend(loc='best', frameon=False)\n",
    "plt.show()"
   ]
  }
 ],
 "metadata": {
  "kernelspec": {
   "display_name": "Python 3",
   "language": "python",
   "name": "python3"
  },
  "language_info": {
   "codemirror_mode": {
    "name": "ipython",
    "version": 3
   },
   "file_extension": ".py",
   "mimetype": "text/x-python",
   "name": "python",
   "nbconvert_exporter": "python",
   "pygments_lexer": "ipython3",
   "version": "3.7.3"
  }
 },
 "nbformat": 4,
 "nbformat_minor": 2
}
