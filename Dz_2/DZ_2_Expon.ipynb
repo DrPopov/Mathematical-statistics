{
 "cells": [
  {
   "cell_type": "markdown",
   "metadata": {},
   "source": [
    "# Exponential distibution"
   ]
  },
  {
   "cell_type": "code",
   "execution_count": 1,
   "metadata": {},
   "outputs": [],
   "source": [
    "# my own func\n",
    "import random \n",
    "import math\n",
    "\n",
    "def my_expon(lam, n):\n",
    "    lst = []\n",
    "    for i in range(n):\n",
    "        r = random.random()\n",
    "        x = -math.log(r,math.e) / lam\n",
    "        lst.append(float('{:.3f}'.format(x)))\n",
    "    \n",
    "    return lst\n",
    "    \n",
    "# Создание m массивов выборки\n",
    "def make_vibor_exp(lam, m):\n",
    "    A = []\n",
    "    for i in range(5):\n",
    "        row = []\n",
    "        A.append(row)\n",
    "    \n",
    "        row.append(my_expon(lam, m))\n",
    "        \n",
    "    l = 1\n",
    "    #print('Реализация выборки экспоненциального распределени объема %d: '%m)\n",
    "    #print('')\n",
    "    for k in A:\n",
    "        #print('%d): '%l, end='')\n",
    "        print(*k)\n",
    "        l += 1\n",
    "    return A"
   ]
  },
  {
   "cell_type": "markdown",
   "metadata": {},
   "source": [
    "<font color='red'> Моделирование выбранных случайных величин </font>"
   ]
  },
  {
   "cell_type": "code",
   "execution_count": 2,
   "metadata": {},
   "outputs": [
    {
     "name": "stdout",
     "output_type": "stream",
     "text": [
      "[4.2, 10.695, 5.549, 4.41, 10.296]\n",
      "[0.557, 20.375, 0.244, 7.792, 22.191]\n",
      "[4.946, 3.066, 0.196, 27.204, 5.938]\n",
      "[3.298, 8.145, 2.708, 10.97, 1.287]\n",
      "[29.625, 1.268, 1.334, 7.242, 2.264]\n"
     ]
    },
    {
     "data": {
      "text/plain": [
       "[[[4.2, 10.695, 5.549, 4.41, 10.296]],\n",
       " [[0.557, 20.375, 0.244, 7.792, 22.191]],\n",
       " [[4.946, 3.066, 0.196, 27.204, 5.938]],\n",
       " [[3.298, 8.145, 2.708, 10.97, 1.287]],\n",
       " [[29.625, 1.268, 1.334, 7.242, 2.264]]]"
      ]
     },
     "execution_count": 2,
     "metadata": {},
     "output_type": "execute_result"
    }
   ],
   "source": [
    "make_vibor_exp(0.1, 5)"
   ]
  },
  {
   "cell_type": "code",
   "execution_count": 3,
   "metadata": {},
   "outputs": [
    {
     "name": "stdout",
     "output_type": "stream",
     "text": [
      "[5.98, 3.587, 20.439, 3.331, 38.281, 1.901, 16.727, 4.438, 15.422, 3.581]\n",
      "[6.564, 17.691, 3.273, 42.927, 2.962, 26.65, 5.645, 1.752, 3.487, 19.15]\n",
      "[26.29, 14.614, 14.734, 2.775, 13.094, 10.92, 1.804, 2.38, 0.026, 1.559]\n",
      "[1.866, 30.662, 0.335, 18.342, 5.637, 12.703, 0.283, 2.776, 7.133, 4.095]\n",
      "[0.002, 16.778, 18.75, 6.937, 19.151, 4.318, 39.247, 14.079, 8.907, 14.544]\n"
     ]
    },
    {
     "data": {
      "text/plain": [
       "[[[5.98, 3.587, 20.439, 3.331, 38.281, 1.901, 16.727, 4.438, 15.422, 3.581]],\n",
       " [[6.564, 17.691, 3.273, 42.927, 2.962, 26.65, 5.645, 1.752, 3.487, 19.15]],\n",
       " [[26.29, 14.614, 14.734, 2.775, 13.094, 10.92, 1.804, 2.38, 0.026, 1.559]],\n",
       " [[1.866, 30.662, 0.335, 18.342, 5.637, 12.703, 0.283, 2.776, 7.133, 4.095]],\n",
       " [[0.002, 16.778, 18.75, 6.937, 19.151, 4.318, 39.247, 14.079, 8.907, 14.544]]]"
      ]
     },
     "execution_count": 3,
     "metadata": {},
     "output_type": "execute_result"
    }
   ],
   "source": [
    "make_vibor_exp(0.1, 10)"
   ]
  },
  {
   "cell_type": "code",
   "execution_count": 4,
   "metadata": {},
   "outputs": [],
   "source": [
    "#make_vibor_exp(0.1, 100)"
   ]
  },
  {
   "cell_type": "code",
   "execution_count": 5,
   "metadata": {},
   "outputs": [],
   "source": [
    "#make_vibor_exp(0.1, 1000)"
   ]
  },
  {
   "cell_type": "code",
   "execution_count": 6,
   "metadata": {},
   "outputs": [],
   "source": [
    "#make_vibor_exp(0.1, 10000)"
   ]
  },
  {
   "cell_type": "markdown",
   "metadata": {},
   "source": [
    "<font color='red'> Построение эмпирической функции распределения </font> "
   ]
  },
  {
   "cell_type": "code",
   "execution_count": 7,
   "metadata": {},
   "outputs": [],
   "source": [
    "import pylab\n",
    "import math \n",
    "import matplotlib\n",
    "import random\n",
    "import numpy as np\n",
    "import scipy.stats as sc\n",
    "from random import randint\n",
    "import matplotlib.pyplot as plt\n",
    "\n",
    "\n",
    "# Создание m массивов выборки\n",
    "def make_vibor_exp(lam, m):\n",
    "    A = []\n",
    "    for i in range(5):\n",
    "        row = []\n",
    "        A.append(row)\n",
    "    \n",
    "        row.append(my_expon(lam, m))\n",
    "        \n",
    "    l = 1\n",
    "    #print('Реализация выборки экспоненциального распределени объема %d: '%m)\n",
    "    #print('')\n",
    "    for k in A:\n",
    "        #print('%d): '%l, end='')\n",
    "        #print(*k)\n",
    "        l += 1\n",
    "    return A\n",
    "\n",
    "\n",
    "def make_efr_expon(M, n, f_x = -1):\n",
    "\n",
    "    color = ['b', 'g', 'r', 'c', 'm', 'y', 'k', ]\n",
    "\n",
    "    upper_list = []\n",
    "    \n",
    "    \n",
    "    for sp in range(5):\n",
    "        dict_set = {}\n",
    "        for i in M[sp]:\n",
    "            #print(i)\n",
    "            s1 = sorted(set(i)) # вариационный ряд\n",
    "            capacity_vibor = len(s1)\n",
    "            \n",
    "            #словарь: ключ - случайная величина, значение - частота встречаемости\n",
    "            for k in s1:\n",
    "                dict_set[k] = [0, 0]\n",
    "\n",
    "            for t in i: \n",
    "                dict_set[t][0] += 1\n",
    "            \n",
    "            # Добавление в словарь второго значения - его вероятность \n",
    "            for s in dict_set:\n",
    "                a = dict_set[s][0] / n \n",
    "                dict_set[s][1] = float('{:.2f}'.format(a))\n",
    "\n",
    "            \n",
    "            lst = []\n",
    "            for elem in dict_set:\n",
    "                lst.append([elem, dict_set[elem][1]])\n",
    "            #print(lst)\n",
    "            \n",
    "\n",
    "            #print(\"Эмпирическая функция для реализации %d выборки объема %s:  \"%(sp + 1, n))\n",
    "            final_sum = 0\n",
    "            for index in range(len(lst) - 1):\n",
    "                \n",
    "                \n",
    "                #-------------------------------------------------------------upper_limit\n",
    "                final_sum += lst[index][1]\n",
    "                #print(lst[index + 1])\n",
    "                if lst[index ][0] <= f_x <= lst[index + 1][0]:\n",
    "                    upper_list.append(final_sum)\n",
    "                \n",
    "                #-----------------------------------------------------------------------------\n",
    "                    \n",
    "                \n",
    "              \n",
    "                \n",
    "                if f_x == -1:\n",
    "                    \n",
    "                    x0, y0 = [-2, lst[0][0]], [0,0]\n",
    "                    x1, y1 = [lst[index][0], lst[index + 1][0]],[final_sum, final_sum]\n",
    "                    x2, y2 = [lst[len(lst) - 1][0],lst[len(lst) - 1][0] + 2], [1,1]\n",
    "\n",
    "                    #x3, y3 =[lst[0][0] - 3, lst[len(lst) - 1][0] + 3],[quant, quant]# нахождение квантили\n",
    "\n",
    "\n",
    "                    plt.grid(True) #Сетка\n",
    "                    plt.plot(x0,y0, x1,y1, x2, y2, marker = 'o', color = color[sp])\n",
    "\n",
    "            if lst[len(lst) - 1][0] < f_x:\n",
    "                    upper_list.append(1)\n",
    "            #print(upper_list)\n",
    "        \n",
    "        if f_x == -1:\n",
    "            plt.plot(0,0, color = color[sp], label = 'Реализация %d'%(sp+ 1))\n",
    "            \n",
    "            pylab.legend ()\n",
    "            #plt.show()\n",
    "\n",
    "    return upper_list\n",
    "\n",
    "\n",
    "\n",
    "\n",
    "\n",
    "\n",
    "def make_сdf_expon():\n",
    "    fig, ax = plt.subplots(1, 1)\n",
    "    x = np.linspace(sc.expon.ppf(0.01), sc.expon.ppf(0.9), 100)\n",
    "    \n",
    "\n",
    "    ax.plot(x, sc.expon.cdf(x),'r-', lw=5, alpha = 0.6, label='expon cdf')\n",
    "\n",
    "    rv = sc.expon()\n",
    "    \n",
    "    #ax.vlines(x, 0, rv.pmf(x), colors='k', linestyles='-', lw=1, label='frozen pmf')\n",
    "    plt.grid(True) #Сетка\n",
    "    ax.legend(loc='best', frameon = False)\n",
    "    #plt.show()\n",
    "\n",
    "    \n",
    "def upper_limit_expon(M, n , f_x):\n",
    "    lol = make_efr_expon(M, n, f_x)\n",
    "    lol.sort(reverse = True)\n",
    "        \n",
    "    fin = -10000 # просто так\n",
    "    #--------------------------------Ищем разность\n",
    "    for i in range(len(lol) - 1):\n",
    "        for k in range(len(lol)):\n",
    "            res = lol[i] - lol[k]\n",
    "            if res > fin:\n",
    "                fin = res\n",
    "\n",
    "\n",
    "    print('Точная верхняя граница выборки объема %d: '%n, float('{:.4f}'.format(abs(fin))))\n",
    "    \n",
    "    "
   ]
  },
  {
   "cell_type": "markdown",
   "metadata": {},
   "source": [
    "<font color='blue'>Эфр для выборок объема 5: </font> "
   ]
  },
  {
   "cell_type": "code",
   "execution_count": 8,
   "metadata": {},
   "outputs": [
    {
     "data": {
      "text/plain": [
       "[]"
      ]
     },
     "execution_count": 8,
     "metadata": {},
     "output_type": "execute_result"
    },
    {
     "data": {
      "image/png": "[encoded data removed]",
      "text/plain": [
       "<Figure size 432x288 with 1 Axes>"
      ]
     },
     "metadata": {
      "needs_background": "light"
     },
     "output_type": "display_data"
    }
   ],
   "source": [
    "M = make_vibor_exp(0.8, 5)\n",
    "make_сdf_expon()\n",
    "make_efr_expon(M, 5)"
   ]
  },
  {
   "cell_type": "markdown",
   "metadata": {},
   "source": [
    "<font color='blue'>Эфр для выборок объема 10: </font> "
   ]
  },
  {
   "cell_type": "code",
   "execution_count": 9,
   "metadata": {},
   "outputs": [
    {
     "data": {
      "text/plain": [
       "[]"
      ]
     },
     "execution_count": 9,
     "metadata": {},
     "output_type": "execute_result"
    },
    {
     "data": {
      "image/png": "[encoded data removed]",
      "text/plain": [
       "<Figure size 432x288 with 1 Axes>"
      ]
     },
     "metadata": {
      "needs_background": "light"
     },
     "output_type": "display_data"
    }
   ],
   "source": [
    "M = make_vibor_exp(0.8, 10)\n",
    "make_сdf_expon()\n",
    "make_efr_expon(M, 10)"
   ]
  },
  {
   "cell_type": "markdown",
   "metadata": {},
   "source": [
    "<font color='blue'>Эфр для выборок объема 100: </font> "
   ]
  },
  {
   "cell_type": "code",
   "execution_count": 10,
   "metadata": {},
   "outputs": [
    {
     "data": {
      "text/plain": [
       "[]"
      ]
     },
     "execution_count": 10,
     "metadata": {},
     "output_type": "execute_result"
    },
    {
     "data": {
      "image/png": "[encoded data removed]",
      "text/plain": [
       "<Figure size 432x288 with 1 Axes>"
      ]
     },
     "metadata": {
      "needs_background": "light"
     },
     "output_type": "display_data"
    }
   ],
   "source": [
    "M = make_vibor_exp(0.8, 100)\n",
    "make_сdf_expon()\n",
    "make_efr_expon(M, 100)"
   ]
  },
  {
   "cell_type": "markdown",
   "metadata": {},
   "source": [
    "<font color='blue'>Эфр для выборок объема 1000: </font> "
   ]
  },
  {
   "cell_type": "code",
   "execution_count": 11,
   "metadata": {},
   "outputs": [],
   "source": [
    "#M = make_vibor_exp(0.8, 1000)\n",
    "#make_сdf_expon()\n",
    "#make_efr_expon(M, 1000)"
   ]
  },
  {
   "cell_type": "markdown",
   "metadata": {},
   "source": [
    "<font color='blue'>Эфр для выборок объема 10**5: </font> "
   ]
  },
  {
   "cell_type": "code",
   "execution_count": 12,
   "metadata": {},
   "outputs": [],
   "source": [
    "#M = make_vibor_exp(0.8, 10**5)\n",
    "#make_сdf_expon()\n",
    "#make_efr_expon(M, 10**5)"
   ]
  },
  {
   "cell_type": "markdown",
   "metadata": {},
   "source": [
    "<font color='red'> Нахождение точной верхней границы </font> "
   ]
  },
  {
   "cell_type": "markdown",
   "metadata": {},
   "source": [
    "<font color='green'> Для n = 5: </font> "
   ]
  },
  {
   "cell_type": "code",
   "execution_count": 13,
   "metadata": {},
   "outputs": [
    {
     "name": "stdout",
     "output_type": "stream",
     "text": [
      "Точная верхняя граница выборки объема 5:  0.0\n"
     ]
    }
   ],
   "source": [
    "M = make_vibor_exp(0.8, 5)\n",
    "upper_limit_expon(M, 5, 4)"
   ]
  },
  {
   "cell_type": "markdown",
   "metadata": {},
   "source": [
    "<font color='green'> Для n = 10: </font> "
   ]
  },
  {
   "cell_type": "code",
   "execution_count": 14,
   "metadata": {},
   "outputs": [
    {
     "name": "stdout",
     "output_type": "stream",
     "text": [
      "Точная верхняя граница выборки объема 10:  0.1\n"
     ]
    }
   ],
   "source": [
    "M = make_vibor_exp(0.8, 10)\n",
    "upper_limit_expon(M, 10, 4)"
   ]
  },
  {
   "cell_type": "markdown",
   "metadata": {},
   "source": [
    "<font color='green'> Для n = 100: </font> "
   ]
  },
  {
   "cell_type": "code",
   "execution_count": 15,
   "metadata": {},
   "outputs": [
    {
     "name": "stdout",
     "output_type": "stream",
     "text": [
      "Точная верхняя граница выборки объема 100:  0.05\n"
     ]
    }
   ],
   "source": [
    "M = make_vibor_exp(0.8, 100)\n",
    "upper_limit_expon(M, 100, 4)"
   ]
  },
  {
   "cell_type": "markdown",
   "metadata": {},
   "source": [
    "<font color='green'> Для n = 1000: </font> "
   ]
  },
  {
   "cell_type": "code",
   "execution_count": 16,
   "metadata": {},
   "outputs": [
    {
     "name": "stdout",
     "output_type": "stream",
     "text": [
      "Точная верхняя граница выборки объема 1000:  0.02\n"
     ]
    }
   ],
   "source": [
    "M = make_vibor_exp(0.8, 1000)\n",
    "upper_limit_expon(M, 1000, 4)"
   ]
  },
  {
   "cell_type": "markdown",
   "metadata": {},
   "source": [
    "<font color='green'> Для n = 10**5: </font> "
   ]
  },
  {
   "cell_type": "code",
   "execution_count": 17,
   "metadata": {},
   "outputs": [
    {
     "name": "stdout",
     "output_type": "stream",
     "text": [
      "Точная верхняя граница выборки объема 100000:  0.0\n"
     ]
    }
   ],
   "source": [
    "M = make_vibor_exp(0.8, 10**5)\n",
    "upper_limit_expon(M, 10**5, 4)"
   ]
  },
  {
   "cell_type": "markdown",
   "metadata": {},
   "source": [
    "<font color='red'> Построение вариационного ряда </font> "
   ]
  },
  {
   "cell_type": "code",
   "execution_count": null,
   "metadata": {},
   "outputs": [],
   "source": []
  },
  {
   "cell_type": "code",
   "execution_count": 18,
   "metadata": {},
   "outputs": [],
   "source": [
    "#функция для построения вар.рядов для 5 реализаций  выборки M для n\n",
    "def make_var_row_exp(n, M):\n",
    "    dict_set = {}\n",
    "    \n",
    "    print('Вариационные ряды для 5 реализаций выборки, объема  %d:  '%n)\n",
    "    print('')\n",
    "    \n",
    "    for sp in range(5):\n",
    "        dict_set = {}\n",
    "        for i in M[sp]:\n",
    "            s1 = sorted(set(i))\n",
    "            for k in s1:\n",
    "                dict_set[k] = 0\n",
    "\n",
    "            for t in i:\n",
    "                dict_set[t] += 1\n",
    "\n",
    "            \n",
    "            print('X:', end= '\\t')\n",
    "            \n",
    "            for elem in dict_set:\n",
    "                print(elem, end='\\t')\n",
    "            print('')\n",
    "            print('----------'*n)\n",
    "            print('f:', end= '\\t')\n",
    "            \n",
    "            for elem in dict_set:\n",
    "                print(dict_set[elem], end='\\t')\n",
    "            print('')\n",
    "            print('')\n",
    "            print('')\n",
    "            print('')\n",
    "            #print('------')"
   ]
  },
  {
   "cell_type": "code",
   "execution_count": 19,
   "metadata": {},
   "outputs": [
    {
     "name": "stdout",
     "output_type": "stream",
     "text": [
      "Вариационные ряды для 5 реализаций выборки, объема  5:  \n",
      "\n",
      "X:\t0.255\t0.46\t0.638\t0.824\t3.873\t\n",
      "--------------------------------------------------\n",
      "f:\t1\t1\t1\t1\t1\t\n",
      "\n",
      "\n",
      "\n",
      "X:\t0.162\t0.325\t0.926\t1.139\t1.236\t\n",
      "--------------------------------------------------\n",
      "f:\t1\t1\t1\t1\t1\t\n",
      "\n",
      "\n",
      "\n",
      "X:\t0.137\t0.181\t0.191\t0.192\t0.834\t\n",
      "--------------------------------------------------\n",
      "f:\t1\t1\t1\t1\t1\t\n",
      "\n",
      "\n",
      "\n",
      "X:\t0.401\t0.506\t0.671\t1.107\t1.689\t\n",
      "--------------------------------------------------\n",
      "f:\t1\t1\t1\t1\t1\t\n",
      "\n",
      "\n",
      "\n",
      "X:\t0.001\t0.345\t0.648\t2.515\t3.74\t\n",
      "--------------------------------------------------\n",
      "f:\t1\t1\t1\t1\t1\t\n",
      "\n",
      "\n",
      "\n"
     ]
    }
   ],
   "source": [
    "M = make_vibor_exp(0.8, 5)\n",
    "make_var_row_exp(5, M)"
   ]
  },
  {
   "cell_type": "code",
   "execution_count": 20,
   "metadata": {},
   "outputs": [
    {
     "name": "stdout",
     "output_type": "stream",
     "text": [
      "Вариационные ряды для 5 реализаций выборки, объема  10:  \n",
      "\n",
      "X:\t0.08\t0.114\t0.117\t0.724\t0.853\t0.881\t1.011\t1.159\t1.283\t2.087\t\n",
      "----------------------------------------------------------------------------------------------------\n",
      "f:\t1\t1\t1\t1\t1\t1\t1\t1\t1\t1\t\n",
      "\n",
      "\n",
      "\n",
      "X:\t0.058\t0.416\t0.439\t0.508\t0.922\t1.103\t1.709\t3.315\t3.98\t8.346\t\n",
      "----------------------------------------------------------------------------------------------------\n",
      "f:\t1\t1\t1\t1\t1\t1\t1\t1\t1\t1\t\n",
      "\n",
      "\n",
      "\n",
      "X:\t0.022\t0.101\t0.103\t0.132\t0.18\t1.138\t1.508\t2.3\t5.796\t\n",
      "----------------------------------------------------------------------------------------------------\n",
      "f:\t1\t1\t1\t2\t1\t1\t1\t1\t1\t\n",
      "\n",
      "\n",
      "\n",
      "X:\t0.017\t0.124\t0.242\t0.724\t0.819\t0.821\t1.104\t1.349\t1.938\t2.31\t\n",
      "----------------------------------------------------------------------------------------------------\n",
      "f:\t1\t1\t1\t1\t1\t1\t1\t1\t1\t1\t\n",
      "\n",
      "\n",
      "\n",
      "X:\t0.135\t0.168\t0.547\t1.06\t1.133\t1.188\t2.489\t2.998\t3.171\t3.335\t\n",
      "----------------------------------------------------------------------------------------------------\n",
      "f:\t1\t1\t1\t1\t1\t1\t1\t1\t1\t1\t\n",
      "\n",
      "\n",
      "\n"
     ]
    }
   ],
   "source": [
    "M = make_vibor_exp(0.8, 10)\n",
    "make_var_row_exp(10, M)"
   ]
  },
  {
   "cell_type": "code",
   "execution_count": 21,
   "metadata": {},
   "outputs": [],
   "source": [
    "#M = make_vibor_exp(0.8, 100)\n",
    "#make_var_row_exp(100, M)"
   ]
  },
  {
   "cell_type": "code",
   "execution_count": 22,
   "metadata": {},
   "outputs": [],
   "source": [
    "#M = make_vibor_exp(0.8, 1000)\n",
    "#make_var_row_exp(1000, M)"
   ]
  },
  {
   "cell_type": "code",
   "execution_count": 23,
   "metadata": {},
   "outputs": [],
   "source": [
    "#M = make_vibor_exp(0.8, 10**5)\n",
    "#make_var_row_exp(10**5, M)"
   ]
  },
  {
   "cell_type": "markdown",
   "metadata": {},
   "source": [
    "# Гистограмма и полигон частот"
   ]
  },
  {
   "cell_type": "code",
   "execution_count": 91,
   "metadata": {},
   "outputs": [],
   "source": [
    "#функция для построения вар.рядов для 5 реализаций  выборки M для n\n",
    "import pandas as pd\n",
    "def make_expon_gist(n, M):\n",
    "    dict_set = {}\n",
    "    \n",
    "    \n",
    "    for sp in range(5):\n",
    "        dict_set = {}\n",
    "        for i in M[sp]:\n",
    "            s1 = sorted(set(i))\n",
    "            \n",
    "            #заносим все различные знаения выборки в словарь\n",
    "            for k in s1:\n",
    "                dict_set[str(k)] = 0\n",
    "            \n",
    "            #считаем сколько раз каждое из них встречается\n",
    "            for t in i:\n",
    "                dict_set[str(t)] += 1\n",
    "            \n",
    "            # Переделываем знчения в список\n",
    "            lin_x = []\n",
    "            lin_y = []\n",
    "            sum = 0\n",
    "            dict_viborka = {k: v for k, v in dict_set.items()}\n",
    "            for i in dict_viborka:\n",
    "                #print(i)\n",
    "                sum += dict_viborka[i]\n",
    "                lin_x.append(float(i))\n",
    "                #print(dict_viborka[i] - dict_viborka[i])\n",
    "                lin_y.append(dict_viborka[i] / float(i))\n",
    "    \n",
    "            #print(sum)\n",
    "            #print(lin_x, lin_y)\n",
    "            \n",
    "            \n",
    "            plt.title('Гистограмма частот для выборок объема %s' %n)\n",
    "            #print(lin_x, lin_y)\n",
    "            plt.bar(lin_x, lin_y)\n",
    "            #делаем красиво\n",
    "            #print('')\n",
    "            #print('Вариационный ряд выборки %s объема %d: '%(sp + 1, n) )\n",
    "            \n",
    "            \n",
    "            \n",
    "            # создаем DataFrame и выводим его на экран\n",
    "            df = pd.DataFrame(dict_viborka,index = list('f'))\n",
    "\n",
    "        \n",
    "            #display(df)"
   ]
  },
  {
   "cell_type": "code",
   "execution_count": 92,
   "metadata": {},
   "outputs": [
    {
     "name": "stdout",
     "output_type": "stream",
     "text": [
      "Вариационные ряды для 5 реализаций выборки, объема  5:  \n",
      "\n",
      "X:\t0.276\t0.368\t0.459\t0.617\t3.933\t\n",
      "--------------------------------------------------\n",
      "f:\t1\t1\t1\t1\t1\t\n",
      "\n",
      "\n",
      "\n",
      "X:\t0.057\t0.186\t0.311\t0.463\t0.647\t\n",
      "--------------------------------------------------\n",
      "f:\t1\t1\t1\t1\t1\t\n",
      "\n",
      "\n",
      "\n",
      "X:\t0.651\t0.926\t1.044\t1.762\t2.683\t\n",
      "--------------------------------------------------\n",
      "f:\t1\t1\t1\t1\t1\t\n",
      "\n",
      "\n",
      "\n",
      "X:\t0.179\t0.309\t0.552\t0.694\t2.109\t\n",
      "--------------------------------------------------\n",
      "f:\t1\t1\t1\t1\t1\t\n",
      "\n",
      "\n",
      "\n",
      "X:\t0.163\t0.927\t1.014\t1.269\t1.723\t\n",
      "--------------------------------------------------\n",
      "f:\t1\t1\t1\t1\t1\t\n",
      "\n",
      "\n",
      "\n"
     ]
    },
    {
     "data": {
      "image/png": "[encoded data removed]",
      "text/plain": [
       "<Figure size 432x288 with 1 Axes>"
      ]
     },
     "metadata": {
      "needs_background": "light"
     },
     "output_type": "display_data"
    }
   ],
   "source": [
    "M = make_vibor_exp(0.8, 5)\n",
    "make_var_row_exp(5, M)\n",
    "make_expon_gist(5, M)"
   ]
  },
  {
   "cell_type": "code",
   "execution_count": 93,
   "metadata": {},
   "outputs": [
    {
     "data": {
      "image/png": "[encoded data removed]",
      "text/plain": [
       "<Figure size 432x288 with 1 Axes>"
      ]
     },
     "metadata": {
      "needs_background": "light"
     },
     "output_type": "display_data"
    }
   ],
   "source": [
    "M = make_vibor_exp(0.8, 100)\n",
    "make_expon_gist(100, M)"
   ]
  },
  {
   "cell_type": "code",
   "execution_count": null,
   "metadata": {},
   "outputs": [],
   "source": []
  }
 ],
 "metadata": {
  "kernelspec": {
   "display_name": "Python 3",
   "language": "python",
   "name": "python3"
  },
  "language_info": {
   "codemirror_mode": {
    "name": "ipython",
    "version": 3
   },
   "file_extension": ".py",
   "mimetype": "text/x-python",
   "name": "python",
   "nbconvert_exporter": "python",
   "pygments_lexer": "ipython3",
   "version": "3.7.3"
  }
 },
 "nbformat": 4,
 "nbformat_minor": 2
}
