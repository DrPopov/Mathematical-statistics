{
 "cells": [
  {
   "cell_type": "code",
   "execution_count": 1,
   "metadata": {},
   "outputs": [],
   "source": [
    "import scipy.stats as st\n",
    "import pandas as pd\n",
    "import numpy as np\n",
    "\n",
    "def find_quantile(level):\n",
    "    geom_numbers = st.geom.rvs(0.1, size=10)\n",
    "\n",
    "    s = pd.Series(geom_numbers)\n",
    "\n",
    "    quan = s.quantile(level)\n",
    "    print('Квантиль уровня ', level,':',  float('{:.3f}'.format(quan)))\n"
   ]
  },
  {
   "cell_type": "code",
   "execution_count": 49,
   "metadata": {},
   "outputs": [],
   "source": [
    "import pylab\n",
    "import random\n",
    "import math \n",
    "import matplotlib\n",
    "import numpy as np\n",
    "import scipy.stats as sc\n",
    "from scipy.stats import geom\n",
    "import matplotlib.pyplot as plt\n",
    "from random import randint\n",
    "\n",
    "# GeomDIM - третья модель моделирования\n",
    "def geomDIM(n, p = 0.1, m = 5):\n",
    "    lst = []\n",
    "    for i in range(n):\n",
    "        a = random.random()\n",
    "        e = math.floor(math.log(a,math.e) / math.log(1 - p,math.e) )\n",
    "        lst.append(e)\n",
    "        \n",
    "        \n",
    "    return lst\n",
    "\n",
    "\n",
    "# Создание m массивов выборки\n",
    "def make_vibor(m):\n",
    "    A = []\n",
    "    for i in range(5):\n",
    "        row = []\n",
    "        A.append(row)\n",
    "    \n",
    "        row.append(geomDIM(m))\n",
    "        \n",
    "    l = 1\n",
    "    print('Реализация выборки объема %d: '%m)\n",
    "    print('')\n",
    "    for k in A:\n",
    "        print('%d): '%l, end='')\n",
    "        print(*k)\n",
    "        l += 1\n",
    "    return A\n",
    "def make_efr(M, n, quant = 0.1, f_x = -1):\n",
    "\n",
    "    color = ['b', 'g', 'r', 'c', 'm', 'y', 'k', ]\n",
    "\n",
    "    upper_list = []\n",
    "    \n",
    "    \n",
    "    for sp in range(5):\n",
    "        dict_set = {}\n",
    "        for i in M[sp]:\n",
    "            #print(i)\n",
    "            s1 = sorted(set(i)) # вариационный ряд\n",
    "            capacity_vibor = len(s1)\n",
    "            \n",
    "            #словарь: ключ - случайная величина, значение - частота встречаемости\n",
    "            for k in s1:\n",
    "                dict_set[k] = [0, 0]\n",
    "\n",
    "            for t in i: \n",
    "                dict_set[t][0] += 1\n",
    "            \n",
    "            # Добавление в словарь второго значения - его вероятность \n",
    "            for s in dict_set:\n",
    "                a = dict_set[s][0] / n \n",
    "                dict_set[s][1] = float('{:.2f}'.format(a))\n",
    "\n",
    "            \n",
    "            lst = []\n",
    "            for elem in dict_set:\n",
    "                lst.append([elem, dict_set[elem][1]])\n",
    "            #print(lst)\n",
    "            \n",
    "\n",
    "            #print(\"Эмпирическая функция для реализации %d выборки объема %s:  \"%(sp + 1, n))\n",
    "            final_sum = 0\n",
    "            for index in range(len(lst) - 1):\n",
    "                \n",
    "                \n",
    "                #-------------------------------------------------------------upper_limit\n",
    "                final_sum += lst[index][1]\n",
    "                #print(lst[index + 1])\n",
    "                if lst[index ][0] <= f_x <= lst[index + 1][0]:\n",
    "                    upper_list.append(final_sum)\n",
    "                \n",
    "                #-----------------------------------------------------------------------------\n",
    "                    \n",
    "                \n",
    "              \n",
    "                \n",
    "                if f_x == -1:\n",
    "                    \n",
    "                    x0, y0 = [-2, lst[0][0]], [0,0]\n",
    "                    x1, y1 = [lst[index][0], lst[index + 1][0]],[final_sum, final_sum]\n",
    "                    x2, y2 = [lst[len(lst) - 1][0],lst[len(lst) - 1][0] + 2], [1,1]\n",
    "\n",
    "                    \n",
    "\n",
    "\n",
    "                    plt.grid(True) #Сетка\n",
    "                    plt.plot(x0,y0, x1,y1, x2, y2, marker = 'o', color = color[sp])\n",
    "\n",
    "            if lst[len(lst) - 1][0] < f_x:\n",
    "                    upper_list.append(1)\n",
    "            #print(upper_list)\n",
    "        \n",
    "        if f_x == -1:\n",
    "            plt.plot(0,0, color = color[sp], label = 'Реализация %d'%(sp+ 1))\n",
    "            \n",
    "            x3, y3 =[lst[0][0] - 3, lst[len(lst) - 1][0] + 3],[quant, quant]# нахождение квантили\n",
    "            plt.plot(x3,y3, color = 'k')\n",
    "            pylab.legend ()\n",
    "            #plt.show()\n",
    "\n",
    "    return upper_list\n",
    "\n",
    "\n",
    "from scipy.stats import geom\n",
    "import matplotlib.pyplot as plt\n",
    "\n",
    "\n",
    "def make_сdf(p):\n",
    "    fig, ax = plt.subplots(1, 1)\n",
    "    x = np.arange(geom.ppf(0.01, p), geom.ppf(0.99, p))\n",
    "    \n",
    "    pylab.figure (1)\n",
    "    ax.plot(x, geom.cdf(x, p), 'bo', ms = 8, label = 'geom cdf')\n",
    "    #ax.vlines(x, 0, geom.pmf(x, p), colors='b', lw=5, alpha=0.5)\n",
    "\n",
    "    rv = sc.geom(p)\n",
    "    \n",
    "    #ax.vlines(x, 0, rv.pmf(x), colors='k', linestyles='-', lw=1, label='frozen pmf')\n",
    "    plt.grid(True) #Сетка\n",
    "    ax.legend(loc='best', frameon = False)\n",
    "    #plt.show()\n",
    "\n",
    "    \n",
    "def upper_limit_quant(M, n , f_x):\n",
    "    lol = make_efr(M, n, f_x)\n",
    "    lol.sort(reverse = True)\n",
    "        \n",
    "    print(lol)\n",
    "\n",
    "    \n",
    "    "
   ]
  },
  {
   "cell_type": "code",
   "execution_count": 56,
   "metadata": {},
   "outputs": [
    {
     "name": "stdout",
     "output_type": "stream",
     "text": [
      "Реализация выборки объема 5: \n",
      "\n",
      "1): [8, 3, 4, 2, 2]\n",
      "2): [5, 3, 24, 0, 3]\n",
      "3): [16, 7, 17, 8, 0]\n",
      "4): [15, 4, 2, 1, 7]\n",
      "5): [4, 6, 16, 4, 30]\n"
     ]
    }
   ],
   "source": [
    "M = make_vibor(5)"
   ]
  },
  {
   "cell_type": "code",
   "execution_count": 57,
   "metadata": {},
   "outputs": [
    {
     "name": "stdout",
     "output_type": "stream",
     "text": [
      "Квантиль уровня  0.1 : 1.9\n"
     ]
    },
    {
     "data": {
      "image/png": "[encoded data removed]",
      "text/plain": [
       "<Figure size 432x288 with 1 Axes>"
      ]
     },
     "metadata": {
      "needs_background": "light"
     },
     "output_type": "display_data"
    }
   ],
   "source": [
    "make_efr(M,5, 0.1)\n",
    "find_quantile(0.1)"
   ]
  },
  {
   "cell_type": "code",
   "execution_count": 60,
   "metadata": {},
   "outputs": [
    {
     "name": "stdout",
     "output_type": "stream",
     "text": [
      "Квантиль уровня  0.5 : 7.0\n"
     ]
    },
    {
     "data": {
      "image/png": "[encoded data removed]",
      "text/plain": [
       "<Figure size 432x288 with 1 Axes>"
      ]
     },
     "metadata": {
      "needs_background": "light"
     },
     "output_type": "display_data"
    }
   ],
   "source": [
    "make_efr(M,5, 0.5)\n",
    "find_quantile(0.5)"
   ]
  },
  {
   "cell_type": "code",
   "execution_count": 59,
   "metadata": {},
   "outputs": [
    {
     "name": "stdout",
     "output_type": "stream",
     "text": [
      "Квантиль уровня  0.7 : 7.6\n"
     ]
    },
    {
     "data": {
      "image/png": "[encoded data removed]",
      "text/plain": [
       "<Figure size 432x288 with 1 Axes>"
      ]
     },
     "metadata": {
      "needs_background": "light"
     },
     "output_type": "display_data"
    }
   ],
   "source": [
    "make_efr(M,5, 0.7)\n",
    "find_quantile(0.7)"
   ]
  },
  {
   "cell_type": "code",
   "execution_count": null,
   "metadata": {},
   "outputs": [],
   "source": []
  },
  {
   "cell_type": "code",
   "execution_count": null,
   "metadata": {},
   "outputs": [],
   "source": []
  }
 ],
 "metadata": {
  "kernelspec": {
   "display_name": "Python 3",
   "language": "python",
   "name": "python3"
  },
  "language_info": {
   "codemirror_mode": {
    "name": "ipython",
    "version": 3
   },
   "file_extension": ".py",
   "mimetype": "text/x-python",
   "name": "python",
   "nbconvert_exporter": "python",
   "pygments_lexer": "ipython3",
   "version": "3.7.3"
  }
 },
 "nbformat": 4,
 "nbformat_minor": 2
}
