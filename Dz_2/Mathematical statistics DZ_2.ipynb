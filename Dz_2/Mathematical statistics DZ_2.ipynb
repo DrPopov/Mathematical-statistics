{
 "cells": [
  {
   "cell_type": "markdown",
   "metadata": {},
   "source": [
    "# Geometric distribution"
   ]
  },
  {
   "cell_type": "code",
   "execution_count": 261,
   "metadata": {},
   "outputs": [],
   "source": [
    "import timeit\n",
    "import matplotlib.pyplot as plt\n",
    "import random\n",
    "import numpy as np\n",
    "import pylab\n",
    "import math \n",
    "\n",
    "# GeomDIM - третья модель моделирования\n",
    "def geomDIM(n, p = 0.1, m = 5):\n",
    "    lst = []\n",
    "    for i in range(n):\n",
    "        a = random.random()\n",
    "        e = math.floor(math.log(a,math.e) / math.log(1 - p,math.e) )\n",
    "        lst.append(e)\n",
    "        \n",
    "        \n",
    "    return lst\n",
    "\n",
    "\n",
    "# Создание m массивов выборки\n",
    "def make_vibor(m):\n",
    "    A = []\n",
    "    for i in range(5):\n",
    "        row = []\n",
    "        A.append(row)\n",
    "    \n",
    "        row.append(geomDIM(m))\n",
    "        \n",
    "    l = 1\n",
    "    print('Реализация выборки объема %d: '%m)\n",
    "    print('')\n",
    "    for k in A:\n",
    "        print('%d): '%l, end='')\n",
    "        print(*k)\n",
    "        l += 1\n",
    "    return A"
   ]
  },
  {
   "cell_type": "markdown",
   "metadata": {},
   "source": [
    "<font color='red'> Моделирование выбранных случайных величин </font>"
   ]
  },
  {
   "cell_type": "markdown",
   "metadata": {},
   "source": [
    "n = 5"
   ]
  },
  {
   "cell_type": "code",
   "execution_count": 90,
   "metadata": {},
   "outputs": [
    {
     "name": "stdout",
     "output_type": "stream",
     "text": [
      "Реализация выборки объема 5: \n",
      "\n",
      "1): [2, 16, 13, 4, 2]\n",
      "2): [7, 30, 14, 0, 1]\n",
      "3): [4, 0, 2, 19, 5]\n",
      "4): [0, 8, 2, 1, 0]\n",
      "5): [6, 4, 0, 0, 5]\n"
     ]
    }
   ],
   "source": [
    "make_vibor(5)"
   ]
  },
  {
   "cell_type": "markdown",
   "metadata": {},
   "source": [
    "Для n = 10:"
   ]
  },
  {
   "cell_type": "code",
   "execution_count": 91,
   "metadata": {},
   "outputs": [
    {
     "name": "stdout",
     "output_type": "stream",
     "text": [
      "Реализация выборки объема 10: \n",
      "\n",
      "1): [4, 5, 1, 0, 2, 0, 5, 6, 1, 11]\n",
      "2): [5, 4, 11, 19, 0, 7, 39, 7, 6, 4]\n",
      "3): [8, 3, 5, 6, 7, 19, 19, 7, 9, 5]\n",
      "4): [3, 6, 6, 7, 0, 0, 11, 12, 1, 12]\n",
      "5): [16, 3, 6, 8, 7, 1, 4, 5, 13, 1]\n"
     ]
    }
   ],
   "source": [
    "make_vibor(10)"
   ]
  },
  {
   "cell_type": "markdown",
   "metadata": {},
   "source": [
    "Для n = 100:"
   ]
  },
  {
   "cell_type": "code",
   "execution_count": 92,
   "metadata": {},
   "outputs": [
    {
     "name": "stdout",
     "output_type": "stream",
     "text": [
      "Реализация выборки объема 100: \n",
      "\n",
      "1): [13, 31, 14, 18, 47, 14, 1, 7, 2, 16, 1, 11, 6, 0, 13, 3, 1, 0, 6, 1, 26, 8, 29, 25, 4, 29, 21, 4, 9, 5, 6, 16, 10, 4, 34, 17, 1, 26, 7, 50, 0, 14, 9, 3, 23, 1, 0, 1, 0, 6, 5, 4, 2, 16, 9, 3, 2, 8, 17, 7, 28, 47, 16, 20, 9, 2, 9, 1, 18, 36, 3, 14, 1, 0, 4, 6, 0, 6, 1, 6, 27, 12, 22, 1, 0, 0, 13, 6, 11, 3, 3, 0, 1, 4, 44, 0, 5, 18, 1, 22]\n",
      "2): [0, 4, 3, 13, 16, 15, 2, 5, 9, 6, 26, 3, 11, 0, 16, 4, 13, 13, 1, 3, 2, 5, 1, 2, 0, 5, 9, 1, 26, 2, 4, 9, 10, 6, 2, 4, 4, 0, 10, 10, 0, 0, 3, 13, 20, 2, 4, 6, 13, 7, 13, 15, 0, 1, 2, 3, 3, 8, 8, 2, 14, 5, 9, 1, 0, 1, 13, 1, 21, 5, 13, 0, 7, 4, 17, 2, 10, 5, 15, 11, 1, 13, 7, 7, 3, 11, 28, 26, 28, 7, 13, 1, 31, 4, 1, 5, 4, 1, 12, 11]\n",
      "3): [6, 9, 11, 11, 0, 3, 16, 2, 3, 10, 1, 0, 16, 3, 9, 14, 3, 16, 17, 5, 15, 15, 3, 0, 15, 22, 17, 24, 0, 2, 2, 22, 15, 8, 9, 6, 22, 2, 2, 18, 19, 5, 7, 2, 15, 0, 4, 7, 1, 2, 0, 9, 5, 6, 10, 17, 2, 3, 1, 3, 0, 0, 19, 2, 5, 4, 4, 15, 6, 4, 14, 1, 2, 0, 4, 6, 18, 6, 7, 11, 2, 12, 1, 11, 1, 4, 3, 5, 9, 0, 4, 6, 3, 3, 9, 4, 19, 20, 5, 6]\n",
      "4): [4, 1, 7, 6, 29, 2, 14, 7, 1, 43, 1, 7, 8, 6, 2, 2, 3, 18, 9, 5, 6, 7, 2, 1, 6, 18, 1, 42, 19, 4, 7, 12, 0, 12, 9, 8, 0, 18, 26, 3, 3, 6, 19, 23, 13, 0, 0, 2, 5, 37, 3, 18, 6, 4, 10, 12, 5, 4, 5, 5, 8, 21, 0, 6, 4, 5, 4, 9, 78, 3, 39, 4, 27, 8, 34, 1, 2, 4, 17, 14, 0, 1, 6, 10, 3, 1, 7, 4, 16, 1, 10, 18, 12, 20, 2, 12, 1, 6, 9, 4]\n",
      "5): [9, 1, 18, 11, 33, 5, 8, 1, 15, 1, 7, 10, 0, 5, 6, 6, 15, 13, 0, 3, 12, 11, 5, 6, 1, 0, 11, 20, 37, 4, 5, 2, 3, 1, 2, 10, 35, 10, 1, 0, 4, 3, 0, 8, 1, 4, 4, 2, 0, 33, 10, 10, 21, 4, 3, 8, 1, 3, 27, 3, 1, 12, 16, 2, 7, 1, 17, 10, 2, 4, 3, 1, 8, 6, 7, 18, 32, 12, 0, 39, 5, 10, 32, 0, 13, 24, 14, 6, 9, 12, 1, 3, 16, 7, 35, 6, 10, 0, 1, 28]\n"
     ]
    }
   ],
   "source": [
    "make_vibor(100)"
   ]
  },
  {
   "cell_type": "markdown",
   "metadata": {},
   "source": [
    "Для n = 1000:"
   ]
  },
  {
   "cell_type": "code",
   "execution_count": null,
   "metadata": {},
   "outputs": [],
   "source": [
    "make_vibor(1000)"
   ]
  },
  {
   "cell_type": "markdown",
   "metadata": {},
   "source": [
    "Для n = 10**5:"
   ]
  },
  {
   "cell_type": "code",
   "execution_count": 20,
   "metadata": {},
   "outputs": [
    {
     "name": "stdout",
     "output_type": "stream",
     "text": [
      "Реализация выборки объема 10:  17 16 0 60 16 7 19 3 4 1\n"
     ]
    }
   ],
   "source": [
    "make_vibor(10**5)"
   ]
  },
  {
   "cell_type": "code",
   "execution_count": null,
   "metadata": {},
   "outputs": [],
   "source": []
  },
  {
   "cell_type": "markdown",
   "metadata": {},
   "source": [
    "<font color='red'> Построение эмпирической функции распределения </font> "
   ]
  },
  {
   "cell_type": "code",
   "execution_count": 264,
   "metadata": {},
   "outputs": [
    {
     "name": "stdout",
     "output_type": "stream",
     "text": [
      "Реализация выборки объема 5: \n",
      "\n",
      "1): [10, 5, 0, 19, 21]\n",
      "2): [0, 0, 8, 19, 7]\n",
      "3): [1, 1, 5, 9, 0]\n",
      "4): [0, 23, 2, 24, 27]\n",
      "5): [0, 5, 0, 28, 0]\n"
     ]
    }
   ],
   "source": [
    "M = make_vibor(5)"
   ]
  },
  {
   "cell_type": "code",
   "execution_count": 279,
   "metadata": {},
   "outputs": [],
   "source": [
    "def make_efr(M):\n",
    "    for sp in range(5):\n",
    "        dict_set = {}\n",
    "        for i in M[sp]:\n",
    "            #print(i)\n",
    "            s1 = sorted(set(i)) # вариационный ряд\n",
    "            capacity_vibor = len(s1)\n",
    "            \n",
    "            #словарь: ключ - случайная величина, значение - частота встречаемости\n",
    "            for k in s1:\n",
    "                dict_set[k] = [0, 0]\n",
    "\n",
    "            for t in i: \n",
    "                dict_set[t][0] += 1\n",
    "            \n",
    "            # Добавление в словарь второго значения - его вероятность \n",
    "            for s in dict_set:\n",
    "                a = dict_set[s][0] / capacity_vibor\n",
    "                dict_set[s][1] = float('{:.2f}'.format(a))\n",
    "            print(dict_set)\n",
    "            \n",
    "            \n",
    "    \n",
    "                    \n",
    "            \n",
    "    "
   ]
  },
  {
   "cell_type": "code",
   "execution_count": 280,
   "metadata": {},
   "outputs": [
    {
     "name": "stdout",
     "output_type": "stream",
     "text": [
      "{0: [1, 0.2], 5: [1, 0.2], 10: [1, 0.2], 19: [1, 0.2], 21: [1, 0.2]}\n",
      "{0: [2, 0.5], 7: [1, 0.25], 8: [1, 0.25], 19: [1, 0.25]}\n",
      "{0: [1, 0.25], 1: [2, 0.5], 5: [1, 0.25], 9: [1, 0.25]}\n",
      "{0: [1, 0.2], 2: [1, 0.2], 23: [1, 0.2], 24: [1, 0.2], 27: [1, 0.2]}\n",
      "{0: [3, 1.0], 5: [1, 0.33], 28: [1, 0.33]}\n"
     ]
    }
   ],
   "source": [
    "make_efr(M)"
   ]
  },
  {
   "cell_type": "markdown",
   "metadata": {},
   "source": [
    "<font color='red'> Построение вариационного ряда </font> "
   ]
  },
  {
   "cell_type": "markdown",
   "metadata": {},
   "source": [
    "Для удобства уберем все выводы"
   ]
  },
  {
   "cell_type": "code",
   "execution_count": 187,
   "metadata": {},
   "outputs": [],
   "source": [
    "import timeit\n",
    "import matplotlib.pyplot as plt\n",
    "import random\n",
    "import numpy as np\n",
    "import pylab\n",
    "import math \n",
    "\n",
    "# GeomDIM - третья модель моделирования\n",
    "def geomDIM(n, p = 0.1, m = 5):\n",
    "    lst = []\n",
    "    for i in range(n):\n",
    "        a = random.random()\n",
    "        e = math.floor(math.log(a,math.e) / math.log(1 - p,math.e) )\n",
    "        lst.append(e)\n",
    "        \n",
    "        \n",
    "    return lst\n",
    "\n",
    "\n",
    "# Создание m массивов выборки\n",
    "def make_vibor(m):\n",
    "    A = []\n",
    "    for i in range(5):\n",
    "        row = []\n",
    "        A.append(row)\n",
    "    \n",
    "        row.append(geomDIM(m))\n",
    "    return A\n",
    "    ''' \n",
    "    l = 1\n",
    "    print('Реализация выборки объема %d: '%m)\n",
    "    print('')\n",
    "    for k in A:\n",
    "        print('%d): '%l, end='')\n",
    "        print(*k)\n",
    "        l += 1\n",
    "    '''\n",
    "    "
   ]
  },
  {
   "cell_type": "code",
   "execution_count": 256,
   "metadata": {},
   "outputs": [],
   "source": [
    "#функция для построения вар.рядов для 5 реализаций  выборки M для n\n",
    "def make_var_row(n, M):\n",
    "    dict_set = {}\n",
    "    \n",
    "    print('Вариационные ряды для 5 реализаций выборки %d:  '%n)\n",
    "    print('')\n",
    "    \n",
    "    for sp in range(5):\n",
    "        dict_set = {}\n",
    "        for i in M[sp]:\n",
    "            s1 = sorted(set(i))\n",
    "            for k in s1:\n",
    "                dict_set[k] = 0\n",
    "\n",
    "            for t in i:\n",
    "                dict_set[t] += 1\n",
    "\n",
    "            \n",
    "            print('X:', end= '\\t')\n",
    "            \n",
    "            for elem in dict_set:\n",
    "                print(elem, end='\\t')\n",
    "            print('')\n",
    "            print('----------'*n)\n",
    "            print('f:', end= '\\t')\n",
    "            \n",
    "            for elem in dict_set:\n",
    "                print(dict_set[elem], end='\\t')\n",
    "            print('')\n",
    "            print('')\n",
    "            print('')\n",
    "            print('')\n",
    "            #print('------')"
   ]
  },
  {
   "cell_type": "markdown",
   "metadata": {},
   "source": [
    "Для n = 5"
   ]
  },
  {
   "cell_type": "code",
   "execution_count": 257,
   "metadata": {},
   "outputs": [],
   "source": [
    "M1 = make_vibor(5)"
   ]
  },
  {
   "cell_type": "code",
   "execution_count": 258,
   "metadata": {},
   "outputs": [
    {
     "name": "stdout",
     "output_type": "stream",
     "text": [
      "Вариационные ряды для 5 реализаций выборки 5:  \n",
      "\n",
      "X:\t0\t5\t11\t16\t28\t\n",
      "--------------------------------------------------\n",
      "f:\t1\t1\t1\t1\t1\t\n",
      "\n",
      "\n",
      "\n",
      "X:\t0\t6\t7\t\n",
      "--------------------------------------------------\n",
      "f:\t1\t1\t3\t\n",
      "\n",
      "\n",
      "\n",
      "X:\t0\t9\t11\t12\t16\t\n",
      "--------------------------------------------------\n",
      "f:\t1\t1\t1\t1\t1\t\n",
      "\n",
      "\n",
      "\n",
      "X:\t0\t1\t3\t6\t7\t\n",
      "--------------------------------------------------\n",
      "f:\t1\t1\t1\t1\t1\t\n",
      "\n",
      "\n",
      "\n",
      "X:\t1\t2\t4\t27\t\n",
      "--------------------------------------------------\n",
      "f:\t1\t1\t2\t1\t\n",
      "\n",
      "\n",
      "\n"
     ]
    }
   ],
   "source": [
    "make_var_row(5, M1)"
   ]
  },
  {
   "cell_type": "markdown",
   "metadata": {},
   "source": [
    "Для n = 10"
   ]
  },
  {
   "cell_type": "code",
   "execution_count": 259,
   "metadata": {},
   "outputs": [],
   "source": [
    "M2 = make_vibor(10)"
   ]
  },
  {
   "cell_type": "code",
   "execution_count": 260,
   "metadata": {},
   "outputs": [
    {
     "name": "stdout",
     "output_type": "stream",
     "text": [
      "Вариационные ряды для 5 реализаций выборки 10:  \n",
      "\n",
      "X:\t0\t2\t3\t5\t7\t9\t10\t11\t22\t\n",
      "----------------------------------------------------------------------------------------------------\n",
      "f:\t1\t1\t1\t1\t1\t1\t2\t1\t1\t\n",
      "\n",
      "\n",
      "\n",
      "X:\t0\t1\t2\t4\t6\t7\t22\t24\t\n",
      "----------------------------------------------------------------------------------------------------\n",
      "f:\t1\t1\t1\t1\t3\t1\t1\t1\t\n",
      "\n",
      "\n",
      "\n",
      "X:\t1\t2\t3\t4\t10\t12\t13\t14\t15\t\n",
      "----------------------------------------------------------------------------------------------------\n",
      "f:\t1\t2\t1\t1\t1\t1\t1\t1\t1\t\n",
      "\n",
      "\n",
      "\n",
      "X:\t0\t2\t4\t5\t10\t12\t14\t26\t30\t\n",
      "----------------------------------------------------------------------------------------------------\n",
      "f:\t2\t1\t1\t1\t1\t1\t1\t1\t1\t\n",
      "\n",
      "\n",
      "\n",
      "X:\t1\t2\t4\t8\t9\t13\t14\t28\t\n",
      "----------------------------------------------------------------------------------------------------\n",
      "f:\t1\t1\t1\t3\t1\t1\t1\t1\t\n",
      "\n",
      "\n",
      "\n"
     ]
    }
   ],
   "source": [
    "make_var_row(10, M2)"
   ]
  },
  {
   "cell_type": "markdown",
   "metadata": {},
   "source": [
    "Для n = 100:"
   ]
  },
  {
   "cell_type": "code",
   "execution_count": 238,
   "metadata": {},
   "outputs": [],
   "source": [
    "M3 = make_vibor(100)"
   ]
  },
  {
   "cell_type": "markdown",
   "metadata": {},
   "source": [
    "make_var_row(100, M3)"
   ]
  },
  {
   "cell_type": "markdown",
   "metadata": {},
   "source": [
    "Для n = 1000:"
   ]
  },
  {
   "cell_type": "code",
   "execution_count": 241,
   "metadata": {},
   "outputs": [],
   "source": [
    "M4 = make_vibor(1000)"
   ]
  },
  {
   "cell_type": "code",
   "execution_count": null,
   "metadata": {},
   "outputs": [],
   "source": [
    "make_var_row(1000, M4)"
   ]
  },
  {
   "cell_type": "markdown",
   "metadata": {},
   "source": [
    "Для n = 10**5"
   ]
  },
  {
   "cell_type": "code",
   "execution_count": 244,
   "metadata": {},
   "outputs": [],
   "source": [
    "M5 = make_vibor(10**5)"
   ]
  },
  {
   "cell_type": "code",
   "execution_count": null,
   "metadata": {},
   "outputs": [],
   "source": [
    "make_var_row(10**5, M5)"
   ]
  }
 ],
 "metadata": {
  "kernelspec": {
   "display_name": "Python 3",
   "language": "python",
   "name": "python3"
  },
  "language_info": {
   "codemirror_mode": {
    "name": "ipython",
    "version": 3
   },
   "file_extension": ".py",
   "mimetype": "text/x-python",
   "name": "python",
   "nbconvert_exporter": "python",
   "pygments_lexer": "ipython3",
   "version": "3.7.3"
  }
 },
 "nbformat": 4,
 "nbformat_minor": 2
}
